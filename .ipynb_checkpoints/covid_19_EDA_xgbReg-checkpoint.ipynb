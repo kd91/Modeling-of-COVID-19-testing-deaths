{
 "cells": [
  {
   "cell_type": "code",
   "execution_count": 1,
   "metadata": {},
   "outputs": [],
   "source": [
    "import pandas as pd\n",
    "import numpy as np\n",
    "import seaborn as sns\n",
    "import matplotlib.pyplot as plt\n",
    "from sklearn.preprocessing import MinMaxScaler\n",
    "from sklearn.impute import SimpleImputer\n",
    "from sklearn.model_selection import train_test_split, GridSearchCV, cross_val_score, KFold\n",
    "from sklearn.metrics import mean_squared_error, mean_absolute_error, r2_score\n",
    "from xgboost import XGBRegressor\n",
    "from xgboost import plot_importance\n",
    "import time"
   ]
  },
  {
   "cell_type": "markdown",
   "metadata": {},
   "source": [
    "## Read two csv from john hopkin's and merge into df"
   ]
  },
  {
   "cell_type": "code",
   "execution_count": 2,
   "metadata": {
    "scrolled": true
   },
   "outputs": [
    {
     "name": "stdout",
     "output_type": "stream",
     "text": [
      "<class 'pandas.core.frame.DataFrame'>\n",
      "RangeIndex: 72 entries, 0 to 71\n",
      "Data columns (total 7 columns):\n",
      "country          72 non-null object\n",
      "date             72 non-null object\n",
      "confirmed        72 non-null int64\n",
      "deaths           72 non-null int64\n",
      "new_confirmed    72 non-null int64\n",
      "new_deaths       72 non-null int64\n",
      "tagged_day       72 non-null int64\n",
      "dtypes: int64(5), object(2)\n",
      "memory usage: 4.1+ KB\n"
     ]
    },
    {
     "data": {
      "text/plain": [
       "None"
      ]
     },
     "metadata": {},
     "output_type": "display_data"
    },
    {
     "data": {
      "text/html": [
       "<div>\n",
       "<style scoped>\n",
       "    .dataframe tbody tr th:only-of-type {\n",
       "        vertical-align: middle;\n",
       "    }\n",
       "\n",
       "    .dataframe tbody tr th {\n",
       "        vertical-align: top;\n",
       "    }\n",
       "\n",
       "    .dataframe thead th {\n",
       "        text-align: right;\n",
       "    }\n",
       "</style>\n",
       "<table border=\"1\" class=\"dataframe\">\n",
       "  <thead>\n",
       "    <tr style=\"text-align: right;\">\n",
       "      <th></th>\n",
       "      <th>country</th>\n",
       "      <th>date</th>\n",
       "      <th>confirmed</th>\n",
       "      <th>deaths</th>\n",
       "      <th>new_confirmed</th>\n",
       "      <th>new_deaths</th>\n",
       "      <th>tagged_day</th>\n",
       "    </tr>\n",
       "  </thead>\n",
       "  <tbody>\n",
       "    <tr>\n",
       "      <td>0</td>\n",
       "      <td>US</td>\n",
       "      <td>2/24/20</td>\n",
       "      <td>51</td>\n",
       "      <td>0</td>\n",
       "      <td>36</td>\n",
       "      <td>0</td>\n",
       "      <td>1</td>\n",
       "    </tr>\n",
       "    <tr>\n",
       "      <td>1</td>\n",
       "      <td>US</td>\n",
       "      <td>2/25/20</td>\n",
       "      <td>51</td>\n",
       "      <td>0</td>\n",
       "      <td>0</td>\n",
       "      <td>0</td>\n",
       "      <td>2</td>\n",
       "    </tr>\n",
       "    <tr>\n",
       "      <td>2</td>\n",
       "      <td>US</td>\n",
       "      <td>2/26/20</td>\n",
       "      <td>57</td>\n",
       "      <td>0</td>\n",
       "      <td>6</td>\n",
       "      <td>0</td>\n",
       "      <td>3</td>\n",
       "    </tr>\n",
       "    <tr>\n",
       "      <td>3</td>\n",
       "      <td>US</td>\n",
       "      <td>2/27/20</td>\n",
       "      <td>58</td>\n",
       "      <td>0</td>\n",
       "      <td>1</td>\n",
       "      <td>0</td>\n",
       "      <td>4</td>\n",
       "    </tr>\n",
       "    <tr>\n",
       "      <td>4</td>\n",
       "      <td>US</td>\n",
       "      <td>2/28/20</td>\n",
       "      <td>60</td>\n",
       "      <td>0</td>\n",
       "      <td>2</td>\n",
       "      <td>0</td>\n",
       "      <td>5</td>\n",
       "    </tr>\n",
       "  </tbody>\n",
       "</table>\n",
       "</div>"
      ],
      "text/plain": [
       "  country     date  confirmed  deaths  new_confirmed  new_deaths  tagged_day\n",
       "0      US  2/24/20         51       0             36           0           1\n",
       "1      US  2/25/20         51       0              0           0           2\n",
       "2      US  2/26/20         57       0              6           0           3\n",
       "3      US  2/27/20         58       0              1           0           4\n",
       "4      US  2/28/20         60       0              2           0           5"
      ]
     },
     "execution_count": 2,
     "metadata": {},
     "output_type": "execute_result"
    }
   ],
   "source": [
    "usa = pd.read_csv(\"data/US_2020-05-06.csv\") \n",
    "display(usa.info())\n",
    "usa.head()"
   ]
  },
  {
   "cell_type": "code",
   "execution_count": 3,
   "metadata": {
    "scrolled": true
   },
   "outputs": [
    {
     "name": "stdout",
     "output_type": "stream",
     "text": [
      "<class 'pandas.core.frame.DataFrame'>\n",
      "RangeIndex: 90 entries, 0 to 89\n",
      "Data columns (total 7 columns):\n",
      "country          90 non-null object\n",
      "date             90 non-null object\n",
      "confirmed        90 non-null int64\n",
      "deaths           90 non-null int64\n",
      "new_confirmed    90 non-null int64\n",
      "new_deaths       90 non-null int64\n",
      "tagged_day       90 non-null int64\n",
      "dtypes: int64(5), object(2)\n",
      "memory usage: 5.0+ KB\n"
     ]
    },
    {
     "data": {
      "text/plain": [
       "None"
      ]
     },
     "metadata": {},
     "output_type": "display_data"
    },
    {
     "data": {
      "text/html": [
       "<div>\n",
       "<style scoped>\n",
       "    .dataframe tbody tr th:only-of-type {\n",
       "        vertical-align: middle;\n",
       "    }\n",
       "\n",
       "    .dataframe tbody tr th {\n",
       "        vertical-align: top;\n",
       "    }\n",
       "\n",
       "    .dataframe thead th {\n",
       "        text-align: right;\n",
       "    }\n",
       "</style>\n",
       "<table border=\"1\" class=\"dataframe\">\n",
       "  <thead>\n",
       "    <tr style=\"text-align: right;\">\n",
       "      <th></th>\n",
       "      <th>country</th>\n",
       "      <th>date</th>\n",
       "      <th>confirmed</th>\n",
       "      <th>deaths</th>\n",
       "      <th>new_confirmed</th>\n",
       "      <th>new_deaths</th>\n",
       "      <th>tagged_day</th>\n",
       "    </tr>\n",
       "  </thead>\n",
       "  <tbody>\n",
       "    <tr>\n",
       "      <td>0</td>\n",
       "      <td>Korea, South</td>\n",
       "      <td>2/6/20</td>\n",
       "      <td>23</td>\n",
       "      <td>0</td>\n",
       "      <td>4</td>\n",
       "      <td>0</td>\n",
       "      <td>1</td>\n",
       "    </tr>\n",
       "    <tr>\n",
       "      <td>1</td>\n",
       "      <td>Korea, South</td>\n",
       "      <td>2/7/20</td>\n",
       "      <td>24</td>\n",
       "      <td>0</td>\n",
       "      <td>1</td>\n",
       "      <td>0</td>\n",
       "      <td>2</td>\n",
       "    </tr>\n",
       "    <tr>\n",
       "      <td>2</td>\n",
       "      <td>Korea, South</td>\n",
       "      <td>2/8/20</td>\n",
       "      <td>24</td>\n",
       "      <td>0</td>\n",
       "      <td>0</td>\n",
       "      <td>0</td>\n",
       "      <td>3</td>\n",
       "    </tr>\n",
       "    <tr>\n",
       "      <td>3</td>\n",
       "      <td>Korea, South</td>\n",
       "      <td>2/9/20</td>\n",
       "      <td>25</td>\n",
       "      <td>0</td>\n",
       "      <td>1</td>\n",
       "      <td>0</td>\n",
       "      <td>4</td>\n",
       "    </tr>\n",
       "    <tr>\n",
       "      <td>4</td>\n",
       "      <td>Korea, South</td>\n",
       "      <td>2/10/20</td>\n",
       "      <td>27</td>\n",
       "      <td>0</td>\n",
       "      <td>2</td>\n",
       "      <td>0</td>\n",
       "      <td>5</td>\n",
       "    </tr>\n",
       "  </tbody>\n",
       "</table>\n",
       "</div>"
      ],
      "text/plain": [
       "        country     date  confirmed  deaths  new_confirmed  new_deaths  \\\n",
       "0  Korea, South   2/6/20         23       0              4           0   \n",
       "1  Korea, South   2/7/20         24       0              1           0   \n",
       "2  Korea, South   2/8/20         24       0              0           0   \n",
       "3  Korea, South   2/9/20         25       0              1           0   \n",
       "4  Korea, South  2/10/20         27       0              2           0   \n",
       "\n",
       "   tagged_day  \n",
       "0           1  \n",
       "1           2  \n",
       "2           3  \n",
       "3           4  \n",
       "4           5  "
      ]
     },
     "execution_count": 3,
     "metadata": {},
     "output_type": "execute_result"
    }
   ],
   "source": [
    "kor = pd.read_csv(\"data/SouthKorea_2020-05-06.csv\") \n",
    "display(kor.info())\n",
    "kor.head()"
   ]
  },
  {
   "cell_type": "code",
   "execution_count": 4,
   "metadata": {
    "scrolled": true
   },
   "outputs": [
    {
     "name": "stdout",
     "output_type": "stream",
     "text": [
      "<class 'pandas.core.frame.DataFrame'>\n",
      "Int64Index: 162 entries, 0 to 89\n",
      "Data columns (total 7 columns):\n",
      "country          162 non-null object\n",
      "date             162 non-null object\n",
      "confirmed        162 non-null int64\n",
      "deaths           162 non-null int64\n",
      "new_confirmed    162 non-null int64\n",
      "new_deaths       162 non-null int64\n",
      "tagged_day       162 non-null int64\n",
      "dtypes: int64(5), object(2)\n",
      "memory usage: 10.1+ KB\n"
     ]
    },
    {
     "data": {
      "text/plain": [
       "None"
      ]
     },
     "metadata": {},
     "output_type": "display_data"
    },
    {
     "data": {
      "text/html": [
       "<div>\n",
       "<style scoped>\n",
       "    .dataframe tbody tr th:only-of-type {\n",
       "        vertical-align: middle;\n",
       "    }\n",
       "\n",
       "    .dataframe tbody tr th {\n",
       "        vertical-align: top;\n",
       "    }\n",
       "\n",
       "    .dataframe thead th {\n",
       "        text-align: right;\n",
       "    }\n",
       "</style>\n",
       "<table border=\"1\" class=\"dataframe\">\n",
       "  <thead>\n",
       "    <tr style=\"text-align: right;\">\n",
       "      <th></th>\n",
       "      <th>country</th>\n",
       "      <th>date</th>\n",
       "      <th>confirmed</th>\n",
       "      <th>deaths</th>\n",
       "      <th>new_confirmed</th>\n",
       "      <th>new_deaths</th>\n",
       "      <th>tagged_day</th>\n",
       "    </tr>\n",
       "  </thead>\n",
       "  <tbody>\n",
       "    <tr>\n",
       "      <td>0</td>\n",
       "      <td>US</td>\n",
       "      <td>2/24/20</td>\n",
       "      <td>51</td>\n",
       "      <td>0</td>\n",
       "      <td>36</td>\n",
       "      <td>0</td>\n",
       "      <td>1</td>\n",
       "    </tr>\n",
       "    <tr>\n",
       "      <td>1</td>\n",
       "      <td>US</td>\n",
       "      <td>2/25/20</td>\n",
       "      <td>51</td>\n",
       "      <td>0</td>\n",
       "      <td>0</td>\n",
       "      <td>0</td>\n",
       "      <td>2</td>\n",
       "    </tr>\n",
       "    <tr>\n",
       "      <td>2</td>\n",
       "      <td>US</td>\n",
       "      <td>2/26/20</td>\n",
       "      <td>57</td>\n",
       "      <td>0</td>\n",
       "      <td>6</td>\n",
       "      <td>0</td>\n",
       "      <td>3</td>\n",
       "    </tr>\n",
       "    <tr>\n",
       "      <td>3</td>\n",
       "      <td>US</td>\n",
       "      <td>2/27/20</td>\n",
       "      <td>58</td>\n",
       "      <td>0</td>\n",
       "      <td>1</td>\n",
       "      <td>0</td>\n",
       "      <td>4</td>\n",
       "    </tr>\n",
       "    <tr>\n",
       "      <td>4</td>\n",
       "      <td>US</td>\n",
       "      <td>2/28/20</td>\n",
       "      <td>60</td>\n",
       "      <td>0</td>\n",
       "      <td>2</td>\n",
       "      <td>0</td>\n",
       "      <td>5</td>\n",
       "    </tr>\n",
       "    <tr>\n",
       "      <td>...</td>\n",
       "      <td>...</td>\n",
       "      <td>...</td>\n",
       "      <td>...</td>\n",
       "      <td>...</td>\n",
       "      <td>...</td>\n",
       "      <td>...</td>\n",
       "      <td>...</td>\n",
       "    </tr>\n",
       "    <tr>\n",
       "      <td>85</td>\n",
       "      <td>Korea, South</td>\n",
       "      <td>5/1/20</td>\n",
       "      <td>10780</td>\n",
       "      <td>250</td>\n",
       "      <td>6</td>\n",
       "      <td>2</td>\n",
       "      <td>86</td>\n",
       "    </tr>\n",
       "    <tr>\n",
       "      <td>86</td>\n",
       "      <td>Korea, South</td>\n",
       "      <td>5/2/20</td>\n",
       "      <td>10793</td>\n",
       "      <td>250</td>\n",
       "      <td>13</td>\n",
       "      <td>0</td>\n",
       "      <td>87</td>\n",
       "    </tr>\n",
       "    <tr>\n",
       "      <td>87</td>\n",
       "      <td>Korea, South</td>\n",
       "      <td>5/3/20</td>\n",
       "      <td>10801</td>\n",
       "      <td>252</td>\n",
       "      <td>8</td>\n",
       "      <td>2</td>\n",
       "      <td>88</td>\n",
       "    </tr>\n",
       "    <tr>\n",
       "      <td>88</td>\n",
       "      <td>Korea, South</td>\n",
       "      <td>5/4/20</td>\n",
       "      <td>10804</td>\n",
       "      <td>254</td>\n",
       "      <td>3</td>\n",
       "      <td>2</td>\n",
       "      <td>89</td>\n",
       "    </tr>\n",
       "    <tr>\n",
       "      <td>89</td>\n",
       "      <td>Korea, South</td>\n",
       "      <td>5/5/20</td>\n",
       "      <td>10806</td>\n",
       "      <td>255</td>\n",
       "      <td>2</td>\n",
       "      <td>1</td>\n",
       "      <td>90</td>\n",
       "    </tr>\n",
       "  </tbody>\n",
       "</table>\n",
       "<p>162 rows × 7 columns</p>\n",
       "</div>"
      ],
      "text/plain": [
       "         country     date  confirmed  deaths  new_confirmed  new_deaths  \\\n",
       "0             US  2/24/20         51       0             36           0   \n",
       "1             US  2/25/20         51       0              0           0   \n",
       "2             US  2/26/20         57       0              6           0   \n",
       "3             US  2/27/20         58       0              1           0   \n",
       "4             US  2/28/20         60       0              2           0   \n",
       "..           ...      ...        ...     ...            ...         ...   \n",
       "85  Korea, South   5/1/20      10780     250              6           2   \n",
       "86  Korea, South   5/2/20      10793     250             13           0   \n",
       "87  Korea, South   5/3/20      10801     252              8           2   \n",
       "88  Korea, South   5/4/20      10804     254              3           2   \n",
       "89  Korea, South   5/5/20      10806     255              2           1   \n",
       "\n",
       "    tagged_day  \n",
       "0            1  \n",
       "1            2  \n",
       "2            3  \n",
       "3            4  \n",
       "4            5  \n",
       "..         ...  \n",
       "85          86  \n",
       "86          87  \n",
       "87          88  \n",
       "88          89  \n",
       "89          90  \n",
       "\n",
       "[162 rows x 7 columns]"
      ]
     },
     "execution_count": 4,
     "metadata": {},
     "output_type": "execute_result"
    }
   ],
   "source": [
    "# joining on vertical stacks (axi s0 for addition to rows) for df's of kor & usa\n",
    "df = pd.concat([usa, kor], axis=0)\n",
    "display(df.info())\n",
    "df"
   ]
  },
  {
   "cell_type": "code",
   "execution_count": 5,
   "metadata": {},
   "outputs": [
    {
     "name": "stdout",
     "output_type": "stream",
     "text": [
      "<class 'pandas.core.frame.DataFrame'>\n",
      "Int64Index: 162 entries, 0 to 89\n",
      "Data columns (total 7 columns):\n",
      "country          162 non-null object\n",
      "date             162 non-null datetime64[ns]\n",
      "confirmed        162 non-null int64\n",
      "deaths           162 non-null int64\n",
      "new_confirmed    162 non-null int64\n",
      "new_deaths       162 non-null int64\n",
      "tagged_day       162 non-null int64\n",
      "dtypes: datetime64[ns](1), int64(5), object(1)\n",
      "memory usage: 10.1+ KB\n"
     ]
    },
    {
     "data": {
      "text/plain": [
       "None"
      ]
     },
     "metadata": {},
     "output_type": "display_data"
    },
    {
     "data": {
      "text/html": [
       "<div>\n",
       "<style scoped>\n",
       "    .dataframe tbody tr th:only-of-type {\n",
       "        vertical-align: middle;\n",
       "    }\n",
       "\n",
       "    .dataframe tbody tr th {\n",
       "        vertical-align: top;\n",
       "    }\n",
       "\n",
       "    .dataframe thead th {\n",
       "        text-align: right;\n",
       "    }\n",
       "</style>\n",
       "<table border=\"1\" class=\"dataframe\">\n",
       "  <thead>\n",
       "    <tr style=\"text-align: right;\">\n",
       "      <th></th>\n",
       "      <th>country</th>\n",
       "      <th>date</th>\n",
       "      <th>confirmed</th>\n",
       "      <th>deaths</th>\n",
       "      <th>new_confirmed</th>\n",
       "      <th>new_deaths</th>\n",
       "      <th>tagged_day</th>\n",
       "    </tr>\n",
       "  </thead>\n",
       "  <tbody>\n",
       "    <tr>\n",
       "      <td>0</td>\n",
       "      <td>US</td>\n",
       "      <td>2020-02-24</td>\n",
       "      <td>51</td>\n",
       "      <td>0</td>\n",
       "      <td>36</td>\n",
       "      <td>0</td>\n",
       "      <td>1</td>\n",
       "    </tr>\n",
       "    <tr>\n",
       "      <td>1</td>\n",
       "      <td>US</td>\n",
       "      <td>2020-02-25</td>\n",
       "      <td>51</td>\n",
       "      <td>0</td>\n",
       "      <td>0</td>\n",
       "      <td>0</td>\n",
       "      <td>2</td>\n",
       "    </tr>\n",
       "    <tr>\n",
       "      <td>2</td>\n",
       "      <td>US</td>\n",
       "      <td>2020-02-26</td>\n",
       "      <td>57</td>\n",
       "      <td>0</td>\n",
       "      <td>6</td>\n",
       "      <td>0</td>\n",
       "      <td>3</td>\n",
       "    </tr>\n",
       "    <tr>\n",
       "      <td>3</td>\n",
       "      <td>US</td>\n",
       "      <td>2020-02-27</td>\n",
       "      <td>58</td>\n",
       "      <td>0</td>\n",
       "      <td>1</td>\n",
       "      <td>0</td>\n",
       "      <td>4</td>\n",
       "    </tr>\n",
       "    <tr>\n",
       "      <td>4</td>\n",
       "      <td>US</td>\n",
       "      <td>2020-02-28</td>\n",
       "      <td>60</td>\n",
       "      <td>0</td>\n",
       "      <td>2</td>\n",
       "      <td>0</td>\n",
       "      <td>5</td>\n",
       "    </tr>\n",
       "    <tr>\n",
       "      <td>...</td>\n",
       "      <td>...</td>\n",
       "      <td>...</td>\n",
       "      <td>...</td>\n",
       "      <td>...</td>\n",
       "      <td>...</td>\n",
       "      <td>...</td>\n",
       "      <td>...</td>\n",
       "    </tr>\n",
       "    <tr>\n",
       "      <td>85</td>\n",
       "      <td>Korea, South</td>\n",
       "      <td>2020-05-01</td>\n",
       "      <td>10780</td>\n",
       "      <td>250</td>\n",
       "      <td>6</td>\n",
       "      <td>2</td>\n",
       "      <td>86</td>\n",
       "    </tr>\n",
       "    <tr>\n",
       "      <td>86</td>\n",
       "      <td>Korea, South</td>\n",
       "      <td>2020-05-02</td>\n",
       "      <td>10793</td>\n",
       "      <td>250</td>\n",
       "      <td>13</td>\n",
       "      <td>0</td>\n",
       "      <td>87</td>\n",
       "    </tr>\n",
       "    <tr>\n",
       "      <td>87</td>\n",
       "      <td>Korea, South</td>\n",
       "      <td>2020-05-03</td>\n",
       "      <td>10801</td>\n",
       "      <td>252</td>\n",
       "      <td>8</td>\n",
       "      <td>2</td>\n",
       "      <td>88</td>\n",
       "    </tr>\n",
       "    <tr>\n",
       "      <td>88</td>\n",
       "      <td>Korea, South</td>\n",
       "      <td>2020-05-04</td>\n",
       "      <td>10804</td>\n",
       "      <td>254</td>\n",
       "      <td>3</td>\n",
       "      <td>2</td>\n",
       "      <td>89</td>\n",
       "    </tr>\n",
       "    <tr>\n",
       "      <td>89</td>\n",
       "      <td>Korea, South</td>\n",
       "      <td>2020-05-05</td>\n",
       "      <td>10806</td>\n",
       "      <td>255</td>\n",
       "      <td>2</td>\n",
       "      <td>1</td>\n",
       "      <td>90</td>\n",
       "    </tr>\n",
       "  </tbody>\n",
       "</table>\n",
       "<p>162 rows × 7 columns</p>\n",
       "</div>"
      ],
      "text/plain": [
       "         country       date  confirmed  deaths  new_confirmed  new_deaths  \\\n",
       "0             US 2020-02-24         51       0             36           0   \n",
       "1             US 2020-02-25         51       0              0           0   \n",
       "2             US 2020-02-26         57       0              6           0   \n",
       "3             US 2020-02-27         58       0              1           0   \n",
       "4             US 2020-02-28         60       0              2           0   \n",
       "..           ...        ...        ...     ...            ...         ...   \n",
       "85  Korea, South 2020-05-01      10780     250              6           2   \n",
       "86  Korea, South 2020-05-02      10793     250             13           0   \n",
       "87  Korea, South 2020-05-03      10801     252              8           2   \n",
       "88  Korea, South 2020-05-04      10804     254              3           2   \n",
       "89  Korea, South 2020-05-05      10806     255              2           1   \n",
       "\n",
       "    tagged_day  \n",
       "0            1  \n",
       "1            2  \n",
       "2            3  \n",
       "3            4  \n",
       "4            5  \n",
       "..         ...  \n",
       "85          86  \n",
       "86          87  \n",
       "87          88  \n",
       "88          89  \n",
       "89          90  \n",
       "\n",
       "[162 rows x 7 columns]"
      ]
     },
     "execution_count": 5,
     "metadata": {},
     "output_type": "execute_result"
    }
   ],
   "source": [
    "# change date to type datetime\n",
    "df['date'] = pd.to_datetime(df.date)\n",
    "display(df.info())\n",
    "df"
   ]
  },
  {
   "cell_type": "markdown",
   "metadata": {},
   "source": [
    "#### add country code column to df"
   ]
  },
  {
   "cell_type": "code",
   "execution_count": 6,
   "metadata": {},
   "outputs": [],
   "source": [
    "def country_code(row):\n",
    "    if row['country'] == 'US':\n",
    "        return 'USA'\n",
    "    if row['country'] == 'Korea, South':\n",
    "        return 'KOR'"
   ]
  },
  {
   "cell_type": "code",
   "execution_count": 7,
   "metadata": {},
   "outputs": [
    {
     "data": {
      "text/plain": [
       "0     USA\n",
       "1     USA\n",
       "2     USA\n",
       "3     USA\n",
       "4     USA\n",
       "     ... \n",
       "85    KOR\n",
       "86    KOR\n",
       "87    KOR\n",
       "88    KOR\n",
       "89    KOR\n",
       "Length: 162, dtype: object"
      ]
     },
     "execution_count": 7,
     "metadata": {},
     "output_type": "execute_result"
    }
   ],
   "source": [
    "df.apply(lambda row: country_code(row), axis=1)"
   ]
  },
  {
   "cell_type": "code",
   "execution_count": 8,
   "metadata": {},
   "outputs": [
    {
     "data": {
      "text/html": [
       "<div>\n",
       "<style scoped>\n",
       "    .dataframe tbody tr th:only-of-type {\n",
       "        vertical-align: middle;\n",
       "    }\n",
       "\n",
       "    .dataframe tbody tr th {\n",
       "        vertical-align: top;\n",
       "    }\n",
       "\n",
       "    .dataframe thead th {\n",
       "        text-align: right;\n",
       "    }\n",
       "</style>\n",
       "<table border=\"1\" class=\"dataframe\">\n",
       "  <thead>\n",
       "    <tr style=\"text-align: right;\">\n",
       "      <th></th>\n",
       "      <th>country</th>\n",
       "      <th>date</th>\n",
       "      <th>confirmed</th>\n",
       "      <th>deaths</th>\n",
       "      <th>new_confirmed</th>\n",
       "      <th>new_deaths</th>\n",
       "      <th>tagged_day</th>\n",
       "      <th>country code</th>\n",
       "    </tr>\n",
       "  </thead>\n",
       "  <tbody>\n",
       "    <tr>\n",
       "      <td>0</td>\n",
       "      <td>US</td>\n",
       "      <td>2020-02-24</td>\n",
       "      <td>51</td>\n",
       "      <td>0</td>\n",
       "      <td>36</td>\n",
       "      <td>0</td>\n",
       "      <td>1</td>\n",
       "      <td>USA</td>\n",
       "    </tr>\n",
       "    <tr>\n",
       "      <td>1</td>\n",
       "      <td>US</td>\n",
       "      <td>2020-02-25</td>\n",
       "      <td>51</td>\n",
       "      <td>0</td>\n",
       "      <td>0</td>\n",
       "      <td>0</td>\n",
       "      <td>2</td>\n",
       "      <td>USA</td>\n",
       "    </tr>\n",
       "    <tr>\n",
       "      <td>2</td>\n",
       "      <td>US</td>\n",
       "      <td>2020-02-26</td>\n",
       "      <td>57</td>\n",
       "      <td>0</td>\n",
       "      <td>6</td>\n",
       "      <td>0</td>\n",
       "      <td>3</td>\n",
       "      <td>USA</td>\n",
       "    </tr>\n",
       "    <tr>\n",
       "      <td>3</td>\n",
       "      <td>US</td>\n",
       "      <td>2020-02-27</td>\n",
       "      <td>58</td>\n",
       "      <td>0</td>\n",
       "      <td>1</td>\n",
       "      <td>0</td>\n",
       "      <td>4</td>\n",
       "      <td>USA</td>\n",
       "    </tr>\n",
       "    <tr>\n",
       "      <td>4</td>\n",
       "      <td>US</td>\n",
       "      <td>2020-02-28</td>\n",
       "      <td>60</td>\n",
       "      <td>0</td>\n",
       "      <td>2</td>\n",
       "      <td>0</td>\n",
       "      <td>5</td>\n",
       "      <td>USA</td>\n",
       "    </tr>\n",
       "    <tr>\n",
       "      <td>...</td>\n",
       "      <td>...</td>\n",
       "      <td>...</td>\n",
       "      <td>...</td>\n",
       "      <td>...</td>\n",
       "      <td>...</td>\n",
       "      <td>...</td>\n",
       "      <td>...</td>\n",
       "      <td>...</td>\n",
       "    </tr>\n",
       "    <tr>\n",
       "      <td>85</td>\n",
       "      <td>Korea, South</td>\n",
       "      <td>2020-05-01</td>\n",
       "      <td>10780</td>\n",
       "      <td>250</td>\n",
       "      <td>6</td>\n",
       "      <td>2</td>\n",
       "      <td>86</td>\n",
       "      <td>KOR</td>\n",
       "    </tr>\n",
       "    <tr>\n",
       "      <td>86</td>\n",
       "      <td>Korea, South</td>\n",
       "      <td>2020-05-02</td>\n",
       "      <td>10793</td>\n",
       "      <td>250</td>\n",
       "      <td>13</td>\n",
       "      <td>0</td>\n",
       "      <td>87</td>\n",
       "      <td>KOR</td>\n",
       "    </tr>\n",
       "    <tr>\n",
       "      <td>87</td>\n",
       "      <td>Korea, South</td>\n",
       "      <td>2020-05-03</td>\n",
       "      <td>10801</td>\n",
       "      <td>252</td>\n",
       "      <td>8</td>\n",
       "      <td>2</td>\n",
       "      <td>88</td>\n",
       "      <td>KOR</td>\n",
       "    </tr>\n",
       "    <tr>\n",
       "      <td>88</td>\n",
       "      <td>Korea, South</td>\n",
       "      <td>2020-05-04</td>\n",
       "      <td>10804</td>\n",
       "      <td>254</td>\n",
       "      <td>3</td>\n",
       "      <td>2</td>\n",
       "      <td>89</td>\n",
       "      <td>KOR</td>\n",
       "    </tr>\n",
       "    <tr>\n",
       "      <td>89</td>\n",
       "      <td>Korea, South</td>\n",
       "      <td>2020-05-05</td>\n",
       "      <td>10806</td>\n",
       "      <td>255</td>\n",
       "      <td>2</td>\n",
       "      <td>1</td>\n",
       "      <td>90</td>\n",
       "      <td>KOR</td>\n",
       "    </tr>\n",
       "  </tbody>\n",
       "</table>\n",
       "<p>162 rows × 8 columns</p>\n",
       "</div>"
      ],
      "text/plain": [
       "         country       date  confirmed  deaths  new_confirmed  new_deaths  \\\n",
       "0             US 2020-02-24         51       0             36           0   \n",
       "1             US 2020-02-25         51       0              0           0   \n",
       "2             US 2020-02-26         57       0              6           0   \n",
       "3             US 2020-02-27         58       0              1           0   \n",
       "4             US 2020-02-28         60       0              2           0   \n",
       "..           ...        ...        ...     ...            ...         ...   \n",
       "85  Korea, South 2020-05-01      10780     250              6           2   \n",
       "86  Korea, South 2020-05-02      10793     250             13           0   \n",
       "87  Korea, South 2020-05-03      10801     252              8           2   \n",
       "88  Korea, South 2020-05-04      10804     254              3           2   \n",
       "89  Korea, South 2020-05-05      10806     255              2           1   \n",
       "\n",
       "    tagged_day country code  \n",
       "0            1          USA  \n",
       "1            2          USA  \n",
       "2            3          USA  \n",
       "3            4          USA  \n",
       "4            5          USA  \n",
       "..         ...          ...  \n",
       "85          86          KOR  \n",
       "86          87          KOR  \n",
       "87          88          KOR  \n",
       "88          89          KOR  \n",
       "89          90          KOR  \n",
       "\n",
       "[162 rows x 8 columns]"
      ]
     },
     "execution_count": 8,
     "metadata": {},
     "output_type": "execute_result"
    }
   ],
   "source": [
    "df['country code'] = df.apply(lambda row: country_code(row), axis=1)\n",
    "df"
   ]
  },
  {
   "cell_type": "markdown",
   "metadata": {},
   "source": [
    "## Read owa testing df"
   ]
  },
  {
   "cell_type": "code",
   "execution_count": 9,
   "metadata": {},
   "outputs": [
    {
     "name": "stdout",
     "output_type": "stream",
     "text": [
      "<class 'pandas.core.frame.DataFrame'>\n",
      "RangeIndex: 9437 entries, 0 to 9436\n",
      "Data columns (total 5 columns):\n",
      "Entity                                                                            9437 non-null object\n",
      "Code                                                                              8737 non-null object\n",
      "Date                                                                              9437 non-null object\n",
      "Total tests per million people                                                    4216 non-null float64\n",
      "Total confirmed deaths due to COVID-19 per million people (deaths per million)    8223 non-null float64\n",
      "dtypes: float64(2), object(3)\n",
      "memory usage: 368.8+ KB\n"
     ]
    },
    {
     "data": {
      "text/plain": [
       "None"
      ]
     },
     "metadata": {},
     "output_type": "display_data"
    },
    {
     "data": {
      "text/html": [
       "<div>\n",
       "<style scoped>\n",
       "    .dataframe tbody tr th:only-of-type {\n",
       "        vertical-align: middle;\n",
       "    }\n",
       "\n",
       "    .dataframe tbody tr th {\n",
       "        vertical-align: top;\n",
       "    }\n",
       "\n",
       "    .dataframe thead th {\n",
       "        text-align: right;\n",
       "    }\n",
       "</style>\n",
       "<table border=\"1\" class=\"dataframe\">\n",
       "  <thead>\n",
       "    <tr style=\"text-align: right;\">\n",
       "      <th></th>\n",
       "      <th>Entity</th>\n",
       "      <th>Code</th>\n",
       "      <th>Date</th>\n",
       "      <th>Total tests per million people</th>\n",
       "      <th>Total confirmed deaths due to COVID-19 per million people (deaths per million)</th>\n",
       "    </tr>\n",
       "  </thead>\n",
       "  <tbody>\n",
       "    <tr>\n",
       "      <td>0</td>\n",
       "      <td>Afghanistan</td>\n",
       "      <td>AFG</td>\n",
       "      <td>24-Mar-20</td>\n",
       "      <td>NaN</td>\n",
       "      <td>0.026</td>\n",
       "    </tr>\n",
       "    <tr>\n",
       "      <td>1</td>\n",
       "      <td>Afghanistan</td>\n",
       "      <td>AFG</td>\n",
       "      <td>25-Mar-20</td>\n",
       "      <td>NaN</td>\n",
       "      <td>0.026</td>\n",
       "    </tr>\n",
       "    <tr>\n",
       "      <td>2</td>\n",
       "      <td>Afghanistan</td>\n",
       "      <td>AFG</td>\n",
       "      <td>26-Mar-20</td>\n",
       "      <td>NaN</td>\n",
       "      <td>0.026</td>\n",
       "    </tr>\n",
       "    <tr>\n",
       "      <td>3</td>\n",
       "      <td>Afghanistan</td>\n",
       "      <td>AFG</td>\n",
       "      <td>27-Mar-20</td>\n",
       "      <td>NaN</td>\n",
       "      <td>0.026</td>\n",
       "    </tr>\n",
       "    <tr>\n",
       "      <td>4</td>\n",
       "      <td>Afghanistan</td>\n",
       "      <td>AFG</td>\n",
       "      <td>28-Mar-20</td>\n",
       "      <td>NaN</td>\n",
       "      <td>0.051</td>\n",
       "    </tr>\n",
       "  </tbody>\n",
       "</table>\n",
       "</div>"
      ],
      "text/plain": [
       "        Entity Code       Date  Total tests per million people  \\\n",
       "0  Afghanistan  AFG  24-Mar-20                             NaN   \n",
       "1  Afghanistan  AFG  25-Mar-20                             NaN   \n",
       "2  Afghanistan  AFG  26-Mar-20                             NaN   \n",
       "3  Afghanistan  AFG  27-Mar-20                             NaN   \n",
       "4  Afghanistan  AFG  28-Mar-20                             NaN   \n",
       "\n",
       "   Total confirmed deaths due to COVID-19 per million people (deaths per million)  \n",
       "0                                              0.026                               \n",
       "1                                              0.026                               \n",
       "2                                              0.026                               \n",
       "3                                              0.026                               \n",
       "4                                              0.051                               "
      ]
     },
     "execution_count": 9,
     "metadata": {},
     "output_type": "execute_result"
    }
   ],
   "source": [
    "testing = pd.read_csv(\"data/covid-19-tests-deaths-scatter-with-comparisons_2020May07.csv\")\n",
    "display(testing.info())\n",
    "testing.head()"
   ]
  },
  {
   "cell_type": "code",
   "execution_count": 10,
   "metadata": {},
   "outputs": [
    {
     "name": "stdout",
     "output_type": "stream",
     "text": [
      "<class 'pandas.core.frame.DataFrame'>\n",
      "RangeIndex: 9437 entries, 0 to 9436\n",
      "Data columns (total 5 columns):\n",
      "Entity                                                                            9437 non-null object\n",
      "Code                                                                              8737 non-null object\n",
      "Date                                                                              9437 non-null datetime64[ns]\n",
      "Total tests per million people                                                    4216 non-null float64\n",
      "Total confirmed deaths due to COVID-19 per million people (deaths per million)    8223 non-null float64\n",
      "dtypes: datetime64[ns](1), float64(2), object(2)\n",
      "memory usage: 368.8+ KB\n"
     ]
    },
    {
     "data": {
      "text/plain": [
       "None"
      ]
     },
     "metadata": {},
     "output_type": "display_data"
    },
    {
     "data": {
      "text/html": [
       "<div>\n",
       "<style scoped>\n",
       "    .dataframe tbody tr th:only-of-type {\n",
       "        vertical-align: middle;\n",
       "    }\n",
       "\n",
       "    .dataframe tbody tr th {\n",
       "        vertical-align: top;\n",
       "    }\n",
       "\n",
       "    .dataframe thead th {\n",
       "        text-align: right;\n",
       "    }\n",
       "</style>\n",
       "<table border=\"1\" class=\"dataframe\">\n",
       "  <thead>\n",
       "    <tr style=\"text-align: right;\">\n",
       "      <th></th>\n",
       "      <th>Entity</th>\n",
       "      <th>Code</th>\n",
       "      <th>Date</th>\n",
       "      <th>Total tests per million people</th>\n",
       "      <th>Total confirmed deaths due to COVID-19 per million people (deaths per million)</th>\n",
       "    </tr>\n",
       "  </thead>\n",
       "  <tbody>\n",
       "    <tr>\n",
       "      <td>0</td>\n",
       "      <td>Afghanistan</td>\n",
       "      <td>AFG</td>\n",
       "      <td>2020-03-24</td>\n",
       "      <td>NaN</td>\n",
       "      <td>0.026</td>\n",
       "    </tr>\n",
       "    <tr>\n",
       "      <td>1</td>\n",
       "      <td>Afghanistan</td>\n",
       "      <td>AFG</td>\n",
       "      <td>2020-03-25</td>\n",
       "      <td>NaN</td>\n",
       "      <td>0.026</td>\n",
       "    </tr>\n",
       "    <tr>\n",
       "      <td>2</td>\n",
       "      <td>Afghanistan</td>\n",
       "      <td>AFG</td>\n",
       "      <td>2020-03-26</td>\n",
       "      <td>NaN</td>\n",
       "      <td>0.026</td>\n",
       "    </tr>\n",
       "    <tr>\n",
       "      <td>3</td>\n",
       "      <td>Afghanistan</td>\n",
       "      <td>AFG</td>\n",
       "      <td>2020-03-27</td>\n",
       "      <td>NaN</td>\n",
       "      <td>0.026</td>\n",
       "    </tr>\n",
       "    <tr>\n",
       "      <td>4</td>\n",
       "      <td>Afghanistan</td>\n",
       "      <td>AFG</td>\n",
       "      <td>2020-03-28</td>\n",
       "      <td>NaN</td>\n",
       "      <td>0.051</td>\n",
       "    </tr>\n",
       "  </tbody>\n",
       "</table>\n",
       "</div>"
      ],
      "text/plain": [
       "        Entity Code       Date  Total tests per million people  \\\n",
       "0  Afghanistan  AFG 2020-03-24                             NaN   \n",
       "1  Afghanistan  AFG 2020-03-25                             NaN   \n",
       "2  Afghanistan  AFG 2020-03-26                             NaN   \n",
       "3  Afghanistan  AFG 2020-03-27                             NaN   \n",
       "4  Afghanistan  AFG 2020-03-28                             NaN   \n",
       "\n",
       "   Total confirmed deaths due to COVID-19 per million people (deaths per million)  \n",
       "0                                              0.026                               \n",
       "1                                              0.026                               \n",
       "2                                              0.026                               \n",
       "3                                              0.026                               \n",
       "4                                              0.051                               "
      ]
     },
     "execution_count": 10,
     "metadata": {},
     "output_type": "execute_result"
    }
   ],
   "source": [
    "# change date to type datetime\n",
    "testing['Date'] = pd.to_datetime(testing.Date)\n",
    "display(testing.info())\n",
    "testing.head()"
   ]
  },
  {
   "cell_type": "markdown",
   "metadata": {},
   "source": [
    "## Joining 3 df's into one"
   ]
  },
  {
   "cell_type": "code",
   "execution_count": 11,
   "metadata": {},
   "outputs": [],
   "source": [
    "# left_on = df['']"
   ]
  },
  {
   "cell_type": "code",
   "execution_count": 12,
   "metadata": {},
   "outputs": [
    {
     "name": "stdout",
     "output_type": "stream",
     "text": [
      "<class 'pandas.core.frame.DataFrame'>\n",
      "Int64Index: 162 entries, 0 to 161\n",
      "Data columns (total 13 columns):\n",
      "country                                                                           162 non-null object\n",
      "date                                                                              162 non-null datetime64[ns]\n",
      "confirmed                                                                         162 non-null int64\n",
      "deaths                                                                            162 non-null int64\n",
      "new_confirmed                                                                     162 non-null int64\n",
      "new_deaths                                                                        162 non-null int64\n",
      "tagged_day                                                                        162 non-null int64\n",
      "country code                                                                      162 non-null object\n",
      "Entity                                                                            156 non-null object\n",
      "Code                                                                              156 non-null object\n",
      "Date                                                                              156 non-null datetime64[ns]\n",
      "Total tests per million people                                                    150 non-null float64\n",
      "Total confirmed deaths due to COVID-19 per million people (deaths per million)    141 non-null float64\n",
      "dtypes: datetime64[ns](2), float64(2), int64(5), object(4)\n",
      "memory usage: 17.7+ KB\n"
     ]
    },
    {
     "data": {
      "text/plain": [
       "None"
      ]
     },
     "metadata": {},
     "output_type": "display_data"
    },
    {
     "data": {
      "text/html": [
       "<div>\n",
       "<style scoped>\n",
       "    .dataframe tbody tr th:only-of-type {\n",
       "        vertical-align: middle;\n",
       "    }\n",
       "\n",
       "    .dataframe tbody tr th {\n",
       "        vertical-align: top;\n",
       "    }\n",
       "\n",
       "    .dataframe thead th {\n",
       "        text-align: right;\n",
       "    }\n",
       "</style>\n",
       "<table border=\"1\" class=\"dataframe\">\n",
       "  <thead>\n",
       "    <tr style=\"text-align: right;\">\n",
       "      <th></th>\n",
       "      <th>country</th>\n",
       "      <th>date</th>\n",
       "      <th>confirmed</th>\n",
       "      <th>deaths</th>\n",
       "      <th>new_confirmed</th>\n",
       "      <th>new_deaths</th>\n",
       "      <th>tagged_day</th>\n",
       "      <th>country code</th>\n",
       "      <th>Entity</th>\n",
       "      <th>Code</th>\n",
       "      <th>Date</th>\n",
       "      <th>Total tests per million people</th>\n",
       "      <th>Total confirmed deaths due to COVID-19 per million people (deaths per million)</th>\n",
       "    </tr>\n",
       "  </thead>\n",
       "  <tbody>\n",
       "    <tr>\n",
       "      <td>0</td>\n",
       "      <td>US</td>\n",
       "      <td>2020-02-24</td>\n",
       "      <td>51</td>\n",
       "      <td>0</td>\n",
       "      <td>36</td>\n",
       "      <td>0</td>\n",
       "      <td>1</td>\n",
       "      <td>USA</td>\n",
       "      <td>NaN</td>\n",
       "      <td>NaN</td>\n",
       "      <td>NaT</td>\n",
       "      <td>NaN</td>\n",
       "      <td>NaN</td>\n",
       "    </tr>\n",
       "    <tr>\n",
       "      <td>1</td>\n",
       "      <td>US</td>\n",
       "      <td>2020-02-25</td>\n",
       "      <td>51</td>\n",
       "      <td>0</td>\n",
       "      <td>0</td>\n",
       "      <td>0</td>\n",
       "      <td>2</td>\n",
       "      <td>USA</td>\n",
       "      <td>NaN</td>\n",
       "      <td>NaN</td>\n",
       "      <td>NaT</td>\n",
       "      <td>NaN</td>\n",
       "      <td>NaN</td>\n",
       "    </tr>\n",
       "    <tr>\n",
       "      <td>2</td>\n",
       "      <td>US</td>\n",
       "      <td>2020-02-26</td>\n",
       "      <td>57</td>\n",
       "      <td>0</td>\n",
       "      <td>6</td>\n",
       "      <td>0</td>\n",
       "      <td>3</td>\n",
       "      <td>USA</td>\n",
       "      <td>NaN</td>\n",
       "      <td>NaN</td>\n",
       "      <td>NaT</td>\n",
       "      <td>NaN</td>\n",
       "      <td>NaN</td>\n",
       "    </tr>\n",
       "    <tr>\n",
       "      <td>3</td>\n",
       "      <td>US</td>\n",
       "      <td>2020-02-27</td>\n",
       "      <td>58</td>\n",
       "      <td>0</td>\n",
       "      <td>1</td>\n",
       "      <td>0</td>\n",
       "      <td>4</td>\n",
       "      <td>USA</td>\n",
       "      <td>NaN</td>\n",
       "      <td>NaN</td>\n",
       "      <td>NaT</td>\n",
       "      <td>NaN</td>\n",
       "      <td>NaN</td>\n",
       "    </tr>\n",
       "    <tr>\n",
       "      <td>4</td>\n",
       "      <td>US</td>\n",
       "      <td>2020-02-28</td>\n",
       "      <td>60</td>\n",
       "      <td>0</td>\n",
       "      <td>2</td>\n",
       "      <td>0</td>\n",
       "      <td>5</td>\n",
       "      <td>USA</td>\n",
       "      <td>NaN</td>\n",
       "      <td>NaN</td>\n",
       "      <td>NaT</td>\n",
       "      <td>NaN</td>\n",
       "      <td>NaN</td>\n",
       "    </tr>\n",
       "    <tr>\n",
       "      <td>...</td>\n",
       "      <td>...</td>\n",
       "      <td>...</td>\n",
       "      <td>...</td>\n",
       "      <td>...</td>\n",
       "      <td>...</td>\n",
       "      <td>...</td>\n",
       "      <td>...</td>\n",
       "      <td>...</td>\n",
       "      <td>...</td>\n",
       "      <td>...</td>\n",
       "      <td>...</td>\n",
       "      <td>...</td>\n",
       "      <td>...</td>\n",
       "    </tr>\n",
       "    <tr>\n",
       "      <td>157</td>\n",
       "      <td>Korea, South</td>\n",
       "      <td>2020-05-01</td>\n",
       "      <td>10780</td>\n",
       "      <td>250</td>\n",
       "      <td>6</td>\n",
       "      <td>2</td>\n",
       "      <td>86</td>\n",
       "      <td>KOR</td>\n",
       "      <td>South Korea</td>\n",
       "      <td>KOR</td>\n",
       "      <td>2020-05-01</td>\n",
       "      <td>12153.0</td>\n",
       "      <td>4.837</td>\n",
       "    </tr>\n",
       "    <tr>\n",
       "      <td>158</td>\n",
       "      <td>Korea, South</td>\n",
       "      <td>2020-05-02</td>\n",
       "      <td>10793</td>\n",
       "      <td>250</td>\n",
       "      <td>13</td>\n",
       "      <td>0</td>\n",
       "      <td>87</td>\n",
       "      <td>KOR</td>\n",
       "      <td>South Korea</td>\n",
       "      <td>KOR</td>\n",
       "      <td>2020-05-02</td>\n",
       "      <td>12241.0</td>\n",
       "      <td>4.876</td>\n",
       "    </tr>\n",
       "    <tr>\n",
       "      <td>159</td>\n",
       "      <td>Korea, South</td>\n",
       "      <td>2020-05-03</td>\n",
       "      <td>10801</td>\n",
       "      <td>252</td>\n",
       "      <td>8</td>\n",
       "      <td>2</td>\n",
       "      <td>88</td>\n",
       "      <td>KOR</td>\n",
       "      <td>South Korea</td>\n",
       "      <td>KOR</td>\n",
       "      <td>2020-05-03</td>\n",
       "      <td>12307.0</td>\n",
       "      <td>4.876</td>\n",
       "    </tr>\n",
       "    <tr>\n",
       "      <td>160</td>\n",
       "      <td>Korea, South</td>\n",
       "      <td>2020-05-04</td>\n",
       "      <td>10804</td>\n",
       "      <td>254</td>\n",
       "      <td>3</td>\n",
       "      <td>2</td>\n",
       "      <td>89</td>\n",
       "      <td>KOR</td>\n",
       "      <td>South Korea</td>\n",
       "      <td>KOR</td>\n",
       "      <td>2020-05-04</td>\n",
       "      <td>12365.0</td>\n",
       "      <td>4.915</td>\n",
       "    </tr>\n",
       "    <tr>\n",
       "      <td>161</td>\n",
       "      <td>Korea, South</td>\n",
       "      <td>2020-05-05</td>\n",
       "      <td>10806</td>\n",
       "      <td>255</td>\n",
       "      <td>2</td>\n",
       "      <td>1</td>\n",
       "      <td>90</td>\n",
       "      <td>KOR</td>\n",
       "      <td>South Korea</td>\n",
       "      <td>KOR</td>\n",
       "      <td>2020-05-05</td>\n",
       "      <td>12488.0</td>\n",
       "      <td>4.954</td>\n",
       "    </tr>\n",
       "  </tbody>\n",
       "</table>\n",
       "<p>162 rows × 13 columns</p>\n",
       "</div>"
      ],
      "text/plain": [
       "          country       date  confirmed  deaths  new_confirmed  new_deaths  \\\n",
       "0              US 2020-02-24         51       0             36           0   \n",
       "1              US 2020-02-25         51       0              0           0   \n",
       "2              US 2020-02-26         57       0              6           0   \n",
       "3              US 2020-02-27         58       0              1           0   \n",
       "4              US 2020-02-28         60       0              2           0   \n",
       "..            ...        ...        ...     ...            ...         ...   \n",
       "157  Korea, South 2020-05-01      10780     250              6           2   \n",
       "158  Korea, South 2020-05-02      10793     250             13           0   \n",
       "159  Korea, South 2020-05-03      10801     252              8           2   \n",
       "160  Korea, South 2020-05-04      10804     254              3           2   \n",
       "161  Korea, South 2020-05-05      10806     255              2           1   \n",
       "\n",
       "     tagged_day country code       Entity Code       Date  \\\n",
       "0             1          USA          NaN  NaN        NaT   \n",
       "1             2          USA          NaN  NaN        NaT   \n",
       "2             3          USA          NaN  NaN        NaT   \n",
       "3             4          USA          NaN  NaN        NaT   \n",
       "4             5          USA          NaN  NaN        NaT   \n",
       "..          ...          ...          ...  ...        ...   \n",
       "157          86          KOR  South Korea  KOR 2020-05-01   \n",
       "158          87          KOR  South Korea  KOR 2020-05-02   \n",
       "159          88          KOR  South Korea  KOR 2020-05-03   \n",
       "160          89          KOR  South Korea  KOR 2020-05-04   \n",
       "161          90          KOR  South Korea  KOR 2020-05-05   \n",
       "\n",
       "     Total tests per million people  \\\n",
       "0                               NaN   \n",
       "1                               NaN   \n",
       "2                               NaN   \n",
       "3                               NaN   \n",
       "4                               NaN   \n",
       "..                              ...   \n",
       "157                         12153.0   \n",
       "158                         12241.0   \n",
       "159                         12307.0   \n",
       "160                         12365.0   \n",
       "161                         12488.0   \n",
       "\n",
       "     Total confirmed deaths due to COVID-19 per million people (deaths per million)  \n",
       "0                                                  NaN                               \n",
       "1                                                  NaN                               \n",
       "2                                                  NaN                               \n",
       "3                                                  NaN                               \n",
       "4                                                  NaN                               \n",
       "..                                                 ...                               \n",
       "157                                              4.837                               \n",
       "158                                              4.876                               \n",
       "159                                              4.876                               \n",
       "160                                              4.915                               \n",
       "161                                              4.954                               \n",
       "\n",
       "[162 rows x 13 columns]"
      ]
     },
     "execution_count": 12,
     "metadata": {},
     "output_type": "execute_result"
    }
   ],
   "source": [
    "df2 = pd.merge(left=df, right=testing, how='left', left_on=['date','country code'], right_on=['Date', 'Code'])\n",
    "display(df2.info())\n",
    "df2"
   ]
  },
  {
   "cell_type": "code",
   "execution_count": 13,
   "metadata": {},
   "outputs": [
    {
     "data": {
      "text/html": [
       "<div>\n",
       "<style scoped>\n",
       "    .dataframe tbody tr th:only-of-type {\n",
       "        vertical-align: middle;\n",
       "    }\n",
       "\n",
       "    .dataframe tbody tr th {\n",
       "        vertical-align: top;\n",
       "    }\n",
       "\n",
       "    .dataframe thead th {\n",
       "        text-align: right;\n",
       "    }\n",
       "</style>\n",
       "<table border=\"1\" class=\"dataframe\">\n",
       "  <thead>\n",
       "    <tr style=\"text-align: right;\">\n",
       "      <th></th>\n",
       "      <th>date</th>\n",
       "      <th>confirmed</th>\n",
       "      <th>deaths</th>\n",
       "      <th>new_confirmed</th>\n",
       "      <th>new_deaths</th>\n",
       "      <th>tagged_day</th>\n",
       "      <th>country code</th>\n",
       "      <th>Total tests per million people</th>\n",
       "      <th>Total confirmed deaths due to COVID-19 per million people (deaths per million)</th>\n",
       "    </tr>\n",
       "  </thead>\n",
       "  <tbody>\n",
       "    <tr>\n",
       "      <td>0</td>\n",
       "      <td>2020-02-24</td>\n",
       "      <td>51</td>\n",
       "      <td>0</td>\n",
       "      <td>36</td>\n",
       "      <td>0</td>\n",
       "      <td>1</td>\n",
       "      <td>USA</td>\n",
       "      <td>NaN</td>\n",
       "      <td>NaN</td>\n",
       "    </tr>\n",
       "    <tr>\n",
       "      <td>1</td>\n",
       "      <td>2020-02-25</td>\n",
       "      <td>51</td>\n",
       "      <td>0</td>\n",
       "      <td>0</td>\n",
       "      <td>0</td>\n",
       "      <td>2</td>\n",
       "      <td>USA</td>\n",
       "      <td>NaN</td>\n",
       "      <td>NaN</td>\n",
       "    </tr>\n",
       "    <tr>\n",
       "      <td>2</td>\n",
       "      <td>2020-02-26</td>\n",
       "      <td>57</td>\n",
       "      <td>0</td>\n",
       "      <td>6</td>\n",
       "      <td>0</td>\n",
       "      <td>3</td>\n",
       "      <td>USA</td>\n",
       "      <td>NaN</td>\n",
       "      <td>NaN</td>\n",
       "    </tr>\n",
       "    <tr>\n",
       "      <td>3</td>\n",
       "      <td>2020-02-27</td>\n",
       "      <td>58</td>\n",
       "      <td>0</td>\n",
       "      <td>1</td>\n",
       "      <td>0</td>\n",
       "      <td>4</td>\n",
       "      <td>USA</td>\n",
       "      <td>NaN</td>\n",
       "      <td>NaN</td>\n",
       "    </tr>\n",
       "    <tr>\n",
       "      <td>4</td>\n",
       "      <td>2020-02-28</td>\n",
       "      <td>60</td>\n",
       "      <td>0</td>\n",
       "      <td>2</td>\n",
       "      <td>0</td>\n",
       "      <td>5</td>\n",
       "      <td>USA</td>\n",
       "      <td>NaN</td>\n",
       "      <td>NaN</td>\n",
       "    </tr>\n",
       "    <tr>\n",
       "      <td>...</td>\n",
       "      <td>...</td>\n",
       "      <td>...</td>\n",
       "      <td>...</td>\n",
       "      <td>...</td>\n",
       "      <td>...</td>\n",
       "      <td>...</td>\n",
       "      <td>...</td>\n",
       "      <td>...</td>\n",
       "      <td>...</td>\n",
       "    </tr>\n",
       "    <tr>\n",
       "      <td>157</td>\n",
       "      <td>2020-05-01</td>\n",
       "      <td>10780</td>\n",
       "      <td>250</td>\n",
       "      <td>6</td>\n",
       "      <td>2</td>\n",
       "      <td>86</td>\n",
       "      <td>KOR</td>\n",
       "      <td>12153.0</td>\n",
       "      <td>4.837</td>\n",
       "    </tr>\n",
       "    <tr>\n",
       "      <td>158</td>\n",
       "      <td>2020-05-02</td>\n",
       "      <td>10793</td>\n",
       "      <td>250</td>\n",
       "      <td>13</td>\n",
       "      <td>0</td>\n",
       "      <td>87</td>\n",
       "      <td>KOR</td>\n",
       "      <td>12241.0</td>\n",
       "      <td>4.876</td>\n",
       "    </tr>\n",
       "    <tr>\n",
       "      <td>159</td>\n",
       "      <td>2020-05-03</td>\n",
       "      <td>10801</td>\n",
       "      <td>252</td>\n",
       "      <td>8</td>\n",
       "      <td>2</td>\n",
       "      <td>88</td>\n",
       "      <td>KOR</td>\n",
       "      <td>12307.0</td>\n",
       "      <td>4.876</td>\n",
       "    </tr>\n",
       "    <tr>\n",
       "      <td>160</td>\n",
       "      <td>2020-05-04</td>\n",
       "      <td>10804</td>\n",
       "      <td>254</td>\n",
       "      <td>3</td>\n",
       "      <td>2</td>\n",
       "      <td>89</td>\n",
       "      <td>KOR</td>\n",
       "      <td>12365.0</td>\n",
       "      <td>4.915</td>\n",
       "    </tr>\n",
       "    <tr>\n",
       "      <td>161</td>\n",
       "      <td>2020-05-05</td>\n",
       "      <td>10806</td>\n",
       "      <td>255</td>\n",
       "      <td>2</td>\n",
       "      <td>1</td>\n",
       "      <td>90</td>\n",
       "      <td>KOR</td>\n",
       "      <td>12488.0</td>\n",
       "      <td>4.954</td>\n",
       "    </tr>\n",
       "  </tbody>\n",
       "</table>\n",
       "<p>162 rows × 9 columns</p>\n",
       "</div>"
      ],
      "text/plain": [
       "          date  confirmed  deaths  new_confirmed  new_deaths  tagged_day  \\\n",
       "0   2020-02-24         51       0             36           0           1   \n",
       "1   2020-02-25         51       0              0           0           2   \n",
       "2   2020-02-26         57       0              6           0           3   \n",
       "3   2020-02-27         58       0              1           0           4   \n",
       "4   2020-02-28         60       0              2           0           5   \n",
       "..         ...        ...     ...            ...         ...         ...   \n",
       "157 2020-05-01      10780     250              6           2          86   \n",
       "158 2020-05-02      10793     250             13           0          87   \n",
       "159 2020-05-03      10801     252              8           2          88   \n",
       "160 2020-05-04      10804     254              3           2          89   \n",
       "161 2020-05-05      10806     255              2           1          90   \n",
       "\n",
       "    country code  Total tests per million people  \\\n",
       "0            USA                             NaN   \n",
       "1            USA                             NaN   \n",
       "2            USA                             NaN   \n",
       "3            USA                             NaN   \n",
       "4            USA                             NaN   \n",
       "..           ...                             ...   \n",
       "157          KOR                         12153.0   \n",
       "158          KOR                         12241.0   \n",
       "159          KOR                         12307.0   \n",
       "160          KOR                         12365.0   \n",
       "161          KOR                         12488.0   \n",
       "\n",
       "     Total confirmed deaths due to COVID-19 per million people (deaths per million)  \n",
       "0                                                  NaN                               \n",
       "1                                                  NaN                               \n",
       "2                                                  NaN                               \n",
       "3                                                  NaN                               \n",
       "4                                                  NaN                               \n",
       "..                                                 ...                               \n",
       "157                                              4.837                               \n",
       "158                                              4.876                               \n",
       "159                                              4.876                               \n",
       "160                                              4.915                               \n",
       "161                                              4.954                               \n",
       "\n",
       "[162 rows x 9 columns]"
      ]
     },
     "execution_count": 13,
     "metadata": {},
     "output_type": "execute_result"
    }
   ],
   "source": [
    "df3 = df2.copy(deep=True)\n",
    "\n",
    "# needed cols: 'country code','date','tagged_day','Total tests per million people','confirmed','deaths','new_confirmed','new_deaths', \n",
    "#                    'Total confirmed deaths due to COVID-19 per million people (deaths per million)'\n",
    "\n",
    "df3_dropped_cols = ['country', 'Entity', 'Code', 'Date']\n",
    "df3 = df3.drop(labels=df3_dropped_cols, axis=1)\n",
    "df3"
   ]
  },
  {
   "cell_type": "code",
   "execution_count": 14,
   "metadata": {},
   "outputs": [],
   "source": [
    "# df3.to_csv(\"df3.out.csv\", index= False)"
   ]
  },
  {
   "cell_type": "code",
   "execution_count": 15,
   "metadata": {},
   "outputs": [
    {
     "data": {
      "text/plain": [
       "(162, 9)"
      ]
     },
     "metadata": {},
     "output_type": "display_data"
    },
    {
     "name": "stdout",
     "output_type": "stream",
     "text": [
      "<class 'pandas.core.frame.DataFrame'>\n",
      "Int64Index: 162 entries, 0 to 161\n",
      "Data columns (total 9 columns):\n",
      "date                                                                              162 non-null datetime64[ns]\n",
      "confirmed                                                                         162 non-null int64\n",
      "deaths                                                                            162 non-null int64\n",
      "new_confirmed                                                                     162 non-null int64\n",
      "new_deaths                                                                        162 non-null int64\n",
      "tagged_day                                                                        162 non-null int64\n",
      "country code                                                                      162 non-null object\n",
      "Total tests per million people                                                    150 non-null float64\n",
      "Total confirmed deaths due to COVID-19 per million people (deaths per million)    141 non-null float64\n",
      "dtypes: datetime64[ns](1), float64(2), int64(5), object(1)\n",
      "memory usage: 12.7+ KB\n"
     ]
    },
    {
     "data": {
      "text/plain": [
       "None"
      ]
     },
     "metadata": {},
     "output_type": "display_data"
    }
   ],
   "source": [
    "df4 = df3.copy(deep=True)\n",
    "display(df4.shape)\n",
    "display(df4.info())"
   ]
  },
  {
   "cell_type": "code",
   "execution_count": 16,
   "metadata": {},
   "outputs": [
    {
     "data": {
      "text/plain": [
       "(135, 9)"
      ]
     },
     "metadata": {},
     "output_type": "display_data"
    },
    {
     "name": "stdout",
     "output_type": "stream",
     "text": [
      "<class 'pandas.core.frame.DataFrame'>\n",
      "Int64Index: 135 entries, 12 to 161\n",
      "Data columns (total 9 columns):\n",
      "date                                                                              135 non-null datetime64[ns]\n",
      "confirmed                                                                         135 non-null int64\n",
      "deaths                                                                            135 non-null int64\n",
      "new_confirmed                                                                     135 non-null int64\n",
      "new_deaths                                                                        135 non-null int64\n",
      "tagged_day                                                                        135 non-null int64\n",
      "country code                                                                      135 non-null object\n",
      "Total tests per million people                                                    135 non-null float64\n",
      "Total confirmed deaths due to COVID-19 per million people (deaths per million)    135 non-null float64\n",
      "dtypes: datetime64[ns](1), float64(2), int64(5), object(1)\n",
      "memory usage: 10.5+ KB\n"
     ]
    },
    {
     "data": {
      "text/plain": [
       "None"
      ]
     },
     "metadata": {},
     "output_type": "display_data"
    },
    {
     "data": {
      "text/html": [
       "<div>\n",
       "<style scoped>\n",
       "    .dataframe tbody tr th:only-of-type {\n",
       "        vertical-align: middle;\n",
       "    }\n",
       "\n",
       "    .dataframe tbody tr th {\n",
       "        vertical-align: top;\n",
       "    }\n",
       "\n",
       "    .dataframe thead th {\n",
       "        text-align: right;\n",
       "    }\n",
       "</style>\n",
       "<table border=\"1\" class=\"dataframe\">\n",
       "  <thead>\n",
       "    <tr style=\"text-align: right;\">\n",
       "      <th></th>\n",
       "      <th>date</th>\n",
       "      <th>confirmed</th>\n",
       "      <th>deaths</th>\n",
       "      <th>new_confirmed</th>\n",
       "      <th>new_deaths</th>\n",
       "      <th>tagged_day</th>\n",
       "      <th>country code</th>\n",
       "      <th>Total tests per million people</th>\n",
       "      <th>Total confirmed deaths due to COVID-19 per million people (deaths per million)</th>\n",
       "    </tr>\n",
       "  </thead>\n",
       "  <tbody>\n",
       "    <tr>\n",
       "      <td>12</td>\n",
       "      <td>2020-03-07</td>\n",
       "      <td>402</td>\n",
       "      <td>17</td>\n",
       "      <td>140</td>\n",
       "      <td>3</td>\n",
       "      <td>13</td>\n",
       "      <td>USA</td>\n",
       "      <td>11.0</td>\n",
       "      <td>0.042</td>\n",
       "    </tr>\n",
       "    <tr>\n",
       "      <td>13</td>\n",
       "      <td>2020-03-08</td>\n",
       "      <td>518</td>\n",
       "      <td>21</td>\n",
       "      <td>116</td>\n",
       "      <td>4</td>\n",
       "      <td>14</td>\n",
       "      <td>USA</td>\n",
       "      <td>14.0</td>\n",
       "      <td>0.051</td>\n",
       "    </tr>\n",
       "    <tr>\n",
       "      <td>14</td>\n",
       "      <td>2020-03-09</td>\n",
       "      <td>583</td>\n",
       "      <td>22</td>\n",
       "      <td>65</td>\n",
       "      <td>1</td>\n",
       "      <td>15</td>\n",
       "      <td>USA</td>\n",
       "      <td>19.0</td>\n",
       "      <td>0.063</td>\n",
       "    </tr>\n",
       "    <tr>\n",
       "      <td>15</td>\n",
       "      <td>2020-03-10</td>\n",
       "      <td>959</td>\n",
       "      <td>28</td>\n",
       "      <td>376</td>\n",
       "      <td>6</td>\n",
       "      <td>16</td>\n",
       "      <td>USA</td>\n",
       "      <td>27.0</td>\n",
       "      <td>0.079</td>\n",
       "    </tr>\n",
       "    <tr>\n",
       "      <td>16</td>\n",
       "      <td>2020-03-11</td>\n",
       "      <td>1281</td>\n",
       "      <td>36</td>\n",
       "      <td>322</td>\n",
       "      <td>8</td>\n",
       "      <td>17</td>\n",
       "      <td>USA</td>\n",
       "      <td>38.0</td>\n",
       "      <td>0.085</td>\n",
       "    </tr>\n",
       "  </tbody>\n",
       "</table>\n",
       "</div>"
      ],
      "text/plain": [
       "         date  confirmed  deaths  new_confirmed  new_deaths  tagged_day  \\\n",
       "12 2020-03-07        402      17            140           3          13   \n",
       "13 2020-03-08        518      21            116           4          14   \n",
       "14 2020-03-09        583      22             65           1          15   \n",
       "15 2020-03-10        959      28            376           6          16   \n",
       "16 2020-03-11       1281      36            322           8          17   \n",
       "\n",
       "   country code  Total tests per million people  \\\n",
       "12          USA                            11.0   \n",
       "13          USA                            14.0   \n",
       "14          USA                            19.0   \n",
       "15          USA                            27.0   \n",
       "16          USA                            38.0   \n",
       "\n",
       "    Total confirmed deaths due to COVID-19 per million people (deaths per million)  \n",
       "12                                              0.042                               \n",
       "13                                              0.051                               \n",
       "14                                              0.063                               \n",
       "15                                              0.079                               \n",
       "16                                              0.085                               "
      ]
     },
     "execution_count": 16,
     "metadata": {},
     "output_type": "execute_result"
    }
   ],
   "source": [
    "df4.dropna(axis=0, inplace=True)\n",
    "display(df4.shape)\n",
    "display(df4.info())\n",
    "df4.head()"
   ]
  },
  {
   "cell_type": "code",
   "execution_count": 17,
   "metadata": {},
   "outputs": [
    {
     "data": {
      "text/html": [
       "<div>\n",
       "<style scoped>\n",
       "    .dataframe tbody tr th:only-of-type {\n",
       "        vertical-align: middle;\n",
       "    }\n",
       "\n",
       "    .dataframe tbody tr th {\n",
       "        vertical-align: top;\n",
       "    }\n",
       "\n",
       "    .dataframe thead th {\n",
       "        text-align: right;\n",
       "    }\n",
       "</style>\n",
       "<table border=\"1\" class=\"dataframe\">\n",
       "  <thead>\n",
       "    <tr style=\"text-align: right;\">\n",
       "      <th></th>\n",
       "      <th>date</th>\n",
       "      <th>confirmed</th>\n",
       "      <th>deaths</th>\n",
       "      <th>new_confirmed</th>\n",
       "      <th>new_deaths</th>\n",
       "      <th>tagged_day</th>\n",
       "      <th>country code</th>\n",
       "      <th>Total tests per million people</th>\n",
       "      <th>Total confirmed deaths due to COVID-19 per million people (deaths per million)</th>\n",
       "    </tr>\n",
       "  </thead>\n",
       "  <tbody>\n",
       "    <tr>\n",
       "      <td>12</td>\n",
       "      <td>2020-03-07</td>\n",
       "      <td>402</td>\n",
       "      <td>17</td>\n",
       "      <td>140</td>\n",
       "      <td>3</td>\n",
       "      <td>13</td>\n",
       "      <td>USA</td>\n",
       "      <td>11.0</td>\n",
       "      <td>0.042</td>\n",
       "    </tr>\n",
       "    <tr>\n",
       "      <td>13</td>\n",
       "      <td>2020-03-08</td>\n",
       "      <td>518</td>\n",
       "      <td>21</td>\n",
       "      <td>116</td>\n",
       "      <td>4</td>\n",
       "      <td>14</td>\n",
       "      <td>USA</td>\n",
       "      <td>14.0</td>\n",
       "      <td>0.051</td>\n",
       "    </tr>\n",
       "    <tr>\n",
       "      <td>14</td>\n",
       "      <td>2020-03-09</td>\n",
       "      <td>583</td>\n",
       "      <td>22</td>\n",
       "      <td>65</td>\n",
       "      <td>1</td>\n",
       "      <td>15</td>\n",
       "      <td>USA</td>\n",
       "      <td>19.0</td>\n",
       "      <td>0.063</td>\n",
       "    </tr>\n",
       "    <tr>\n",
       "      <td>15</td>\n",
       "      <td>2020-03-10</td>\n",
       "      <td>959</td>\n",
       "      <td>28</td>\n",
       "      <td>376</td>\n",
       "      <td>6</td>\n",
       "      <td>16</td>\n",
       "      <td>USA</td>\n",
       "      <td>27.0</td>\n",
       "      <td>0.079</td>\n",
       "    </tr>\n",
       "    <tr>\n",
       "      <td>16</td>\n",
       "      <td>2020-03-11</td>\n",
       "      <td>1281</td>\n",
       "      <td>36</td>\n",
       "      <td>322</td>\n",
       "      <td>8</td>\n",
       "      <td>17</td>\n",
       "      <td>USA</td>\n",
       "      <td>38.0</td>\n",
       "      <td>0.085</td>\n",
       "    </tr>\n",
       "    <tr>\n",
       "      <td>17</td>\n",
       "      <td>2020-03-12</td>\n",
       "      <td>1663</td>\n",
       "      <td>41</td>\n",
       "      <td>382</td>\n",
       "      <td>5</td>\n",
       "      <td>18</td>\n",
       "      <td>USA</td>\n",
       "      <td>54.0</td>\n",
       "      <td>0.091</td>\n",
       "    </tr>\n",
       "    <tr>\n",
       "      <td>18</td>\n",
       "      <td>2020-03-13</td>\n",
       "      <td>2179</td>\n",
       "      <td>49</td>\n",
       "      <td>516</td>\n",
       "      <td>8</td>\n",
       "      <td>19</td>\n",
       "      <td>USA</td>\n",
       "      <td>81.0</td>\n",
       "      <td>0.121</td>\n",
       "    </tr>\n",
       "    <tr>\n",
       "      <td>19</td>\n",
       "      <td>2020-03-14</td>\n",
       "      <td>2727</td>\n",
       "      <td>58</td>\n",
       "      <td>548</td>\n",
       "      <td>9</td>\n",
       "      <td>20</td>\n",
       "      <td>USA</td>\n",
       "      <td>95.0</td>\n",
       "      <td>0.142</td>\n",
       "    </tr>\n",
       "    <tr>\n",
       "      <td>20</td>\n",
       "      <td>2020-03-15</td>\n",
       "      <td>3499</td>\n",
       "      <td>73</td>\n",
       "      <td>772</td>\n",
       "      <td>15</td>\n",
       "      <td>21</td>\n",
       "      <td>USA</td>\n",
       "      <td>118.0</td>\n",
       "      <td>0.172</td>\n",
       "    </tr>\n",
       "    <tr>\n",
       "      <td>21</td>\n",
       "      <td>2020-03-16</td>\n",
       "      <td>4632</td>\n",
       "      <td>99</td>\n",
       "      <td>1133</td>\n",
       "      <td>26</td>\n",
       "      <td>22</td>\n",
       "      <td>USA</td>\n",
       "      <td>171.0</td>\n",
       "      <td>0.208</td>\n",
       "    </tr>\n",
       "    <tr>\n",
       "      <td>22</td>\n",
       "      <td>2020-03-17</td>\n",
       "      <td>6421</td>\n",
       "      <td>133</td>\n",
       "      <td>1789</td>\n",
       "      <td>34</td>\n",
       "      <td>23</td>\n",
       "      <td>USA</td>\n",
       "      <td>218.0</td>\n",
       "      <td>0.257</td>\n",
       "    </tr>\n",
       "    <tr>\n",
       "      <td>23</td>\n",
       "      <td>2020-03-18</td>\n",
       "      <td>7783</td>\n",
       "      <td>164</td>\n",
       "      <td>1362</td>\n",
       "      <td>31</td>\n",
       "      <td>24</td>\n",
       "      <td>USA</td>\n",
       "      <td>293.0</td>\n",
       "      <td>0.326</td>\n",
       "    </tr>\n",
       "    <tr>\n",
       "      <td>24</td>\n",
       "      <td>2020-03-19</td>\n",
       "      <td>13747</td>\n",
       "      <td>258</td>\n",
       "      <td>5964</td>\n",
       "      <td>94</td>\n",
       "      <td>25</td>\n",
       "      <td>USA</td>\n",
       "      <td>375.0</td>\n",
       "      <td>0.453</td>\n",
       "    </tr>\n",
       "    <tr>\n",
       "      <td>25</td>\n",
       "      <td>2020-03-20</td>\n",
       "      <td>19273</td>\n",
       "      <td>349</td>\n",
       "      <td>5526</td>\n",
       "      <td>91</td>\n",
       "      <td>26</td>\n",
       "      <td>USA</td>\n",
       "      <td>485.0</td>\n",
       "      <td>0.453</td>\n",
       "    </tr>\n",
       "    <tr>\n",
       "      <td>26</td>\n",
       "      <td>2020-03-21</td>\n",
       "      <td>25600</td>\n",
       "      <td>442</td>\n",
       "      <td>6327</td>\n",
       "      <td>93</td>\n",
       "      <td>27</td>\n",
       "      <td>USA</td>\n",
       "      <td>620.0</td>\n",
       "      <td>0.785</td>\n",
       "    </tr>\n",
       "    <tr>\n",
       "      <td>27</td>\n",
       "      <td>2020-03-22</td>\n",
       "      <td>33276</td>\n",
       "      <td>586</td>\n",
       "      <td>7676</td>\n",
       "      <td>144</td>\n",
       "      <td>28</td>\n",
       "      <td>USA</td>\n",
       "      <td>755.0</td>\n",
       "      <td>1.027</td>\n",
       "    </tr>\n",
       "    <tr>\n",
       "      <td>28</td>\n",
       "      <td>2020-03-23</td>\n",
       "      <td>43843</td>\n",
       "      <td>786</td>\n",
       "      <td>10567</td>\n",
       "      <td>200</td>\n",
       "      <td>29</td>\n",
       "      <td>USA</td>\n",
       "      <td>927.0</td>\n",
       "      <td>1.423</td>\n",
       "    </tr>\n",
       "    <tr>\n",
       "      <td>29</td>\n",
       "      <td>2020-03-24</td>\n",
       "      <td>53736</td>\n",
       "      <td>1008</td>\n",
       "      <td>9893</td>\n",
       "      <td>222</td>\n",
       "      <td>30</td>\n",
       "      <td>USA</td>\n",
       "      <td>1134.0</td>\n",
       "      <td>1.782</td>\n",
       "    </tr>\n",
       "    <tr>\n",
       "      <td>30</td>\n",
       "      <td>2020-03-25</td>\n",
       "      <td>65778</td>\n",
       "      <td>1316</td>\n",
       "      <td>12042</td>\n",
       "      <td>308</td>\n",
       "      <td>31</td>\n",
       "      <td>USA</td>\n",
       "      <td>1387.0</td>\n",
       "      <td>2.420</td>\n",
       "    </tr>\n",
       "    <tr>\n",
       "      <td>31</td>\n",
       "      <td>2020-03-26</td>\n",
       "      <td>83836</td>\n",
       "      <td>1726</td>\n",
       "      <td>18058</td>\n",
       "      <td>410</td>\n",
       "      <td>32</td>\n",
       "      <td>USA</td>\n",
       "      <td>1690.0</td>\n",
       "      <td>3.172</td>\n",
       "    </tr>\n",
       "    <tr>\n",
       "      <td>32</td>\n",
       "      <td>2020-03-27</td>\n",
       "      <td>101657</td>\n",
       "      <td>2265</td>\n",
       "      <td>17821</td>\n",
       "      <td>539</td>\n",
       "      <td>33</td>\n",
       "      <td>USA</td>\n",
       "      <td>2002.0</td>\n",
       "      <td>3.915</td>\n",
       "    </tr>\n",
       "    <tr>\n",
       "      <td>33</td>\n",
       "      <td>2020-03-28</td>\n",
       "      <td>121465</td>\n",
       "      <td>2731</td>\n",
       "      <td>19808</td>\n",
       "      <td>466</td>\n",
       "      <td>34</td>\n",
       "      <td>USA</td>\n",
       "      <td>2317.0</td>\n",
       "      <td>5.157</td>\n",
       "    </tr>\n",
       "    <tr>\n",
       "      <td>34</td>\n",
       "      <td>2020-03-29</td>\n",
       "      <td>140909</td>\n",
       "      <td>3420</td>\n",
       "      <td>19444</td>\n",
       "      <td>689</td>\n",
       "      <td>35</td>\n",
       "      <td>USA</td>\n",
       "      <td>2585.0</td>\n",
       "      <td>6.619</td>\n",
       "    </tr>\n",
       "    <tr>\n",
       "      <td>35</td>\n",
       "      <td>2020-03-30</td>\n",
       "      <td>161831</td>\n",
       "      <td>4192</td>\n",
       "      <td>20922</td>\n",
       "      <td>772</td>\n",
       "      <td>36</td>\n",
       "      <td>USA</td>\n",
       "      <td>2940.0</td>\n",
       "      <td>7.580</td>\n",
       "    </tr>\n",
       "    <tr>\n",
       "      <td>36</td>\n",
       "      <td>2020-03-31</td>\n",
       "      <td>188172</td>\n",
       "      <td>5367</td>\n",
       "      <td>26341</td>\n",
       "      <td>1175</td>\n",
       "      <td>37</td>\n",
       "      <td>USA</td>\n",
       "      <td>3276.0</td>\n",
       "      <td>9.577</td>\n",
       "    </tr>\n",
       "    <tr>\n",
       "      <td>37</td>\n",
       "      <td>2020-04-01</td>\n",
       "      <td>213242</td>\n",
       "      <td>6501</td>\n",
       "      <td>25070</td>\n",
       "      <td>1134</td>\n",
       "      <td>38</td>\n",
       "      <td>USA</td>\n",
       "      <td>3601.0</td>\n",
       "      <td>12.323</td>\n",
       "    </tr>\n",
       "    <tr>\n",
       "      <td>38</td>\n",
       "      <td>2020-04-02</td>\n",
       "      <td>243622</td>\n",
       "      <td>7921</td>\n",
       "      <td>30380</td>\n",
       "      <td>1420</td>\n",
       "      <td>39</td>\n",
       "      <td>USA</td>\n",
       "      <td>3957.0</td>\n",
       "      <td>15.523</td>\n",
       "    </tr>\n",
       "    <tr>\n",
       "      <td>39</td>\n",
       "      <td>2020-04-03</td>\n",
       "      <td>275367</td>\n",
       "      <td>9246</td>\n",
       "      <td>31745</td>\n",
       "      <td>1325</td>\n",
       "      <td>40</td>\n",
       "      <td>USA</td>\n",
       "      <td>4357.0</td>\n",
       "      <td>18.287</td>\n",
       "    </tr>\n",
       "    <tr>\n",
       "      <td>40</td>\n",
       "      <td>2020-04-04</td>\n",
       "      <td>308650</td>\n",
       "      <td>10855</td>\n",
       "      <td>33283</td>\n",
       "      <td>1609</td>\n",
       "      <td>41</td>\n",
       "      <td>USA</td>\n",
       "      <td>5048.0</td>\n",
       "      <td>21.622</td>\n",
       "    </tr>\n",
       "    <tr>\n",
       "      <td>41</td>\n",
       "      <td>2020-04-05</td>\n",
       "      <td>336802</td>\n",
       "      <td>12375</td>\n",
       "      <td>28152</td>\n",
       "      <td>1520</td>\n",
       "      <td>42</td>\n",
       "      <td>USA</td>\n",
       "      <td>5409.0</td>\n",
       "      <td>25.683</td>\n",
       "    </tr>\n",
       "    <tr>\n",
       "      <td>42</td>\n",
       "      <td>2020-04-06</td>\n",
       "      <td>366317</td>\n",
       "      <td>13894</td>\n",
       "      <td>29515</td>\n",
       "      <td>1519</td>\n",
       "      <td>43</td>\n",
       "      <td>USA</td>\n",
       "      <td>5865.0</td>\n",
       "      <td>29.145</td>\n",
       "    </tr>\n",
       "    <tr>\n",
       "      <td>43</td>\n",
       "      <td>2020-04-07</td>\n",
       "      <td>397121</td>\n",
       "      <td>16191</td>\n",
       "      <td>30804</td>\n",
       "      <td>2297</td>\n",
       "      <td>44</td>\n",
       "      <td>USA</td>\n",
       "      <td>6326.0</td>\n",
       "      <td>33.199</td>\n",
       "    </tr>\n",
       "    <tr>\n",
       "      <td>44</td>\n",
       "      <td>2020-04-08</td>\n",
       "      <td>428654</td>\n",
       "      <td>18270</td>\n",
       "      <td>31533</td>\n",
       "      <td>2079</td>\n",
       "      <td>45</td>\n",
       "      <td>USA</td>\n",
       "      <td>6763.0</td>\n",
       "      <td>38.957</td>\n",
       "    </tr>\n",
       "    <tr>\n",
       "      <td>45</td>\n",
       "      <td>2020-04-09</td>\n",
       "      <td>462780</td>\n",
       "      <td>20255</td>\n",
       "      <td>34126</td>\n",
       "      <td>1985</td>\n",
       "      <td>46</td>\n",
       "      <td>USA</td>\n",
       "      <td>7264.0</td>\n",
       "      <td>44.764</td>\n",
       "    </tr>\n",
       "    <tr>\n",
       "      <td>46</td>\n",
       "      <td>2020-04-10</td>\n",
       "      <td>496535</td>\n",
       "      <td>22333</td>\n",
       "      <td>33755</td>\n",
       "      <td>2078</td>\n",
       "      <td>47</td>\n",
       "      <td>USA</td>\n",
       "      <td>7740.0</td>\n",
       "      <td>50.423</td>\n",
       "    </tr>\n",
       "    <tr>\n",
       "      <td>47</td>\n",
       "      <td>2020-04-11</td>\n",
       "      <td>526396</td>\n",
       "      <td>24342</td>\n",
       "      <td>29861</td>\n",
       "      <td>2009</td>\n",
       "      <td>48</td>\n",
       "      <td>USA</td>\n",
       "      <td>8159.0</td>\n",
       "      <td>56.728</td>\n",
       "    </tr>\n",
       "    <tr>\n",
       "      <td>48</td>\n",
       "      <td>2020-04-12</td>\n",
       "      <td>555313</td>\n",
       "      <td>26086</td>\n",
       "      <td>28917</td>\n",
       "      <td>1744</td>\n",
       "      <td>49</td>\n",
       "      <td>USA</td>\n",
       "      <td>8587.0</td>\n",
       "      <td>62.259</td>\n",
       "    </tr>\n",
       "    <tr>\n",
       "      <td>49</td>\n",
       "      <td>2020-04-13</td>\n",
       "      <td>580619</td>\n",
       "      <td>27870</td>\n",
       "      <td>25306</td>\n",
       "      <td>1784</td>\n",
       "      <td>50</td>\n",
       "      <td>USA</td>\n",
       "      <td>8989.0</td>\n",
       "      <td>66.791</td>\n",
       "    </tr>\n",
       "    <tr>\n",
       "      <td>50</td>\n",
       "      <td>2020-04-14</td>\n",
       "      <td>607670</td>\n",
       "      <td>30262</td>\n",
       "      <td>27051</td>\n",
       "      <td>2392</td>\n",
       "      <td>51</td>\n",
       "      <td>USA</td>\n",
       "      <td>9444.0</td>\n",
       "      <td>71.447</td>\n",
       "    </tr>\n",
       "    <tr>\n",
       "      <td>51</td>\n",
       "      <td>2020-04-15</td>\n",
       "      <td>636350</td>\n",
       "      <td>32734</td>\n",
       "      <td>28680</td>\n",
       "      <td>2472</td>\n",
       "      <td>52</td>\n",
       "      <td>USA</td>\n",
       "      <td>9857.0</td>\n",
       "      <td>78.721</td>\n",
       "    </tr>\n",
       "    <tr>\n",
       "      <td>52</td>\n",
       "      <td>2020-04-16</td>\n",
       "      <td>667592</td>\n",
       "      <td>34827</td>\n",
       "      <td>31242</td>\n",
       "      <td>2093</td>\n",
       "      <td>53</td>\n",
       "      <td>USA</td>\n",
       "      <td>10346.0</td>\n",
       "      <td>93.610</td>\n",
       "    </tr>\n",
       "    <tr>\n",
       "      <td>53</td>\n",
       "      <td>2020-04-17</td>\n",
       "      <td>699706</td>\n",
       "      <td>37411</td>\n",
       "      <td>32114</td>\n",
       "      <td>2584</td>\n",
       "      <td>54</td>\n",
       "      <td>USA</td>\n",
       "      <td>10824.0</td>\n",
       "      <td>100.555</td>\n",
       "    </tr>\n",
       "    <tr>\n",
       "      <td>54</td>\n",
       "      <td>2020-04-18</td>\n",
       "      <td>732197</td>\n",
       "      <td>39753</td>\n",
       "      <td>32491</td>\n",
       "      <td>2342</td>\n",
       "      <td>55</td>\n",
       "      <td>USA</td>\n",
       "      <td>11254.0</td>\n",
       "      <td>111.945</td>\n",
       "    </tr>\n",
       "    <tr>\n",
       "      <td>55</td>\n",
       "      <td>2020-04-19</td>\n",
       "      <td>758809</td>\n",
       "      <td>40945</td>\n",
       "      <td>26612</td>\n",
       "      <td>1192</td>\n",
       "      <td>56</td>\n",
       "      <td>USA</td>\n",
       "      <td>11757.0</td>\n",
       "      <td>117.552</td>\n",
       "    </tr>\n",
       "    <tr>\n",
       "      <td>56</td>\n",
       "      <td>2020-04-20</td>\n",
       "      <td>784326</td>\n",
       "      <td>42659</td>\n",
       "      <td>25517</td>\n",
       "      <td>1714</td>\n",
       "      <td>57</td>\n",
       "      <td>USA</td>\n",
       "      <td>12203.0</td>\n",
       "      <td>122.905</td>\n",
       "    </tr>\n",
       "    <tr>\n",
       "      <td>57</td>\n",
       "      <td>2020-04-21</td>\n",
       "      <td>811865</td>\n",
       "      <td>45086</td>\n",
       "      <td>27539</td>\n",
       "      <td>2427</td>\n",
       "      <td>58</td>\n",
       "      <td>USA</td>\n",
       "      <td>12651.0</td>\n",
       "      <td>128.516</td>\n",
       "    </tr>\n",
       "    <tr>\n",
       "      <td>58</td>\n",
       "      <td>2020-04-22</td>\n",
       "      <td>840351</td>\n",
       "      <td>47412</td>\n",
       "      <td>28486</td>\n",
       "      <td>2326</td>\n",
       "      <td>59</td>\n",
       "      <td>USA</td>\n",
       "      <td>13602.0</td>\n",
       "      <td>136.141</td>\n",
       "    </tr>\n",
       "    <tr>\n",
       "      <td>59</td>\n",
       "      <td>2020-04-23</td>\n",
       "      <td>869170</td>\n",
       "      <td>49724</td>\n",
       "      <td>28819</td>\n",
       "      <td>2312</td>\n",
       "      <td>60</td>\n",
       "      <td>USA</td>\n",
       "      <td>14182.0</td>\n",
       "      <td>141.340</td>\n",
       "    </tr>\n",
       "    <tr>\n",
       "      <td>60</td>\n",
       "      <td>2020-04-24</td>\n",
       "      <td>905358</td>\n",
       "      <td>51493</td>\n",
       "      <td>36188</td>\n",
       "      <td>1769</td>\n",
       "      <td>61</td>\n",
       "      <td>USA</td>\n",
       "      <td>14882.0</td>\n",
       "      <td>150.944</td>\n",
       "    </tr>\n",
       "    <tr>\n",
       "      <td>61</td>\n",
       "      <td>2020-04-25</td>\n",
       "      <td>938154</td>\n",
       "      <td>53755</td>\n",
       "      <td>32796</td>\n",
       "      <td>2262</td>\n",
       "      <td>62</td>\n",
       "      <td>USA</td>\n",
       "      <td>15702.0</td>\n",
       "      <td>154.129</td>\n",
       "    </tr>\n",
       "    <tr>\n",
       "      <td>62</td>\n",
       "      <td>2020-04-26</td>\n",
       "      <td>965785</td>\n",
       "      <td>54881</td>\n",
       "      <td>27631</td>\n",
       "      <td>1126</td>\n",
       "      <td>63</td>\n",
       "      <td>USA</td>\n",
       "      <td>16325.0</td>\n",
       "      <td>160.691</td>\n",
       "    </tr>\n",
       "    <tr>\n",
       "      <td>63</td>\n",
       "      <td>2020-04-27</td>\n",
       "      <td>988197</td>\n",
       "      <td>56219</td>\n",
       "      <td>22412</td>\n",
       "      <td>1338</td>\n",
       "      <td>64</td>\n",
       "      <td>USA</td>\n",
       "      <td>16901.0</td>\n",
       "      <td>165.787</td>\n",
       "    </tr>\n",
       "    <tr>\n",
       "      <td>64</td>\n",
       "      <td>2020-04-28</td>\n",
       "      <td>1012582</td>\n",
       "      <td>58355</td>\n",
       "      <td>24385</td>\n",
       "      <td>2136</td>\n",
       "      <td>65</td>\n",
       "      <td>USA</td>\n",
       "      <td>17510.0</td>\n",
       "      <td>169.923</td>\n",
       "    </tr>\n",
       "    <tr>\n",
       "      <td>65</td>\n",
       "      <td>2020-04-29</td>\n",
       "      <td>1039909</td>\n",
       "      <td>60967</td>\n",
       "      <td>27327</td>\n",
       "      <td>2612</td>\n",
       "      <td>66</td>\n",
       "      <td>USA</td>\n",
       "      <td>18206.0</td>\n",
       "      <td>176.298</td>\n",
       "    </tr>\n",
       "    <tr>\n",
       "      <td>66</td>\n",
       "      <td>2020-04-30</td>\n",
       "      <td>1069424</td>\n",
       "      <td>62996</td>\n",
       "      <td>29515</td>\n",
       "      <td>2029</td>\n",
       "      <td>67</td>\n",
       "      <td>USA</td>\n",
       "      <td>18899.0</td>\n",
       "      <td>184.186</td>\n",
       "    </tr>\n",
       "    <tr>\n",
       "      <td>67</td>\n",
       "      <td>2020-05-01</td>\n",
       "      <td>1103461</td>\n",
       "      <td>64943</td>\n",
       "      <td>34037</td>\n",
       "      <td>1947</td>\n",
       "      <td>68</td>\n",
       "      <td>USA</td>\n",
       "      <td>19794.0</td>\n",
       "      <td>190.349</td>\n",
       "    </tr>\n",
       "    <tr>\n",
       "      <td>68</td>\n",
       "      <td>2020-05-02</td>\n",
       "      <td>1132539</td>\n",
       "      <td>66369</td>\n",
       "      <td>29078</td>\n",
       "      <td>1426</td>\n",
       "      <td>69</td>\n",
       "      <td>USA</td>\n",
       "      <td>20559.0</td>\n",
       "      <td>196.578</td>\n",
       "    </tr>\n",
       "    <tr>\n",
       "      <td>69</td>\n",
       "      <td>2020-05-03</td>\n",
       "      <td>1158040</td>\n",
       "      <td>67682</td>\n",
       "      <td>25501</td>\n",
       "      <td>1313</td>\n",
       "      <td>70</td>\n",
       "      <td>USA</td>\n",
       "      <td>21309.0</td>\n",
       "      <td>200.557</td>\n",
       "    </tr>\n",
       "    <tr>\n",
       "      <td>70</td>\n",
       "      <td>2020-05-04</td>\n",
       "      <td>1180375</td>\n",
       "      <td>68922</td>\n",
       "      <td>22335</td>\n",
       "      <td>1240</td>\n",
       "      <td>71</td>\n",
       "      <td>USA</td>\n",
       "      <td>22010.0</td>\n",
       "      <td>204.476</td>\n",
       "    </tr>\n",
       "    <tr>\n",
       "      <td>71</td>\n",
       "      <td>2020-05-05</td>\n",
       "      <td>1204351</td>\n",
       "      <td>71064</td>\n",
       "      <td>23976</td>\n",
       "      <td>2142</td>\n",
       "      <td>72</td>\n",
       "      <td>USA</td>\n",
       "      <td>22792.0</td>\n",
       "      <td>208.258</td>\n",
       "    </tr>\n",
       "  </tbody>\n",
       "</table>\n",
       "</div>"
      ],
      "text/plain": [
       "         date  confirmed  deaths  new_confirmed  new_deaths  tagged_day  \\\n",
       "12 2020-03-07        402      17            140           3          13   \n",
       "13 2020-03-08        518      21            116           4          14   \n",
       "14 2020-03-09        583      22             65           1          15   \n",
       "15 2020-03-10        959      28            376           6          16   \n",
       "16 2020-03-11       1281      36            322           8          17   \n",
       "17 2020-03-12       1663      41            382           5          18   \n",
       "18 2020-03-13       2179      49            516           8          19   \n",
       "19 2020-03-14       2727      58            548           9          20   \n",
       "20 2020-03-15       3499      73            772          15          21   \n",
       "21 2020-03-16       4632      99           1133          26          22   \n",
       "22 2020-03-17       6421     133           1789          34          23   \n",
       "23 2020-03-18       7783     164           1362          31          24   \n",
       "24 2020-03-19      13747     258           5964          94          25   \n",
       "25 2020-03-20      19273     349           5526          91          26   \n",
       "26 2020-03-21      25600     442           6327          93          27   \n",
       "27 2020-03-22      33276     586           7676         144          28   \n",
       "28 2020-03-23      43843     786          10567         200          29   \n",
       "29 2020-03-24      53736    1008           9893         222          30   \n",
       "30 2020-03-25      65778    1316          12042         308          31   \n",
       "31 2020-03-26      83836    1726          18058         410          32   \n",
       "32 2020-03-27     101657    2265          17821         539          33   \n",
       "33 2020-03-28     121465    2731          19808         466          34   \n",
       "34 2020-03-29     140909    3420          19444         689          35   \n",
       "35 2020-03-30     161831    4192          20922         772          36   \n",
       "36 2020-03-31     188172    5367          26341        1175          37   \n",
       "37 2020-04-01     213242    6501          25070        1134          38   \n",
       "38 2020-04-02     243622    7921          30380        1420          39   \n",
       "39 2020-04-03     275367    9246          31745        1325          40   \n",
       "40 2020-04-04     308650   10855          33283        1609          41   \n",
       "41 2020-04-05     336802   12375          28152        1520          42   \n",
       "42 2020-04-06     366317   13894          29515        1519          43   \n",
       "43 2020-04-07     397121   16191          30804        2297          44   \n",
       "44 2020-04-08     428654   18270          31533        2079          45   \n",
       "45 2020-04-09     462780   20255          34126        1985          46   \n",
       "46 2020-04-10     496535   22333          33755        2078          47   \n",
       "47 2020-04-11     526396   24342          29861        2009          48   \n",
       "48 2020-04-12     555313   26086          28917        1744          49   \n",
       "49 2020-04-13     580619   27870          25306        1784          50   \n",
       "50 2020-04-14     607670   30262          27051        2392          51   \n",
       "51 2020-04-15     636350   32734          28680        2472          52   \n",
       "52 2020-04-16     667592   34827          31242        2093          53   \n",
       "53 2020-04-17     699706   37411          32114        2584          54   \n",
       "54 2020-04-18     732197   39753          32491        2342          55   \n",
       "55 2020-04-19     758809   40945          26612        1192          56   \n",
       "56 2020-04-20     784326   42659          25517        1714          57   \n",
       "57 2020-04-21     811865   45086          27539        2427          58   \n",
       "58 2020-04-22     840351   47412          28486        2326          59   \n",
       "59 2020-04-23     869170   49724          28819        2312          60   \n",
       "60 2020-04-24     905358   51493          36188        1769          61   \n",
       "61 2020-04-25     938154   53755          32796        2262          62   \n",
       "62 2020-04-26     965785   54881          27631        1126          63   \n",
       "63 2020-04-27     988197   56219          22412        1338          64   \n",
       "64 2020-04-28    1012582   58355          24385        2136          65   \n",
       "65 2020-04-29    1039909   60967          27327        2612          66   \n",
       "66 2020-04-30    1069424   62996          29515        2029          67   \n",
       "67 2020-05-01    1103461   64943          34037        1947          68   \n",
       "68 2020-05-02    1132539   66369          29078        1426          69   \n",
       "69 2020-05-03    1158040   67682          25501        1313          70   \n",
       "70 2020-05-04    1180375   68922          22335        1240          71   \n",
       "71 2020-05-05    1204351   71064          23976        2142          72   \n",
       "\n",
       "   country code  Total tests per million people  \\\n",
       "12          USA                            11.0   \n",
       "13          USA                            14.0   \n",
       "14          USA                            19.0   \n",
       "15          USA                            27.0   \n",
       "16          USA                            38.0   \n",
       "17          USA                            54.0   \n",
       "18          USA                            81.0   \n",
       "19          USA                            95.0   \n",
       "20          USA                           118.0   \n",
       "21          USA                           171.0   \n",
       "22          USA                           218.0   \n",
       "23          USA                           293.0   \n",
       "24          USA                           375.0   \n",
       "25          USA                           485.0   \n",
       "26          USA                           620.0   \n",
       "27          USA                           755.0   \n",
       "28          USA                           927.0   \n",
       "29          USA                          1134.0   \n",
       "30          USA                          1387.0   \n",
       "31          USA                          1690.0   \n",
       "32          USA                          2002.0   \n",
       "33          USA                          2317.0   \n",
       "34          USA                          2585.0   \n",
       "35          USA                          2940.0   \n",
       "36          USA                          3276.0   \n",
       "37          USA                          3601.0   \n",
       "38          USA                          3957.0   \n",
       "39          USA                          4357.0   \n",
       "40          USA                          5048.0   \n",
       "41          USA                          5409.0   \n",
       "42          USA                          5865.0   \n",
       "43          USA                          6326.0   \n",
       "44          USA                          6763.0   \n",
       "45          USA                          7264.0   \n",
       "46          USA                          7740.0   \n",
       "47          USA                          8159.0   \n",
       "48          USA                          8587.0   \n",
       "49          USA                          8989.0   \n",
       "50          USA                          9444.0   \n",
       "51          USA                          9857.0   \n",
       "52          USA                         10346.0   \n",
       "53          USA                         10824.0   \n",
       "54          USA                         11254.0   \n",
       "55          USA                         11757.0   \n",
       "56          USA                         12203.0   \n",
       "57          USA                         12651.0   \n",
       "58          USA                         13602.0   \n",
       "59          USA                         14182.0   \n",
       "60          USA                         14882.0   \n",
       "61          USA                         15702.0   \n",
       "62          USA                         16325.0   \n",
       "63          USA                         16901.0   \n",
       "64          USA                         17510.0   \n",
       "65          USA                         18206.0   \n",
       "66          USA                         18899.0   \n",
       "67          USA                         19794.0   \n",
       "68          USA                         20559.0   \n",
       "69          USA                         21309.0   \n",
       "70          USA                         22010.0   \n",
       "71          USA                         22792.0   \n",
       "\n",
       "    Total confirmed deaths due to COVID-19 per million people (deaths per million)  \n",
       "12                                              0.042                               \n",
       "13                                              0.051                               \n",
       "14                                              0.063                               \n",
       "15                                              0.079                               \n",
       "16                                              0.085                               \n",
       "17                                              0.091                               \n",
       "18                                              0.121                               \n",
       "19                                              0.142                               \n",
       "20                                              0.172                               \n",
       "21                                              0.208                               \n",
       "22                                              0.257                               \n",
       "23                                              0.326                               \n",
       "24                                              0.453                               \n",
       "25                                              0.453                               \n",
       "26                                              0.785                               \n",
       "27                                              1.027                               \n",
       "28                                              1.423                               \n",
       "29                                              1.782                               \n",
       "30                                              2.420                               \n",
       "31                                              3.172                               \n",
       "32                                              3.915                               \n",
       "33                                              5.157                               \n",
       "34                                              6.619                               \n",
       "35                                              7.580                               \n",
       "36                                              9.577                               \n",
       "37                                             12.323                               \n",
       "38                                             15.523                               \n",
       "39                                             18.287                               \n",
       "40                                             21.622                               \n",
       "41                                             25.683                               \n",
       "42                                             29.145                               \n",
       "43                                             33.199                               \n",
       "44                                             38.957                               \n",
       "45                                             44.764                               \n",
       "46                                             50.423                               \n",
       "47                                             56.728                               \n",
       "48                                             62.259                               \n",
       "49                                             66.791                               \n",
       "50                                             71.447                               \n",
       "51                                             78.721                               \n",
       "52                                             93.610                               \n",
       "53                                            100.555                               \n",
       "54                                            111.945                               \n",
       "55                                            117.552                               \n",
       "56                                            122.905                               \n",
       "57                                            128.516                               \n",
       "58                                            136.141                               \n",
       "59                                            141.340                               \n",
       "60                                            150.944                               \n",
       "61                                            154.129                               \n",
       "62                                            160.691                               \n",
       "63                                            165.787                               \n",
       "64                                            169.923                               \n",
       "65                                            176.298                               \n",
       "66                                            184.186                               \n",
       "67                                            190.349                               \n",
       "68                                            196.578                               \n",
       "69                                            200.557                               \n",
       "70                                            204.476                               \n",
       "71                                            208.258                               "
      ]
     },
     "execution_count": 17,
     "metadata": {},
     "output_type": "execute_result"
    }
   ],
   "source": [
    "dfkor = df4.loc[df4['country code'] == 'USA']\n",
    "dfkor"
   ]
  },
  {
   "cell_type": "code",
   "execution_count": 18,
   "metadata": {
    "scrolled": true
   },
   "outputs": [
    {
     "data": {
      "text/html": [
       "<div>\n",
       "<style scoped>\n",
       "    .dataframe tbody tr th:only-of-type {\n",
       "        vertical-align: middle;\n",
       "    }\n",
       "\n",
       "    .dataframe tbody tr th {\n",
       "        vertical-align: top;\n",
       "    }\n",
       "\n",
       "    .dataframe thead th {\n",
       "        text-align: right;\n",
       "    }\n",
       "</style>\n",
       "<table border=\"1\" class=\"dataframe\">\n",
       "  <thead>\n",
       "    <tr style=\"text-align: right;\">\n",
       "      <th></th>\n",
       "      <th>date</th>\n",
       "      <th>confirmed</th>\n",
       "      <th>deaths</th>\n",
       "      <th>new_confirmed</th>\n",
       "      <th>new_deaths</th>\n",
       "      <th>tagged_day</th>\n",
       "      <th>country code</th>\n",
       "      <th>Total tests per million people</th>\n",
       "      <th>Total confirmed deaths due to COVID-19 per million people (deaths per million)</th>\n",
       "    </tr>\n",
       "  </thead>\n",
       "  <tbody>\n",
       "    <tr>\n",
       "      <td>87</td>\n",
       "      <td>2020-02-21</td>\n",
       "      <td>204</td>\n",
       "      <td>2</td>\n",
       "      <td>100</td>\n",
       "      <td>1</td>\n",
       "      <td>16</td>\n",
       "      <td>KOR</td>\n",
       "      <td>289.0</td>\n",
       "      <td>0.020</td>\n",
       "    </tr>\n",
       "    <tr>\n",
       "      <td>88</td>\n",
       "      <td>2020-02-22</td>\n",
       "      <td>433</td>\n",
       "      <td>2</td>\n",
       "      <td>229</td>\n",
       "      <td>0</td>\n",
       "      <td>17</td>\n",
       "      <td>KOR</td>\n",
       "      <td>383.0</td>\n",
       "      <td>0.039</td>\n",
       "    </tr>\n",
       "    <tr>\n",
       "      <td>89</td>\n",
       "      <td>2020-02-23</td>\n",
       "      <td>602</td>\n",
       "      <td>6</td>\n",
       "      <td>169</td>\n",
       "      <td>4</td>\n",
       "      <td>18</td>\n",
       "      <td>KOR</td>\n",
       "      <td>441.0</td>\n",
       "      <td>0.098</td>\n",
       "    </tr>\n",
       "    <tr>\n",
       "      <td>90</td>\n",
       "      <td>2020-02-24</td>\n",
       "      <td>833</td>\n",
       "      <td>8</td>\n",
       "      <td>231</td>\n",
       "      <td>2</td>\n",
       "      <td>19</td>\n",
       "      <td>KOR</td>\n",
       "      <td>558.0</td>\n",
       "      <td>0.137</td>\n",
       "    </tr>\n",
       "    <tr>\n",
       "      <td>91</td>\n",
       "      <td>2020-02-25</td>\n",
       "      <td>977</td>\n",
       "      <td>10</td>\n",
       "      <td>144</td>\n",
       "      <td>2</td>\n",
       "      <td>20</td>\n",
       "      <td>KOR</td>\n",
       "      <td>716.0</td>\n",
       "      <td>0.156</td>\n",
       "    </tr>\n",
       "    <tr>\n",
       "      <td>...</td>\n",
       "      <td>...</td>\n",
       "      <td>...</td>\n",
       "      <td>...</td>\n",
       "      <td>...</td>\n",
       "      <td>...</td>\n",
       "      <td>...</td>\n",
       "      <td>...</td>\n",
       "      <td>...</td>\n",
       "      <td>...</td>\n",
       "    </tr>\n",
       "    <tr>\n",
       "      <td>157</td>\n",
       "      <td>2020-05-01</td>\n",
       "      <td>10780</td>\n",
       "      <td>250</td>\n",
       "      <td>6</td>\n",
       "      <td>2</td>\n",
       "      <td>86</td>\n",
       "      <td>KOR</td>\n",
       "      <td>12153.0</td>\n",
       "      <td>4.837</td>\n",
       "    </tr>\n",
       "    <tr>\n",
       "      <td>158</td>\n",
       "      <td>2020-05-02</td>\n",
       "      <td>10793</td>\n",
       "      <td>250</td>\n",
       "      <td>13</td>\n",
       "      <td>0</td>\n",
       "      <td>87</td>\n",
       "      <td>KOR</td>\n",
       "      <td>12241.0</td>\n",
       "      <td>4.876</td>\n",
       "    </tr>\n",
       "    <tr>\n",
       "      <td>159</td>\n",
       "      <td>2020-05-03</td>\n",
       "      <td>10801</td>\n",
       "      <td>252</td>\n",
       "      <td>8</td>\n",
       "      <td>2</td>\n",
       "      <td>88</td>\n",
       "      <td>KOR</td>\n",
       "      <td>12307.0</td>\n",
       "      <td>4.876</td>\n",
       "    </tr>\n",
       "    <tr>\n",
       "      <td>160</td>\n",
       "      <td>2020-05-04</td>\n",
       "      <td>10804</td>\n",
       "      <td>254</td>\n",
       "      <td>3</td>\n",
       "      <td>2</td>\n",
       "      <td>89</td>\n",
       "      <td>KOR</td>\n",
       "      <td>12365.0</td>\n",
       "      <td>4.915</td>\n",
       "    </tr>\n",
       "    <tr>\n",
       "      <td>161</td>\n",
       "      <td>2020-05-05</td>\n",
       "      <td>10806</td>\n",
       "      <td>255</td>\n",
       "      <td>2</td>\n",
       "      <td>1</td>\n",
       "      <td>90</td>\n",
       "      <td>KOR</td>\n",
       "      <td>12488.0</td>\n",
       "      <td>4.954</td>\n",
       "    </tr>\n",
       "  </tbody>\n",
       "</table>\n",
       "<p>75 rows × 9 columns</p>\n",
       "</div>"
      ],
      "text/plain": [
       "          date  confirmed  deaths  new_confirmed  new_deaths  tagged_day  \\\n",
       "87  2020-02-21        204       2            100           1          16   \n",
       "88  2020-02-22        433       2            229           0          17   \n",
       "89  2020-02-23        602       6            169           4          18   \n",
       "90  2020-02-24        833       8            231           2          19   \n",
       "91  2020-02-25        977      10            144           2          20   \n",
       "..         ...        ...     ...            ...         ...         ...   \n",
       "157 2020-05-01      10780     250              6           2          86   \n",
       "158 2020-05-02      10793     250             13           0          87   \n",
       "159 2020-05-03      10801     252              8           2          88   \n",
       "160 2020-05-04      10804     254              3           2          89   \n",
       "161 2020-05-05      10806     255              2           1          90   \n",
       "\n",
       "    country code  Total tests per million people  \\\n",
       "87           KOR                           289.0   \n",
       "88           KOR                           383.0   \n",
       "89           KOR                           441.0   \n",
       "90           KOR                           558.0   \n",
       "91           KOR                           716.0   \n",
       "..           ...                             ...   \n",
       "157          KOR                         12153.0   \n",
       "158          KOR                         12241.0   \n",
       "159          KOR                         12307.0   \n",
       "160          KOR                         12365.0   \n",
       "161          KOR                         12488.0   \n",
       "\n",
       "     Total confirmed deaths due to COVID-19 per million people (deaths per million)  \n",
       "87                                               0.020                               \n",
       "88                                               0.039                               \n",
       "89                                               0.098                               \n",
       "90                                               0.137                               \n",
       "91                                               0.156                               \n",
       "..                                                 ...                               \n",
       "157                                              4.837                               \n",
       "158                                              4.876                               \n",
       "159                                              4.876                               \n",
       "160                                              4.915                               \n",
       "161                                              4.954                               \n",
       "\n",
       "[75 rows x 9 columns]"
      ]
     },
     "execution_count": 18,
     "metadata": {},
     "output_type": "execute_result"
    }
   ],
   "source": [
    "dfusa = df4.loc[df4['country code'] == 'KOR']\n",
    "dfusa"
   ]
  },
  {
   "cell_type": "code",
   "execution_count": 19,
   "metadata": {
    "scrolled": true
   },
   "outputs": [
    {
     "data": {
      "text/plain": [
       "<matplotlib.axes._subplots.AxesSubplot at 0x138f87710>"
      ]
     },
     "execution_count": 19,
     "metadata": {},
     "output_type": "execute_result"
    },
    {
     "data": {
      "image/png": "[encoded data removed]",
      "text/plain": [
       "<Figure size 432x288 with 1 Axes>"
      ]
     },
     "metadata": {
      "needs_background": "light"
     },
     "output_type": "display_data"
    },
    {
     "data": {
      "image/png": "[encoded data removed]",
      "text/plain": [
       "<Figure size 432x288 with 1 Axes>"
      ]
     },
     "metadata": {
      "needs_background": "light"
     },
     "output_type": "display_data"
    },
    {
     "data": {
      "image/png": "[encoded data removed]",
      "text/plain": [
       "<Figure size 432x288 with 1 Axes>"
      ]
     },
     "metadata": {
      "needs_background": "light"
     },
     "output_type": "display_data"
    },
    {
     "data": {
      "image/png": "[encoded data removed]",
      "text/plain": [
       "<Figure size 432x288 with 1 Axes>"
      ]
     },
     "metadata": {
      "needs_background": "light"
     },
     "output_type": "display_data"
    }
   ],
   "source": [
    "dfkor.plot(x='tagged_day', y='new_confirmed')\n",
    "dfkor.plot(x='tagged_day', y='confirmed', color = 'red')\n",
    "dfkor.plot(x='tagged_day', y='new_deaths')\n",
    "dfkor.plot(x='tagged_day', y='deaths', color = 'red')"
   ]
  },
  {
   "cell_type": "code",
   "execution_count": 20,
   "metadata": {
    "scrolled": true
   },
   "outputs": [
    {
     "data": {
      "text/plain": [
       "<matplotlib.axes._subplots.AxesSubplot at 0x139329510>"
      ]
     },
     "execution_count": 20,
     "metadata": {},
     "output_type": "execute_result"
    },
    {
     "data": {
      "image/png": "[encoded data removed]",
      "text/plain": [
       "<Figure size 432x288 with 1 Axes>"
      ]
     },
     "metadata": {
      "needs_background": "light"
     },
     "output_type": "display_data"
    },
    {
     "data": {
      "image/png": "[encoded data removed]",
      "text/plain": [
       "<Figure size 432x288 with 1 Axes>"
      ]
     },
     "metadata": {
      "needs_background": "light"
     },
     "output_type": "display_data"
    },
    {
     "data": {
      "image/png": "[encoded data removed]",
      "text/plain": [
       "<Figure size 432x288 with 1 Axes>"
      ]
     },
     "metadata": {
      "needs_background": "light"
     },
     "output_type": "display_data"
    },
    {
     "data": {
      "image/png": "[encoded data removed]",
      "text/plain": [
       "<Figure size 432x288 with 1 Axes>"
      ]
     },
     "metadata": {
      "needs_background": "light"
     },
     "output_type": "display_data"
    }
   ],
   "source": [
    "dfusa.plot(x='tagged_day', y='new_confirmed')\n",
    "dfusa.plot(x='tagged_day', y='confirmed', color = 'red')\n",
    "dfusa.plot(x='tagged_day', y='new_deaths')\n",
    "dfusa.plot(x='tagged_day', y='deaths', color = 'red')"
   ]
  },
  {
   "cell_type": "code",
   "execution_count": 21,
   "metadata": {
    "scrolled": false
   },
   "outputs": [
    {
     "data": {
      "image/png": "[encoded data removed]",
      "text/plain": [
       "<Figure size 864x288 with 1 Axes>"
      ]
     },
     "metadata": {
      "needs_background": "light"
     },
     "output_type": "display_data"
    }
   ],
   "source": [
    "plt.figure(figsize=(12,4))\n",
    "ax1 = sns.barplot(x=\"tagged_day\", y=\"deaths\", data=dfkor)\n",
    "ax1.set_xticklabels(ax1.get_xticklabels(), rotation=90, ha=\"right\")\n",
    "plt.tight_layout()\n",
    "plt.show()"
   ]
  },
  {
   "cell_type": "code",
   "execution_count": 22,
   "metadata": {
    "scrolled": true
   },
   "outputs": [
    {
     "data": {
      "image/png": "[encoded data removed]",
      "text/plain": [
       "<Figure size 864x288 with 1 Axes>"
      ]
     },
     "metadata": {
      "needs_background": "light"
     },
     "output_type": "display_data"
    }
   ],
   "source": [
    "plt.figure(figsize=(12,4))\n",
    "ax2 = sns.barplot(x=\"tagged_day\", y=\"deaths\", data=dfusa)\n",
    "ax2.set_xticklabels(ax2.get_xticklabels(), rotation=90, ha=\"right\")\n",
    "plt.tight_layout()\n",
    "plt.show()"
   ]
  },
  {
   "cell_type": "code",
   "execution_count": 23,
   "metadata": {
    "scrolled": true
   },
   "outputs": [
    {
     "data": {
      "text/plain": [
       "<seaborn.axisgrid.FacetGrid at 0x137931210>"
      ]
     },
     "execution_count": 23,
     "metadata": {},
     "output_type": "execute_result"
    },
    {
     "data": {
      "image/png": "[encoded data removed]",
      "text/plain": [
       "<Figure size 720x360 with 2 Axes>"
      ]
     },
     "metadata": {
      "needs_background": "light"
     },
     "output_type": "display_data"
    }
   ],
   "source": [
    "sns.lmplot(x=\"tagged_day\", y=\"deaths\", data = df4, col=\"country code\")"
   ]
  },
  {
   "cell_type": "code",
   "execution_count": 24,
   "metadata": {
    "scrolled": true
   },
   "outputs": [
    {
     "data": {
      "text/plain": [
       "<seaborn.axisgrid.FacetGrid at 0x1110c4590>"
      ]
     },
     "execution_count": 24,
     "metadata": {},
     "output_type": "execute_result"
    },
    {
     "data": {
      "image/png": "[encoded data removed]",
      "text/plain": [
       "<Figure size 720x360 with 2 Axes>"
      ]
     },
     "metadata": {
      "needs_background": "light"
     },
     "output_type": "display_data"
    }
   ],
   "source": [
    "sns.lmplot(x=\"Total tests per million people\", y=\"deaths\", data = df4, col=\"country code\")"
   ]
  },
  {
   "cell_type": "code",
   "execution_count": 25,
   "metadata": {},
   "outputs": [
    {
     "data": {
      "text/html": [
       "<div>\n",
       "<style scoped>\n",
       "    .dataframe tbody tr th:only-of-type {\n",
       "        vertical-align: middle;\n",
       "    }\n",
       "\n",
       "    .dataframe tbody tr th {\n",
       "        vertical-align: top;\n",
       "    }\n",
       "\n",
       "    .dataframe thead th {\n",
       "        text-align: right;\n",
       "    }\n",
       "</style>\n",
       "<table border=\"1\" class=\"dataframe\">\n",
       "  <thead>\n",
       "    <tr style=\"text-align: right;\">\n",
       "      <th></th>\n",
       "      <th>confirmed</th>\n",
       "      <th>deaths</th>\n",
       "      <th>new_confirmed</th>\n",
       "      <th>new_deaths</th>\n",
       "      <th>tagged_day</th>\n",
       "      <th>Total tests per million people</th>\n",
       "      <th>Total confirmed deaths due to COVID-19 per million people (deaths per million)</th>\n",
       "    </tr>\n",
       "  </thead>\n",
       "  <tbody>\n",
       "    <tr>\n",
       "      <td>confirmed</td>\n",
       "      <td>1.000000</td>\n",
       "      <td>0.993977</td>\n",
       "      <td>0.719097</td>\n",
       "      <td>0.786015</td>\n",
       "      <td>0.974158</td>\n",
       "      <td>0.995014</td>\n",
       "      <td>0.983470</td>\n",
       "    </tr>\n",
       "    <tr>\n",
       "      <td>deaths</td>\n",
       "      <td>0.993977</td>\n",
       "      <td>1.000000</td>\n",
       "      <td>0.645063</td>\n",
       "      <td>0.730178</td>\n",
       "      <td>0.950225</td>\n",
       "      <td>0.994722</td>\n",
       "      <td>0.996920</td>\n",
       "    </tr>\n",
       "    <tr>\n",
       "      <td>new_confirmed</td>\n",
       "      <td>0.719097</td>\n",
       "      <td>0.645063</td>\n",
       "      <td>1.000000</td>\n",
       "      <td>0.899948</td>\n",
       "      <td>0.821915</td>\n",
       "      <td>0.680707</td>\n",
       "      <td>0.596553</td>\n",
       "    </tr>\n",
       "    <tr>\n",
       "      <td>new_deaths</td>\n",
       "      <td>0.786015</td>\n",
       "      <td>0.730178</td>\n",
       "      <td>0.899948</td>\n",
       "      <td>1.000000</td>\n",
       "      <td>0.835285</td>\n",
       "      <td>0.740809</td>\n",
       "      <td>0.680252</td>\n",
       "    </tr>\n",
       "    <tr>\n",
       "      <td>tagged_day</td>\n",
       "      <td>0.974158</td>\n",
       "      <td>0.950225</td>\n",
       "      <td>0.821915</td>\n",
       "      <td>0.835285</td>\n",
       "      <td>1.000000</td>\n",
       "      <td>0.964661</td>\n",
       "      <td>0.931267</td>\n",
       "    </tr>\n",
       "    <tr>\n",
       "      <td>Total tests per million people</td>\n",
       "      <td>0.995014</td>\n",
       "      <td>0.994722</td>\n",
       "      <td>0.680707</td>\n",
       "      <td>0.740809</td>\n",
       "      <td>0.964661</td>\n",
       "      <td>1.000000</td>\n",
       "      <td>0.988997</td>\n",
       "    </tr>\n",
       "    <tr>\n",
       "      <td>Total confirmed deaths due to COVID-19 per million people (deaths per million)</td>\n",
       "      <td>0.983470</td>\n",
       "      <td>0.996920</td>\n",
       "      <td>0.596553</td>\n",
       "      <td>0.680252</td>\n",
       "      <td>0.931267</td>\n",
       "      <td>0.988997</td>\n",
       "      <td>1.000000</td>\n",
       "    </tr>\n",
       "  </tbody>\n",
       "</table>\n",
       "</div>"
      ],
      "text/plain": [
       "                                                    confirmed    deaths  \\\n",
       "confirmed                                            1.000000  0.993977   \n",
       "deaths                                               0.993977  1.000000   \n",
       "new_confirmed                                        0.719097  0.645063   \n",
       "new_deaths                                           0.786015  0.730178   \n",
       "tagged_day                                           0.974158  0.950225   \n",
       "Total tests per million people                       0.995014  0.994722   \n",
       "Total confirmed deaths due to COVID-19 per mill...   0.983470  0.996920   \n",
       "\n",
       "                                                    new_confirmed  new_deaths  \\\n",
       "confirmed                                                0.719097    0.786015   \n",
       "deaths                                                   0.645063    0.730178   \n",
       "new_confirmed                                            1.000000    0.899948   \n",
       "new_deaths                                               0.899948    1.000000   \n",
       "tagged_day                                               0.821915    0.835285   \n",
       "Total tests per million people                           0.680707    0.740809   \n",
       "Total confirmed deaths due to COVID-19 per mill...       0.596553    0.680252   \n",
       "\n",
       "                                                    tagged_day  \\\n",
       "confirmed                                             0.974158   \n",
       "deaths                                                0.950225   \n",
       "new_confirmed                                         0.821915   \n",
       "new_deaths                                            0.835285   \n",
       "tagged_day                                            1.000000   \n",
       "Total tests per million people                        0.964661   \n",
       "Total confirmed deaths due to COVID-19 per mill...    0.931267   \n",
       "\n",
       "                                                    Total tests per million people  \\\n",
       "confirmed                                                                 0.995014   \n",
       "deaths                                                                    0.994722   \n",
       "new_confirmed                                                             0.680707   \n",
       "new_deaths                                                                0.740809   \n",
       "tagged_day                                                                0.964661   \n",
       "Total tests per million people                                            1.000000   \n",
       "Total confirmed deaths due to COVID-19 per mill...                        0.988997   \n",
       "\n",
       "                                                    Total confirmed deaths due to COVID-19 per million people (deaths per million)  \n",
       "confirmed                                                                                    0.983470                               \n",
       "deaths                                                                                       0.996920                               \n",
       "new_confirmed                                                                                0.596553                               \n",
       "new_deaths                                                                                   0.680252                               \n",
       "tagged_day                                                                                   0.931267                               \n",
       "Total tests per million people                                                               0.988997                               \n",
       "Total confirmed deaths due to COVID-19 per mill...                                           1.000000                               "
      ]
     },
     "metadata": {},
     "output_type": "display_data"
    },
    {
     "data": {
      "text/html": [
       "<div>\n",
       "<style scoped>\n",
       "    .dataframe tbody tr th:only-of-type {\n",
       "        vertical-align: middle;\n",
       "    }\n",
       "\n",
       "    .dataframe tbody tr th {\n",
       "        vertical-align: top;\n",
       "    }\n",
       "\n",
       "    .dataframe thead th {\n",
       "        text-align: right;\n",
       "    }\n",
       "</style>\n",
       "<table border=\"1\" class=\"dataframe\">\n",
       "  <thead>\n",
       "    <tr style=\"text-align: right;\">\n",
       "      <th></th>\n",
       "      <th>confirmed</th>\n",
       "      <th>deaths</th>\n",
       "      <th>new_confirmed</th>\n",
       "      <th>new_deaths</th>\n",
       "      <th>tagged_day</th>\n",
       "      <th>Total tests per million people</th>\n",
       "      <th>Total confirmed deaths due to COVID-19 per million people (deaths per million)</th>\n",
       "    </tr>\n",
       "  </thead>\n",
       "  <tbody>\n",
       "    <tr>\n",
       "      <td>confirmed</td>\n",
       "      <td>1.000000</td>\n",
       "      <td>0.872653</td>\n",
       "      <td>-0.659339</td>\n",
       "      <td>0.089082</td>\n",
       "      <td>0.865574</td>\n",
       "      <td>0.917139</td>\n",
       "      <td>0.874732</td>\n",
       "    </tr>\n",
       "    <tr>\n",
       "      <td>deaths</td>\n",
       "      <td>0.872653</td>\n",
       "      <td>1.000000</td>\n",
       "      <td>-0.706401</td>\n",
       "      <td>-0.133891</td>\n",
       "      <td>0.988818</td>\n",
       "      <td>0.991503</td>\n",
       "      <td>0.999844</td>\n",
       "    </tr>\n",
       "    <tr>\n",
       "      <td>new_confirmed</td>\n",
       "      <td>-0.659339</td>\n",
       "      <td>-0.706401</td>\n",
       "      <td>1.000000</td>\n",
       "      <td>0.059376</td>\n",
       "      <td>-0.686335</td>\n",
       "      <td>-0.715482</td>\n",
       "      <td>-0.708651</td>\n",
       "    </tr>\n",
       "    <tr>\n",
       "      <td>new_deaths</td>\n",
       "      <td>0.089082</td>\n",
       "      <td>-0.133891</td>\n",
       "      <td>0.059376</td>\n",
       "      <td>1.000000</td>\n",
       "      <td>-0.176974</td>\n",
       "      <td>-0.110500</td>\n",
       "      <td>-0.137733</td>\n",
       "    </tr>\n",
       "    <tr>\n",
       "      <td>tagged_day</td>\n",
       "      <td>0.865574</td>\n",
       "      <td>0.988818</td>\n",
       "      <td>-0.686335</td>\n",
       "      <td>-0.176974</td>\n",
       "      <td>1.000000</td>\n",
       "      <td>0.991055</td>\n",
       "      <td>0.988400</td>\n",
       "    </tr>\n",
       "    <tr>\n",
       "      <td>Total tests per million people</td>\n",
       "      <td>0.917139</td>\n",
       "      <td>0.991503</td>\n",
       "      <td>-0.715482</td>\n",
       "      <td>-0.110500</td>\n",
       "      <td>0.991055</td>\n",
       "      <td>1.000000</td>\n",
       "      <td>0.991888</td>\n",
       "    </tr>\n",
       "    <tr>\n",
       "      <td>Total confirmed deaths due to COVID-19 per million people (deaths per million)</td>\n",
       "      <td>0.874732</td>\n",
       "      <td>0.999844</td>\n",
       "      <td>-0.708651</td>\n",
       "      <td>-0.137733</td>\n",
       "      <td>0.988400</td>\n",
       "      <td>0.991888</td>\n",
       "      <td>1.000000</td>\n",
       "    </tr>\n",
       "  </tbody>\n",
       "</table>\n",
       "</div>"
      ],
      "text/plain": [
       "                                                    confirmed    deaths  \\\n",
       "confirmed                                            1.000000  0.872653   \n",
       "deaths                                               0.872653  1.000000   \n",
       "new_confirmed                                       -0.659339 -0.706401   \n",
       "new_deaths                                           0.089082 -0.133891   \n",
       "tagged_day                                           0.865574  0.988818   \n",
       "Total tests per million people                       0.917139  0.991503   \n",
       "Total confirmed deaths due to COVID-19 per mill...   0.874732  0.999844   \n",
       "\n",
       "                                                    new_confirmed  new_deaths  \\\n",
       "confirmed                                               -0.659339    0.089082   \n",
       "deaths                                                  -0.706401   -0.133891   \n",
       "new_confirmed                                            1.000000    0.059376   \n",
       "new_deaths                                               0.059376    1.000000   \n",
       "tagged_day                                              -0.686335   -0.176974   \n",
       "Total tests per million people                          -0.715482   -0.110500   \n",
       "Total confirmed deaths due to COVID-19 per mill...      -0.708651   -0.137733   \n",
       "\n",
       "                                                    tagged_day  \\\n",
       "confirmed                                             0.865574   \n",
       "deaths                                                0.988818   \n",
       "new_confirmed                                        -0.686335   \n",
       "new_deaths                                           -0.176974   \n",
       "tagged_day                                            1.000000   \n",
       "Total tests per million people                        0.991055   \n",
       "Total confirmed deaths due to COVID-19 per mill...    0.988400   \n",
       "\n",
       "                                                    Total tests per million people  \\\n",
       "confirmed                                                                 0.917139   \n",
       "deaths                                                                    0.991503   \n",
       "new_confirmed                                                            -0.715482   \n",
       "new_deaths                                                               -0.110500   \n",
       "tagged_day                                                                0.991055   \n",
       "Total tests per million people                                            1.000000   \n",
       "Total confirmed deaths due to COVID-19 per mill...                        0.991888   \n",
       "\n",
       "                                                    Total confirmed deaths due to COVID-19 per million people (deaths per million)  \n",
       "confirmed                                                                                    0.874732                               \n",
       "deaths                                                                                       0.999844                               \n",
       "new_confirmed                                                                               -0.708651                               \n",
       "new_deaths                                                                                  -0.137733                               \n",
       "tagged_day                                                                                   0.988400                               \n",
       "Total tests per million people                                                               0.991888                               \n",
       "Total confirmed deaths due to COVID-19 per mill...                                           1.000000                               "
      ]
     },
     "metadata": {},
     "output_type": "display_data"
    }
   ],
   "source": [
    "display(dfkor.corr())\n",
    "display(dfusa.corr())"
   ]
  },
  {
   "cell_type": "markdown",
   "metadata": {},
   "source": [
    "# Split train & test for south korea"
   ]
  },
  {
   "cell_type": "code",
   "execution_count": 26,
   "metadata": {},
   "outputs": [
    {
     "data": {
      "text/plain": [
       "array(['confirmed', 'tagged_day', 'Total tests per million people'],\n",
       "      dtype=object)"
      ]
     },
     "execution_count": 26,
     "metadata": {},
     "output_type": "execute_result"
    }
   ],
   "source": [
    "# dropping new_deaths and using deaths(cumulative) as repsonse variable\n",
    "# dropping new_confirmed, since using cumulative values for confirmed cases & deaths\n",
    "# dropping total confirmed deaths pe rmillion, directly correlated with deaths\n",
    "# country code, since df contains all values of same country\n",
    "# removing date, since tagged_day is added \n",
    "# using deaths as response variable Y\n",
    "X_col_dropped = ['date','deaths','new_confirmed', 'new_deaths', 'country code',\n",
    "                'Total confirmed deaths due to COVID-19 per million people (deaths per million)']\n",
    "X_kor = dfkor.drop(labels=X_col_dropped, axis=1)\n",
    "\n",
    "X_col_names = X_kor.columns.values\n",
    "X_col_names"
   ]
  },
  {
   "cell_type": "code",
   "execution_count": 27,
   "metadata": {
    "scrolled": true
   },
   "outputs": [
    {
     "data": {
      "text/plain": [
       "12    17\n",
       "13    21\n",
       "14    22\n",
       "15    28\n",
       "16    36\n",
       "Name: deaths, dtype: int64"
      ]
     },
     "execution_count": 27,
     "metadata": {},
     "output_type": "execute_result"
    }
   ],
   "source": [
    "y_kor = dfkor.loc[:,'deaths']\n",
    "y_kor.head()"
   ]
  },
  {
   "cell_type": "code",
   "execution_count": 28,
   "metadata": {},
   "outputs": [
    {
     "name": "stdout",
     "output_type": "stream",
     "text": [
      "42 42\n",
      "18 18\n"
     ]
    }
   ],
   "source": [
    "X_train_kor, X_test_kor, y_train_kor, y_test_kor = train_test_split(X_kor, y_kor, test_size=0.3, random_state=1)\n",
    "print(len(X_train_kor),len(y_train_kor))\n",
    "print(len(X_test_kor),len(y_test_kor))"
   ]
  },
  {
   "cell_type": "markdown",
   "metadata": {},
   "source": [
    "# XGB regression"
   ]
  },
  {
   "cell_type": "code",
   "execution_count": 29,
   "metadata": {
    "scrolled": true
   },
   "outputs": [
    {
     "name": "stdout",
     "output_type": "stream",
     "text": [
      "[23:34:05] WARNING: src/objective/regression_obj.cu:152: reg:linear is now deprecated in favor of reg:squarederror.\n"
     ]
    },
    {
     "name": "stderr",
     "output_type": "stream",
     "text": [
      "/opt/anaconda3/lib/python3.7/site-packages/xgboost/core.py:587: FutureWarning: Series.base is deprecated and will be removed in a future version\n",
      "  if getattr(data, 'base', None) is not None and \\\n"
     ]
    },
    {
     "data": {
      "text/plain": [
       "XGBRegressor(base_score=0.5, booster='gbtree', colsample_bylevel=1,\n",
       "             colsample_bynode=1, colsample_bytree=1, gamma=0,\n",
       "             importance_type='gain', learning_rate=0.1, max_delta_step=0,\n",
       "             max_depth=3, min_child_weight=1, missing=None, n_estimators=100,\n",
       "             n_jobs=-1, nthread=None, objective='reg:linear', random_state=0,\n",
       "             reg_alpha=0, reg_lambda=1, scale_pos_weight=1, seed=None,\n",
       "             silent=None, subsample=1, verbosity=1)"
      ]
     },
     "execution_count": 29,
     "metadata": {},
     "output_type": "execute_result"
    }
   ],
   "source": [
    "model_kor = XGBRegressor(n_jobs=-1)\n",
    "model_kor.fit(X_train_kor, y_train_kor)"
   ]
  },
  {
   "cell_type": "code",
   "execution_count": 30,
   "metadata": {},
   "outputs": [
    {
     "data": {
      "text/plain": [
       "array([3.0376014e+04, 3.9747969e+04, 3.9239281e+01, 5.3746324e+04,\n",
       "       5.6211188e+04, 4.0938301e+04, 2.2330242e+04, 2.2330242e+04,\n",
       "       3.0376014e+04, 1.0850771e+04, 6.4985146e+03, 5.8346129e+04,\n",
       "       4.5079828e+04, 4.2054558e+01, 6.4985146e+03, 2.7745881e+04,\n",
       "       3.4214175e+03, 1.6761053e+02], dtype=float32)"
      ]
     },
     "execution_count": 30,
     "metadata": {},
     "output_type": "execute_result"
    }
   ],
   "source": [
    "y_pred_kor = model_kor.predict(X_test_kor)\n",
    "y_pred_kor"
   ]
  },
  {
   "cell_type": "code",
   "execution_count": 31,
   "metadata": {},
   "outputs": [
    {
     "name": "stdout",
     "output_type": "stream",
     "text": [
      "MSE for South Korea: 3911940.10\n",
      "MAE for South Korea: 1670.29\n",
      "RMSE for South Korea: 1977.86\n"
     ]
    }
   ],
   "source": [
    "mse = mean_squared_error(y_test_kor,y_pred_kor)\n",
    "mae = mean_absolute_error(y_test_kor,y_pred_kor)\n",
    "# r2_score = r2_score(y_test_kor,y_pred_kor)\n",
    "print(\"MSE for South Korea: %.2f\" % mse)\n",
    "print(\"MAE for South Korea: %.2f\" % mae)\n",
    "print(\"RMSE for South Korea: %.2f\" % np.sqrt(mse))\n",
    "# print(\"Coefficient of determination for South Korea: %.2f\" % r2_score)"
   ]
  },
  {
   "cell_type": "markdown",
   "metadata": {},
   "source": [
    "### Min Max Scaling"
   ]
  },
  {
   "cell_type": "code",
   "execution_count": 32,
   "metadata": {},
   "outputs": [
    {
     "data": {
      "text/plain": [
       "array([[5.28218388e-01, 6.61016949e-01, 4.32202274e-01],\n",
       "       [5.80841880e-01, 6.94915254e-01, 4.74649928e-01],\n",
       "       [1.50338594e-04, 3.38983051e-02, 3.51169835e-04],\n",
       "       [7.51656424e-01, 8.13559322e-01, 6.52780826e-01],\n",
       "       [8.01847088e-01, 8.47457627e-01, 7.16123085e-01],\n",
       "       [6.51127249e-01, 7.45762712e-01, 5.35182828e-01],\n",
       "       [3.84051152e-01, 5.59322034e-01, 3.18379351e-01],\n",
       "       [4.36890599e-01, 5.93220339e-01, 3.57666476e-01],\n",
       "       [5.54167992e-01, 6.77966102e-01, 4.53667530e-01],\n",
       "       [2.28385920e-01, 4.57627119e-01, 1.90773013e-01],\n",
       "       [1.55961756e-01, 4.06779661e-01, 1.43321189e-01],\n",
       "       [8.63414480e-01, 8.98305085e-01, 7.98691892e-01],\n",
       "       [6.97661612e-01, 7.79661017e-01, 5.96593653e-01],\n",
       "       [4.62644182e-04, 5.08474576e-02, 7.02339669e-04],\n",
       "       [2.02018524e-01, 4.40677966e-01, 1.73214521e-01],\n",
       "       [4.60909058e-01, 6.10169492e-01, 3.76454063e-01],\n",
       "       [1.00554924e-01, 3.55932203e-01, 1.01224705e-01],\n",
       "       [4.99938120e-03, 1.69491525e-01, 9.08651947e-03]])"
      ]
     },
     "execution_count": 32,
     "metadata": {},
     "output_type": "execute_result"
    }
   ],
   "source": [
    "min_max_scaler = MinMaxScaler()\n",
    "X_train_kor_minmax = min_max_scaler.fit_transform(X_train_kor)# fit training set\n",
    "X_test_kor_minmax = min_max_scaler.transform(X_test_kor)# test set transform only, no fit\n",
    "X_test_kor_minmax"
   ]
  },
  {
   "cell_type": "code",
   "execution_count": 33,
   "metadata": {},
   "outputs": [
    {
     "name": "stdout",
     "output_type": "stream",
     "text": [
      "[23:34:05] WARNING: src/objective/regression_obj.cu:152: reg:linear is now deprecated in favor of reg:squarederror.\n"
     ]
    },
    {
     "name": "stderr",
     "output_type": "stream",
     "text": [
      "/opt/anaconda3/lib/python3.7/site-packages/xgboost/core.py:587: FutureWarning: Series.base is deprecated and will be removed in a future version\n",
      "  if getattr(data, 'base', None) is not None and \\\n"
     ]
    },
    {
     "data": {
      "text/plain": [
       "XGBRegressor(base_score=0.5, booster='gbtree', colsample_bylevel=1,\n",
       "             colsample_bynode=1, colsample_bytree=1, gamma=0,\n",
       "             importance_type='gain', learning_rate=0.1, max_delta_step=0,\n",
       "             max_depth=3, min_child_weight=1, missing=None, n_estimators=100,\n",
       "             n_jobs=-1, nthread=None, objective='reg:linear', random_state=0,\n",
       "             reg_alpha=0, reg_lambda=1, scale_pos_weight=1, seed=None,\n",
       "             silent=None, subsample=1, verbosity=1)"
      ]
     },
     "execution_count": 33,
     "metadata": {},
     "output_type": "execute_result"
    }
   ],
   "source": [
    "model_kor = XGBRegressor(n_jobs=-1)\n",
    "model_kor.fit(X_train_kor_minmax, y_train_kor)"
   ]
  },
  {
   "cell_type": "code",
   "execution_count": 34,
   "metadata": {},
   "outputs": [
    {
     "data": {
      "text/plain": [
       "array([3.0376014e+04, 3.9747969e+04, 3.9239281e+01, 5.3746324e+04,\n",
       "       5.6211188e+04, 4.0938301e+04, 2.2330242e+04, 2.2330242e+04,\n",
       "       3.0376014e+04, 1.0850771e+04, 6.4985146e+03, 5.8346129e+04,\n",
       "       4.5079828e+04, 4.2054558e+01, 6.4985146e+03, 2.7745881e+04,\n",
       "       3.4214175e+03, 1.6761053e+02], dtype=float32)"
      ]
     },
     "execution_count": 34,
     "metadata": {},
     "output_type": "execute_result"
    }
   ],
   "source": [
    "y_pred_kor_minmax = model_kor.predict(X_test_kor_minmax)\n",
    "y_pred_kor_minmax"
   ]
  },
  {
   "cell_type": "code",
   "execution_count": 35,
   "metadata": {},
   "outputs": [
    {
     "name": "stdout",
     "output_type": "stream",
     "text": [
      "MSE for South Korea: 3911940.10\n",
      "MAE for South Korea: 1670.29\n",
      "RMSE for South Korea: 1977.86\n"
     ]
    }
   ],
   "source": [
    "mse = mean_squared_error(y_test_kor,y_pred_kor_minmax)\n",
    "mae = mean_absolute_error(y_test_kor,y_pred_kor_minmax)\n",
    "# r2_score = r2_score(y_test_kor,y_pred_kor_minmax)\n",
    "print(\"MSE for South Korea: %.2f\" % mse)\n",
    "print(\"MAE for South Korea: %.2f\" % mae)\n",
    "print(\"RMSE for South Korea: %.2f\" % np.sqrt(mse))\n",
    "# print(\"Coefficient of determination for South Korea: %.2f\" % r2_score)"
   ]
  },
  {
   "cell_type": "markdown",
   "metadata": {},
   "source": [
    "### GridSearch: param tuning for south korea"
   ]
  },
  {
   "cell_type": "code",
   "execution_count": 36,
   "metadata": {},
   "outputs": [
    {
     "data": {
      "text/plain": [
       "{'learning_rate': [0.01, 0.025, 0.05, 0.1, 0.15, 0.2],\n",
       " 'max_depth': [1, 2, 3, 4, 5],\n",
       " 'subsample': [0.25, 0.5, 1, 1.5],\n",
       " 'n_estimators': [400, 600, 800, 1000, 1200]}"
      ]
     },
     "execution_count": 36,
     "metadata": {},
     "output_type": "execute_result"
    }
   ],
   "source": [
    "learning_rate_range = [0.01, 0.025,0.05, 0.1, 0.15, 0.2]\n",
    "max_depth_range = [1,2,3,4,5]\n",
    "subsample_range = [0.25, 0.5,1, 1.5]\n",
    "n_estimators_range = [400, 600,800,1000, 1200]\n",
    "\n",
    "param_grid = dict(learning_rate=learning_rate_range, max_depth=max_depth_range,\n",
    "                  subsample=subsample_range, n_estimators=n_estimators_range)\n",
    "param_grid"
   ]
  },
  {
   "cell_type": "code",
   "execution_count": 37,
   "metadata": {},
   "outputs": [
    {
     "name": "stdout",
     "output_type": "stream",
     "text": [
      "[23:34:18] WARNING: src/objective/regression_obj.cu:152: reg:linear is now deprecated in favor of reg:squarederror.\n",
      "XGBRegressor(base_score=0.5, booster='gbtree', colsample_bylevel=1,\n",
      "             colsample_bynode=1, colsample_bytree=1, gamma=0,\n",
      "             importance_type='gain', learning_rate=0.025, max_delta_step=0,\n",
      "             max_depth=3, min_child_weight=1, missing=None, n_estimators=1000,\n",
      "             n_jobs=-1, nthread=None, objective='reg:linear', random_state=0,\n",
      "             reg_alpha=0, reg_lambda=1, scale_pos_weight=1, seed=None,\n",
      "             silent=None, subsample=0.5, verbosity=1)\n",
      "time taken for grid search =  13.128766059875488\n"
     ]
    },
    {
     "name": "stderr",
     "output_type": "stream",
     "text": [
      "/opt/anaconda3/lib/python3.7/site-packages/xgboost/core.py:587: FutureWarning: Series.base is deprecated and will be removed in a future version\n",
      "  if getattr(data, 'base', None) is not None and \\\n"
     ]
    }
   ],
   "source": [
    "start_time = time.time()\n",
    "grid = GridSearchCV(XGBRegressor(n_jobs=-1), \n",
    "                    param_grid=param_grid, \n",
    "                    n_jobs=-1)\n",
    "grid.fit(X_train_kor_minmax, y_train_kor)\n",
    "print(grid.best_estimator_)\n",
    "print(\"time taken for grid search = \", time.time() - start_time)"
   ]
  },
  {
   "cell_type": "code",
   "execution_count": 38,
   "metadata": {},
   "outputs": [
    {
     "data": {
      "text/plain": [
       "array([3.3503277e+04, 3.7997312e+04, 3.0503756e+01, 5.3085863e+04,\n",
       "       5.4562980e+04, 4.3548664e+04, 2.0914309e+04, 2.5058561e+04,\n",
       "       3.5814496e+04, 9.6639033e+03, 5.6367583e+03, 5.9480941e+04,\n",
       "       4.7202969e+04, 3.3243507e+01, 8.1726655e+03, 2.6061686e+04,\n",
       "       3.2055918e+03, 1.3987881e+02], dtype=float32)"
      ]
     },
     "execution_count": 38,
     "metadata": {},
     "output_type": "execute_result"
    }
   ],
   "source": [
    "y_pred_kor_minmax = grid.best_estimator_.predict(X_test_kor_minmax)\n",
    "y_pred_kor_minmax"
   ]
  },
  {
   "cell_type": "code",
   "execution_count": 39,
   "metadata": {},
   "outputs": [
    {
     "name": "stdout",
     "output_type": "stream",
     "text": [
      "MSE for South Korea: 504304.75\n",
      "MAE for South Korea: 537.41\n",
      "RMSE for South Korea: 710.14\n"
     ]
    }
   ],
   "source": [
    "mse = mean_squared_error(y_test_kor,y_pred_kor_minmax)\n",
    "mae = mean_absolute_error(y_test_kor,y_pred_kor_minmax)\n",
    "# r2_score = r2_score(y_test_kor,y_pred_kor_minmax)\n",
    "print(\"MSE for South Korea: %.2f\" % mse)\n",
    "print(\"MAE for South Korea: %.2f\" % mae)\n",
    "print(\"RMSE for South Korea: %.2f\" % np.sqrt(mse))\n",
    "# print(\"Coefficient of determination for South Korea: %.2f\" % r2_score)"
   ]
  },
  {
   "cell_type": "code",
   "execution_count": 40,
   "metadata": {},
   "outputs": [
    {
     "data": {
      "image/png": "[encoded data removed]",
      "text/plain": [
       "<Figure size 432x288 with 1 Axes>"
      ]
     },
     "metadata": {
      "needs_background": "light"
     },
     "output_type": "display_data"
    }
   ],
   "source": [
    "# actual vs predicted for South Korea\n",
    "x_ax = range(len(y_test_kor))\n",
    "plt.scatter(x_ax, y_test_kor, color=\"red\", label=\"actual\")\n",
    "plt.plot(x_ax, y_pred_kor_minmax, lw=0.8, color=\"blue\", label=\"predicted\")\n",
    "plt.legend()\n",
    "plt.show()"
   ]
  },
  {
   "cell_type": "code",
   "execution_count": 72,
   "metadata": {},
   "outputs": [
    {
     "data": {
      "image/png": "[encoded data removed]",
      "text/plain": [
       "<Figure size 432x288 with 1 Axes>"
      ]
     },
     "metadata": {
      "needs_background": "light"
     },
     "output_type": "display_data"
    }
   ],
   "source": [
    "plt.figure()\n",
    "plt.scatter(x=X_test_kor.loc[:,'tagged_day'], y=y_test_kor, color = \"red\", label=\"actual\")\n",
    "plt.scatter(x=X_test_kor.loc[:,'tagged_day'], y=y_pred_kor_minmax, color = \"blue\", label=\"predicted\")\n",
    "plt.legend()\n",
    "plt.show()"
   ]
  },
  {
   "cell_type": "markdown",
   "metadata": {},
   "source": [
    "# Split train & test for USA"
   ]
  },
  {
   "cell_type": "code",
   "execution_count": 41,
   "metadata": {},
   "outputs": [
    {
     "data": {
      "text/plain": [
       "array(['confirmed', 'tagged_day', 'Total tests per million people'],\n",
       "      dtype=object)"
      ]
     },
     "execution_count": 41,
     "metadata": {},
     "output_type": "execute_result"
    }
   ],
   "source": [
    "# dropping new_deaths and using deaths(cumulative) as repsonse variable\n",
    "# dropping new_confirmed, since using cumulative values for confirmed cases & deaths\n",
    "# dropping total confirmed deaths pe rmillion, directly correlated with deaths\n",
    "# country code, since df contains all values of same country\n",
    "# using deaths as response variable Y\n",
    "X_usa = dfusa.drop(labels=X_col_dropped, axis=1)\n",
    "\n",
    "X_col_names2 = X_usa.columns.values\n",
    "X_col_names2"
   ]
  },
  {
   "cell_type": "code",
   "execution_count": 42,
   "metadata": {},
   "outputs": [
    {
     "data": {
      "text/plain": [
       "12    17\n",
       "13    21\n",
       "14    22\n",
       "15    28\n",
       "16    36\n",
       "Name: deaths, dtype: int64"
      ]
     },
     "execution_count": 42,
     "metadata": {},
     "output_type": "execute_result"
    }
   ],
   "source": [
    "y_usa = dfusa.loc[:,'deaths']\n",
    "y_kor.head()"
   ]
  },
  {
   "cell_type": "code",
   "execution_count": 43,
   "metadata": {},
   "outputs": [
    {
     "name": "stdout",
     "output_type": "stream",
     "text": [
      "52 52\n",
      "23 23\n"
     ]
    }
   ],
   "source": [
    "X_train_usa, X_test_usa, y_train_usa, y_test_usa = train_test_split(X_usa, y_usa, test_size=0.3, random_state=1)\n",
    "print(len(X_train_usa),len(y_train_usa))\n",
    "print(len(X_test_usa),len(y_test_usa))"
   ]
  },
  {
   "cell_type": "markdown",
   "metadata": {},
   "source": [
    "## XGB regression"
   ]
  },
  {
   "cell_type": "code",
   "execution_count": 44,
   "metadata": {
    "scrolled": true
   },
   "outputs": [
    {
     "name": "stdout",
     "output_type": "stream",
     "text": [
      "[23:34:19] WARNING: src/objective/regression_obj.cu:152: reg:linear is now deprecated in favor of reg:squarederror.\n"
     ]
    },
    {
     "name": "stderr",
     "output_type": "stream",
     "text": [
      "/opt/anaconda3/lib/python3.7/site-packages/xgboost/core.py:587: FutureWarning: Series.base is deprecated and will be removed in a future version\n",
      "  if getattr(data, 'base', None) is not None and \\\n"
     ]
    },
    {
     "data": {
      "text/plain": [
       "XGBRegressor(base_score=0.5, booster='gbtree', colsample_bylevel=1,\n",
       "             colsample_bynode=1, colsample_bytree=1, gamma=0,\n",
       "             importance_type='gain', learning_rate=0.1, max_delta_step=0,\n",
       "             max_depth=3, min_child_weight=1, missing=None, n_estimators=100,\n",
       "             n_jobs=-1, nthread=None, objective='reg:linear', random_state=0,\n",
       "             reg_alpha=0, reg_lambda=1, scale_pos_weight=1, seed=None,\n",
       "             silent=None, subsample=1, verbosity=1)"
      ]
     },
     "execution_count": 44,
     "metadata": {},
     "output_type": "execute_result"
    }
   ],
   "source": [
    "model_usa = XGBRegressor(n_jobs=-1)\n",
    "model_usa.fit(X_train_usa, y_train_usa)"
   ]
  },
  {
   "cell_type": "code",
   "execution_count": 45,
   "metadata": {},
   "outputs": [
    {
     "data": {
      "text/plain": [
       "array([ 66.00235  , 230.04291  ,  17.014889 , 247.89578  , 230.04291  ,\n",
       "        81.00153  , 168.93634  , 119.25709  , 119.25709  , 237.92346  ,\n",
       "       185.97763  , 203.98514  ,   2.1259303, 216.88736  ,  93.99675  ,\n",
       "       158.40518  ,  49.46508  , 174.0159   , 143.84178  , 245.91272  ,\n",
       "       237.92346  , 254.3906   , 231.95891  ], dtype=float32)"
      ]
     },
     "execution_count": 45,
     "metadata": {},
     "output_type": "execute_result"
    }
   ],
   "source": [
    "y_pred_usa = model_usa.predict(X_test_usa)\n",
    "y_pred_usa"
   ]
  },
  {
   "cell_type": "code",
   "execution_count": 46,
   "metadata": {},
   "outputs": [
    {
     "name": "stdout",
     "output_type": "stream",
     "text": [
      "MSE for USA: 24.15\n",
      "MAE for USA: 4.03\n",
      "RMSE for USA: 4.91\n",
      "Coefficient of determination for USA: 1.00\n"
     ]
    }
   ],
   "source": [
    "mse = mean_squared_error(y_test_usa,y_pred_usa)\n",
    "mae = mean_absolute_error(y_test_usa,y_pred_usa)\n",
    "r2_score = r2_score(y_test_usa,y_pred_usa)\n",
    "print(\"MSE for USA: %.2f\" % mse)\n",
    "print(\"MAE for USA: %.2f\" % mae)\n",
    "print(\"RMSE for USA: %.2f\" % np.sqrt(mse))\n",
    "print(\"Coefficient of determination for USA: %.2f\" % r2_score)"
   ]
  },
  {
   "cell_type": "markdown",
   "metadata": {},
   "source": [
    "### MinMax scaling"
   ]
  },
  {
   "cell_type": "code",
   "execution_count": 47,
   "metadata": {},
   "outputs": [
    {
     "data": {
      "text/plain": [
       "array([[0.71222411, 0.25675676, 0.33191245],\n",
       "       [0.98179589, 0.74324324, 0.83777359],\n",
       "       [0.38964346, 0.13513514, 0.1515698 ],\n",
       "       [0.99754763, 0.94594595, 0.97253873],\n",
       "       [0.97972081, 0.72972973, 0.83096975],\n",
       "       [0.77428787, 0.35135135, 0.4490532 ],\n",
       "       [0.91331824, 0.54054054, 0.6502992 ],\n",
       "       [0.84257687, 0.44594595, 0.54856955],\n",
       "       [0.85238634, 0.45945946, 0.55979998],\n",
       "       [0.98839842, 0.81081081, 0.88933519],\n",
       "       [0.94633088, 0.59459459, 0.71374703],\n",
       "       [0.96019619, 0.63513514, 0.75334044],\n",
       "       [0.03754009, 0.02702703, 0.01246004],\n",
       "       [0.97717412, 0.71621622, 0.81965735],\n",
       "       [0.78862479, 0.36486486, 0.46716944],\n",
       "       [0.90379174, 0.52702703, 0.63275678],\n",
       "       [0.64487832, 0.2027027 , 0.26125092],\n",
       "       [0.93869081, 0.58108108, 0.70382818],\n",
       "       [0.86096963, 0.47297297, 0.57906386],\n",
       "       [0.99613281, 0.91891892, 0.95835724],\n",
       "       [0.98754952, 0.7972973 , 0.87654726],\n",
       "       [0.99981136, 0.98648649, 0.98991721],\n",
       "       [0.98632334, 0.78378378, 0.87023527]])"
      ]
     },
     "execution_count": 47,
     "metadata": {},
     "output_type": "execute_result"
    }
   ],
   "source": [
    "min_max_scaler = MinMaxScaler()\n",
    "X_train_usa_minmax = min_max_scaler.fit_transform(X_train_usa)# fit training set\n",
    "X_test_usa_minmax = min_max_scaler.transform(X_test_usa)# test set transform only, no fit\n",
    "X_test_usa_minmax"
   ]
  },
  {
   "cell_type": "code",
   "execution_count": 48,
   "metadata": {},
   "outputs": [
    {
     "name": "stdout",
     "output_type": "stream",
     "text": [
      "[23:34:19] WARNING: src/objective/regression_obj.cu:152: reg:linear is now deprecated in favor of reg:squarederror.\n"
     ]
    },
    {
     "name": "stderr",
     "output_type": "stream",
     "text": [
      "/opt/anaconda3/lib/python3.7/site-packages/xgboost/core.py:587: FutureWarning: Series.base is deprecated and will be removed in a future version\n",
      "  if getattr(data, 'base', None) is not None and \\\n"
     ]
    },
    {
     "data": {
      "text/plain": [
       "XGBRegressor(base_score=0.5, booster='gbtree', colsample_bylevel=1,\n",
       "             colsample_bynode=1, colsample_bytree=1, gamma=0,\n",
       "             importance_type='gain', learning_rate=0.1, max_delta_step=0,\n",
       "             max_depth=3, min_child_weight=1, missing=None, n_estimators=100,\n",
       "             n_jobs=-1, nthread=None, objective='reg:linear', random_state=0,\n",
       "             reg_alpha=0, reg_lambda=1, scale_pos_weight=1, seed=None,\n",
       "             silent=None, subsample=1, verbosity=1)"
      ]
     },
     "execution_count": 48,
     "metadata": {},
     "output_type": "execute_result"
    }
   ],
   "source": [
    "model_usa = XGBRegressor(n_jobs=-1)\n",
    "model_usa.fit(X_train_usa_minmax, y_train_usa)"
   ]
  },
  {
   "cell_type": "code",
   "execution_count": 49,
   "metadata": {},
   "outputs": [
    {
     "data": {
      "text/plain": [
       "array([ 66.00235  , 230.04291  ,  17.014889 , 247.89578  , 230.04291  ,\n",
       "        81.00153  , 168.93634  , 119.25709  , 119.25709  , 237.92346  ,\n",
       "       185.97763  , 203.98514  ,   2.1259303, 216.88736  ,  93.99675  ,\n",
       "       158.40518  ,  49.46508  , 174.0159   , 143.84178  , 245.91272  ,\n",
       "       237.92346  , 254.3906   , 231.95891  ], dtype=float32)"
      ]
     },
     "execution_count": 49,
     "metadata": {},
     "output_type": "execute_result"
    }
   ],
   "source": [
    "y_pred_usa_minmax = model_usa.predict(X_test_usa_minmax)\n",
    "y_pred_usa_minmax"
   ]
  },
  {
   "cell_type": "code",
   "execution_count": 50,
   "metadata": {},
   "outputs": [
    {
     "name": "stdout",
     "output_type": "stream",
     "text": [
      "MSE for USA: 24.15\n",
      "MAE for USA: 4.03\n",
      "RMSE for USA: 4.91\n"
     ]
    }
   ],
   "source": [
    "mse = mean_squared_error(y_test_usa,y_pred_usa_minmax)\n",
    "mae = mean_absolute_error(y_test_usa,y_pred_usa_minmax)\n",
    "# r2_score = r2_score(y_test_kor,y_pred_kor_minmax)\n",
    "print(\"MSE for USA: %.2f\" % mse)\n",
    "print(\"MAE for USA: %.2f\" % mae)\n",
    "print(\"RMSE for USA: %.2f\" % np.sqrt(mse))\n",
    "# print(\"Coefficient of determination for South Korea: %.2f\" % r2_score)"
   ]
  },
  {
   "cell_type": "markdown",
   "metadata": {},
   "source": [
    "### GridSearch: param tuning for USA"
   ]
  },
  {
   "cell_type": "code",
   "execution_count": 51,
   "metadata": {},
   "outputs": [
    {
     "data": {
      "text/plain": [
       "{'learning_rate': [0.01, 0.025, 0.05, 0.1, 0.15, 0.2],\n",
       " 'max_depth': [1, 2, 3, 4, 5],\n",
       " 'subsample': [0.25, 0.5, 1, 1.5],\n",
       " 'n_estimators': [400, 600, 800, 1000, 1200]}"
      ]
     },
     "execution_count": 51,
     "metadata": {},
     "output_type": "execute_result"
    }
   ],
   "source": [
    "learning_rate_range = [0.01, 0.025,0.05, 0.1, 0.15, 0.2]\n",
    "max_depth_range = [1,2,3,4,5]\n",
    "subsample_range = [0.25, 0.5,1, 1.5]\n",
    "n_estimators_range = [400, 600,800,1000, 1200]\n",
    "\n",
    "param_grid = dict(learning_rate=learning_rate_range, max_depth=max_depth_range,\n",
    "                  subsample=subsample_range, n_estimators=n_estimators_range)\n",
    "param_grid"
   ]
  },
  {
   "cell_type": "code",
   "execution_count": 52,
   "metadata": {},
   "outputs": [
    {
     "name": "stdout",
     "output_type": "stream",
     "text": [
      "[23:34:31] WARNING: src/objective/regression_obj.cu:152: reg:linear is now deprecated in favor of reg:squarederror.\n",
      "XGBRegressor(base_score=0.5, booster='gbtree', colsample_bylevel=1,\n",
      "             colsample_bynode=1, colsample_bytree=1, gamma=0,\n",
      "             importance_type='gain', learning_rate=0.025, max_delta_step=0,\n",
      "             max_depth=5, min_child_weight=1, missing=None, n_estimators=1200,\n",
      "             n_jobs=-1, nthread=None, objective='reg:linear', random_state=0,\n",
      "             reg_alpha=0, reg_lambda=1, scale_pos_weight=1, seed=None,\n",
      "             silent=None, subsample=0.25, verbosity=1)\n",
      "time taken for grid search =  12.026354312896729\n"
     ]
    },
    {
     "name": "stderr",
     "output_type": "stream",
     "text": [
      "/opt/anaconda3/lib/python3.7/site-packages/xgboost/core.py:587: FutureWarning: Series.base is deprecated and will be removed in a future version\n",
      "  if getattr(data, 'base', None) is not None and \\\n"
     ]
    }
   ],
   "source": [
    "start_time = time.time()\n",
    "grid = GridSearchCV(XGBRegressor(n_jobs=-1), \n",
    "                    param_grid=param_grid, \n",
    "                    n_jobs=-1)\n",
    "grid.fit(X_train_usa_minmax, y_train_usa)\n",
    "print(grid.best_estimator_)\n",
    "print(\"time taken for grid search = \", time.time() - start_time)"
   ]
  },
  {
   "cell_type": "code",
   "execution_count": 53,
   "metadata": {},
   "outputs": [],
   "source": [
    "# grid search results into selecting upper boundary values of max_ddepth & n_estimators. \n",
    "# may lead to overfitting, hence estimator values above 1200 are not added into grid search range"
   ]
  },
  {
   "cell_type": "code",
   "execution_count": 54,
   "metadata": {},
   "outputs": [
    {
     "data": {
      "text/plain": [
       "array([ 59.14872 , 226.20161 ,  20.91781 , 249.64352 , 222.18933 ,\n",
       "        80.00063 , 169.02904 , 121.68973 , 121.03722 , 236.91493 ,\n",
       "       180.23491 , 199.29303 ,   4.046076, 220.03299 ,  92.09482 ,\n",
       "       166.61583 ,  47.694073, 177.44153 , 132.47078 , 246.7022  ,\n",
       "       234.99654 , 253.86508 , 232.7407  ], dtype=float32)"
      ]
     },
     "execution_count": 54,
     "metadata": {},
     "output_type": "execute_result"
    }
   ],
   "source": [
    "y_pred_usa_minmax = grid.best_estimator_.predict(X_test_usa_minmax)\n",
    "y_pred_usa_minmax"
   ]
  },
  {
   "cell_type": "code",
   "execution_count": 55,
   "metadata": {},
   "outputs": [
    {
     "name": "stdout",
     "output_type": "stream",
     "text": [
      "MSE for USA: 13.67\n",
      "MAE for USA: 2.73\n",
      "RMSE for USA: 3.70\n"
     ]
    }
   ],
   "source": [
    "mse = mean_squared_error(y_test_usa,y_pred_usa_minmax)\n",
    "mae = mean_absolute_error(y_test_usa,y_pred_usa_minmax)\n",
    "print(\"MSE for USA: %.2f\" % mse)\n",
    "print(\"MAE for USA: %.2f\" % mae)\n",
    "print(\"RMSE for USA: %.2f\" % np.sqrt(mse))\n",
    "# r2_score = r2_score(y_test_kor,y_pred_kor_minmax)\n",
    "# print(\"Coefficient of determination for South Korea: %.2f\" % r2_score)"
   ]
  },
  {
   "cell_type": "code",
   "execution_count": 56,
   "metadata": {},
   "outputs": [
    {
     "data": {
      "image/png": "[encoded data removed]",
      "text/plain": [
       "<Figure size 432x288 with 1 Axes>"
      ]
     },
     "metadata": {
      "needs_background": "light"
     },
     "output_type": "display_data"
    }
   ],
   "source": [
    "# actual vs predicted for USA\n",
    "x_ax = range(len(y_test_usa))\n",
    "plt.scatter(x_ax, y_test_usa, color=\"red\", label=\"actual\")\n",
    "plt.plot(x_ax, y_pred_usa_minmax, lw=0.8, color=\"blue\", label=\"predicted\")\n",
    "plt.legend()\n",
    "plt.show()"
   ]
  },
  {
   "cell_type": "code",
   "execution_count": 73,
   "metadata": {},
   "outputs": [
    {
     "data": {
      "image/png": "[encoded data removed]",
      "text/plain": [
       "<Figure size 432x288 with 1 Axes>"
      ]
     },
     "metadata": {
      "needs_background": "light"
     },
     "output_type": "display_data"
    }
   ],
   "source": [
    "plt.figure()\n",
    "plt.scatter(x=X_test_usa.loc[:,'tagged_day'], y=y_test_usa, color = \"red\", label=\"actual\")\n",
    "plt.scatter(x=X_test_usa.loc[:,'tagged_day'], y=y_pred_usa_minmax, color = \"blue\", label=\"predicted\")\n",
    "plt.legend()\n",
    "plt.show()"
   ]
  }
 ],
 "metadata": {
  "kernelspec": {
   "display_name": "Python 3",
   "language": "python",
   "name": "python3"
  },
  "language_info": {
   "codemirror_mode": {
    "name": "ipython",
    "version": 3
   },
   "file_extension": ".py",
   "mimetype": "text/x-python",
   "name": "python",
   "nbconvert_exporter": "python",
   "pygments_lexer": "ipython3",
   "version": "3.7.4"
  }
 },
 "nbformat": 4,
 "nbformat_minor": 2
}
