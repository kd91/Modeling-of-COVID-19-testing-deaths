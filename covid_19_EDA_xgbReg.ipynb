{
 "cells": [
  {
   "cell_type": "code",
   "execution_count": 174,
   "metadata": {},
   "outputs": [],
   "source": [
    "import pandas as pd\n",
    "import numpy as np\n",
    "import seaborn as sns\n",
    "import matplotlib.pyplot as plt\n",
    "from sklearn.preprocessing import MinMaxScaler\n",
    "from sklearn.impute import SimpleImputer\n",
    "from sklearn.model_selection import train_test_split, GridSearchCV, cross_val_score, KFold\n",
    "from sklearn.metrics import mean_squared_error, mean_absolute_error, r2_score\n",
    "from xgboost import XGBRegressor\n",
    "from xgboost import plot_importance\n",
    "import time"
   ]
  },
  {
   "cell_type": "markdown",
   "metadata": {},
   "source": [
    "## Read two csv from john hopkin's and merge into df"
   ]
  },
  {
   "cell_type": "code",
   "execution_count": 175,
   "metadata": {
    "scrolled": true
   },
   "outputs": [
    {
     "name": "stdout",
     "output_type": "stream",
     "text": [
      "<class 'pandas.core.frame.DataFrame'>\n",
      "RangeIndex: 72 entries, 0 to 71\n",
      "Data columns (total 7 columns):\n",
      "country          72 non-null object\n",
      "date             72 non-null object\n",
      "confirmed        72 non-null int64\n",
      "deaths           72 non-null int64\n",
      "new_confirmed    72 non-null int64\n",
      "new_deaths       72 non-null int64\n",
      "tagged_day       72 non-null int64\n",
      "dtypes: int64(5), object(2)\n",
      "memory usage: 4.1+ KB\n"
     ]
    },
    {
     "data": {
      "text/plain": [
       "None"
      ]
     },
     "metadata": {},
     "output_type": "display_data"
    },
    {
     "data": {
      "text/html": [
       "<div>\n",
       "<style scoped>\n",
       "    .dataframe tbody tr th:only-of-type {\n",
       "        vertical-align: middle;\n",
       "    }\n",
       "\n",
       "    .dataframe tbody tr th {\n",
       "        vertical-align: top;\n",
       "    }\n",
       "\n",
       "    .dataframe thead th {\n",
       "        text-align: right;\n",
       "    }\n",
       "</style>\n",
       "<table border=\"1\" class=\"dataframe\">\n",
       "  <thead>\n",
       "    <tr style=\"text-align: right;\">\n",
       "      <th></th>\n",
       "      <th>country</th>\n",
       "      <th>date</th>\n",
       "      <th>confirmed</th>\n",
       "      <th>deaths</th>\n",
       "      <th>new_confirmed</th>\n",
       "      <th>new_deaths</th>\n",
       "      <th>tagged_day</th>\n",
       "    </tr>\n",
       "  </thead>\n",
       "  <tbody>\n",
       "    <tr>\n",
       "      <td>0</td>\n",
       "      <td>US</td>\n",
       "      <td>2/24/20</td>\n",
       "      <td>51</td>\n",
       "      <td>0</td>\n",
       "      <td>36</td>\n",
       "      <td>0</td>\n",
       "      <td>1</td>\n",
       "    </tr>\n",
       "    <tr>\n",
       "      <td>1</td>\n",
       "      <td>US</td>\n",
       "      <td>2/25/20</td>\n",
       "      <td>51</td>\n",
       "      <td>0</td>\n",
       "      <td>0</td>\n",
       "      <td>0</td>\n",
       "      <td>2</td>\n",
       "    </tr>\n",
       "    <tr>\n",
       "      <td>2</td>\n",
       "      <td>US</td>\n",
       "      <td>2/26/20</td>\n",
       "      <td>57</td>\n",
       "      <td>0</td>\n",
       "      <td>6</td>\n",
       "      <td>0</td>\n",
       "      <td>3</td>\n",
       "    </tr>\n",
       "    <tr>\n",
       "      <td>3</td>\n",
       "      <td>US</td>\n",
       "      <td>2/27/20</td>\n",
       "      <td>58</td>\n",
       "      <td>0</td>\n",
       "      <td>1</td>\n",
       "      <td>0</td>\n",
       "      <td>4</td>\n",
       "    </tr>\n",
       "    <tr>\n",
       "      <td>4</td>\n",
       "      <td>US</td>\n",
       "      <td>2/28/20</td>\n",
       "      <td>60</td>\n",
       "      <td>0</td>\n",
       "      <td>2</td>\n",
       "      <td>0</td>\n",
       "      <td>5</td>\n",
       "    </tr>\n",
       "  </tbody>\n",
       "</table>\n",
       "</div>"
      ],
      "text/plain": [
       "  country     date  confirmed  deaths  new_confirmed  new_deaths  tagged_day\n",
       "0      US  2/24/20         51       0             36           0           1\n",
       "1      US  2/25/20         51       0              0           0           2\n",
       "2      US  2/26/20         57       0              6           0           3\n",
       "3      US  2/27/20         58       0              1           0           4\n",
       "4      US  2/28/20         60       0              2           0           5"
      ]
     },
     "execution_count": 175,
     "metadata": {},
     "output_type": "execute_result"
    }
   ],
   "source": [
    "usa = pd.read_csv(\"data/US_2020-05-06.csv\") \n",
    "display(usa.info())\n",
    "usa.head()"
   ]
  },
  {
   "cell_type": "code",
   "execution_count": 176,
   "metadata": {
    "scrolled": true
   },
   "outputs": [
    {
     "name": "stdout",
     "output_type": "stream",
     "text": [
      "<class 'pandas.core.frame.DataFrame'>\n",
      "RangeIndex: 90 entries, 0 to 89\n",
      "Data columns (total 7 columns):\n",
      "country          90 non-null object\n",
      "date             90 non-null object\n",
      "confirmed        90 non-null int64\n",
      "deaths           90 non-null int64\n",
      "new_confirmed    90 non-null int64\n",
      "new_deaths       90 non-null int64\n",
      "tagged_day       90 non-null int64\n",
      "dtypes: int64(5), object(2)\n",
      "memory usage: 5.0+ KB\n"
     ]
    },
    {
     "data": {
      "text/plain": [
       "None"
      ]
     },
     "metadata": {},
     "output_type": "display_data"
    },
    {
     "data": {
      "text/html": [
       "<div>\n",
       "<style scoped>\n",
       "    .dataframe tbody tr th:only-of-type {\n",
       "        vertical-align: middle;\n",
       "    }\n",
       "\n",
       "    .dataframe tbody tr th {\n",
       "        vertical-align: top;\n",
       "    }\n",
       "\n",
       "    .dataframe thead th {\n",
       "        text-align: right;\n",
       "    }\n",
       "</style>\n",
       "<table border=\"1\" class=\"dataframe\">\n",
       "  <thead>\n",
       "    <tr style=\"text-align: right;\">\n",
       "      <th></th>\n",
       "      <th>country</th>\n",
       "      <th>date</th>\n",
       "      <th>confirmed</th>\n",
       "      <th>deaths</th>\n",
       "      <th>new_confirmed</th>\n",
       "      <th>new_deaths</th>\n",
       "      <th>tagged_day</th>\n",
       "    </tr>\n",
       "  </thead>\n",
       "  <tbody>\n",
       "    <tr>\n",
       "      <td>0</td>\n",
       "      <td>Korea, South</td>\n",
       "      <td>2/6/20</td>\n",
       "      <td>23</td>\n",
       "      <td>0</td>\n",
       "      <td>4</td>\n",
       "      <td>0</td>\n",
       "      <td>1</td>\n",
       "    </tr>\n",
       "    <tr>\n",
       "      <td>1</td>\n",
       "      <td>Korea, South</td>\n",
       "      <td>2/7/20</td>\n",
       "      <td>24</td>\n",
       "      <td>0</td>\n",
       "      <td>1</td>\n",
       "      <td>0</td>\n",
       "      <td>2</td>\n",
       "    </tr>\n",
       "    <tr>\n",
       "      <td>2</td>\n",
       "      <td>Korea, South</td>\n",
       "      <td>2/8/20</td>\n",
       "      <td>24</td>\n",
       "      <td>0</td>\n",
       "      <td>0</td>\n",
       "      <td>0</td>\n",
       "      <td>3</td>\n",
       "    </tr>\n",
       "    <tr>\n",
       "      <td>3</td>\n",
       "      <td>Korea, South</td>\n",
       "      <td>2/9/20</td>\n",
       "      <td>25</td>\n",
       "      <td>0</td>\n",
       "      <td>1</td>\n",
       "      <td>0</td>\n",
       "      <td>4</td>\n",
       "    </tr>\n",
       "    <tr>\n",
       "      <td>4</td>\n",
       "      <td>Korea, South</td>\n",
       "      <td>2/10/20</td>\n",
       "      <td>27</td>\n",
       "      <td>0</td>\n",
       "      <td>2</td>\n",
       "      <td>0</td>\n",
       "      <td>5</td>\n",
       "    </tr>\n",
       "  </tbody>\n",
       "</table>\n",
       "</div>"
      ],
      "text/plain": [
       "        country     date  confirmed  deaths  new_confirmed  new_deaths  \\\n",
       "0  Korea, South   2/6/20         23       0              4           0   \n",
       "1  Korea, South   2/7/20         24       0              1           0   \n",
       "2  Korea, South   2/8/20         24       0              0           0   \n",
       "3  Korea, South   2/9/20         25       0              1           0   \n",
       "4  Korea, South  2/10/20         27       0              2           0   \n",
       "\n",
       "   tagged_day  \n",
       "0           1  \n",
       "1           2  \n",
       "2           3  \n",
       "3           4  \n",
       "4           5  "
      ]
     },
     "execution_count": 176,
     "metadata": {},
     "output_type": "execute_result"
    }
   ],
   "source": [
    "kor = pd.read_csv(\"data/SouthKorea_2020-05-06.csv\") \n",
    "display(kor.info())\n",
    "kor.head()"
   ]
  },
  {
   "cell_type": "code",
   "execution_count": 177,
   "metadata": {
    "scrolled": true
   },
   "outputs": [
    {
     "name": "stdout",
     "output_type": "stream",
     "text": [
      "<class 'pandas.core.frame.DataFrame'>\n",
      "Int64Index: 162 entries, 0 to 89\n",
      "Data columns (total 7 columns):\n",
      "country          162 non-null object\n",
      "date             162 non-null object\n",
      "confirmed        162 non-null int64\n",
      "deaths           162 non-null int64\n",
      "new_confirmed    162 non-null int64\n",
      "new_deaths       162 non-null int64\n",
      "tagged_day       162 non-null int64\n",
      "dtypes: int64(5), object(2)\n",
      "memory usage: 10.1+ KB\n"
     ]
    },
    {
     "data": {
      "text/plain": [
       "None"
      ]
     },
     "metadata": {},
     "output_type": "display_data"
    },
    {
     "data": {
      "text/html": [
       "<div>\n",
       "<style scoped>\n",
       "    .dataframe tbody tr th:only-of-type {\n",
       "        vertical-align: middle;\n",
       "    }\n",
       "\n",
       "    .dataframe tbody tr th {\n",
       "        vertical-align: top;\n",
       "    }\n",
       "\n",
       "    .dataframe thead th {\n",
       "        text-align: right;\n",
       "    }\n",
       "</style>\n",
       "<table border=\"1\" class=\"dataframe\">\n",
       "  <thead>\n",
       "    <tr style=\"text-align: right;\">\n",
       "      <th></th>\n",
       "      <th>country</th>\n",
       "      <th>date</th>\n",
       "      <th>confirmed</th>\n",
       "      <th>deaths</th>\n",
       "      <th>new_confirmed</th>\n",
       "      <th>new_deaths</th>\n",
       "      <th>tagged_day</th>\n",
       "    </tr>\n",
       "  </thead>\n",
       "  <tbody>\n",
       "    <tr>\n",
       "      <td>0</td>\n",
       "      <td>US</td>\n",
       "      <td>2/24/20</td>\n",
       "      <td>51</td>\n",
       "      <td>0</td>\n",
       "      <td>36</td>\n",
       "      <td>0</td>\n",
       "      <td>1</td>\n",
       "    </tr>\n",
       "    <tr>\n",
       "      <td>1</td>\n",
       "      <td>US</td>\n",
       "      <td>2/25/20</td>\n",
       "      <td>51</td>\n",
       "      <td>0</td>\n",
       "      <td>0</td>\n",
       "      <td>0</td>\n",
       "      <td>2</td>\n",
       "    </tr>\n",
       "    <tr>\n",
       "      <td>2</td>\n",
       "      <td>US</td>\n",
       "      <td>2/26/20</td>\n",
       "      <td>57</td>\n",
       "      <td>0</td>\n",
       "      <td>6</td>\n",
       "      <td>0</td>\n",
       "      <td>3</td>\n",
       "    </tr>\n",
       "    <tr>\n",
       "      <td>3</td>\n",
       "      <td>US</td>\n",
       "      <td>2/27/20</td>\n",
       "      <td>58</td>\n",
       "      <td>0</td>\n",
       "      <td>1</td>\n",
       "      <td>0</td>\n",
       "      <td>4</td>\n",
       "    </tr>\n",
       "    <tr>\n",
       "      <td>4</td>\n",
       "      <td>US</td>\n",
       "      <td>2/28/20</td>\n",
       "      <td>60</td>\n",
       "      <td>0</td>\n",
       "      <td>2</td>\n",
       "      <td>0</td>\n",
       "      <td>5</td>\n",
       "    </tr>\n",
       "    <tr>\n",
       "      <td>...</td>\n",
       "      <td>...</td>\n",
       "      <td>...</td>\n",
       "      <td>...</td>\n",
       "      <td>...</td>\n",
       "      <td>...</td>\n",
       "      <td>...</td>\n",
       "      <td>...</td>\n",
       "    </tr>\n",
       "    <tr>\n",
       "      <td>85</td>\n",
       "      <td>Korea, South</td>\n",
       "      <td>5/1/20</td>\n",
       "      <td>10780</td>\n",
       "      <td>250</td>\n",
       "      <td>6</td>\n",
       "      <td>2</td>\n",
       "      <td>86</td>\n",
       "    </tr>\n",
       "    <tr>\n",
       "      <td>86</td>\n",
       "      <td>Korea, South</td>\n",
       "      <td>5/2/20</td>\n",
       "      <td>10793</td>\n",
       "      <td>250</td>\n",
       "      <td>13</td>\n",
       "      <td>0</td>\n",
       "      <td>87</td>\n",
       "    </tr>\n",
       "    <tr>\n",
       "      <td>87</td>\n",
       "      <td>Korea, South</td>\n",
       "      <td>5/3/20</td>\n",
       "      <td>10801</td>\n",
       "      <td>252</td>\n",
       "      <td>8</td>\n",
       "      <td>2</td>\n",
       "      <td>88</td>\n",
       "    </tr>\n",
       "    <tr>\n",
       "      <td>88</td>\n",
       "      <td>Korea, South</td>\n",
       "      <td>5/4/20</td>\n",
       "      <td>10804</td>\n",
       "      <td>254</td>\n",
       "      <td>3</td>\n",
       "      <td>2</td>\n",
       "      <td>89</td>\n",
       "    </tr>\n",
       "    <tr>\n",
       "      <td>89</td>\n",
       "      <td>Korea, South</td>\n",
       "      <td>5/5/20</td>\n",
       "      <td>10806</td>\n",
       "      <td>255</td>\n",
       "      <td>2</td>\n",
       "      <td>1</td>\n",
       "      <td>90</td>\n",
       "    </tr>\n",
       "  </tbody>\n",
       "</table>\n",
       "<p>162 rows × 7 columns</p>\n",
       "</div>"
      ],
      "text/plain": [
       "         country     date  confirmed  deaths  new_confirmed  new_deaths  \\\n",
       "0             US  2/24/20         51       0             36           0   \n",
       "1             US  2/25/20         51       0              0           0   \n",
       "2             US  2/26/20         57       0              6           0   \n",
       "3             US  2/27/20         58       0              1           0   \n",
       "4             US  2/28/20         60       0              2           0   \n",
       "..           ...      ...        ...     ...            ...         ...   \n",
       "85  Korea, South   5/1/20      10780     250              6           2   \n",
       "86  Korea, South   5/2/20      10793     250             13           0   \n",
       "87  Korea, South   5/3/20      10801     252              8           2   \n",
       "88  Korea, South   5/4/20      10804     254              3           2   \n",
       "89  Korea, South   5/5/20      10806     255              2           1   \n",
       "\n",
       "    tagged_day  \n",
       "0            1  \n",
       "1            2  \n",
       "2            3  \n",
       "3            4  \n",
       "4            5  \n",
       "..         ...  \n",
       "85          86  \n",
       "86          87  \n",
       "87          88  \n",
       "88          89  \n",
       "89          90  \n",
       "\n",
       "[162 rows x 7 columns]"
      ]
     },
     "execution_count": 177,
     "metadata": {},
     "output_type": "execute_result"
    }
   ],
   "source": [
    "# joining on vertical stacks (axi s0 for addition to rows) for df's of kor & usa\n",
    "df = pd.concat([usa, kor], axis=0)\n",
    "display(df.info())\n",
    "df"
   ]
  },
  {
   "cell_type": "code",
   "execution_count": 178,
   "metadata": {},
   "outputs": [
    {
     "name": "stdout",
     "output_type": "stream",
     "text": [
      "<class 'pandas.core.frame.DataFrame'>\n",
      "Int64Index: 162 entries, 0 to 89\n",
      "Data columns (total 7 columns):\n",
      "country          162 non-null object\n",
      "date             162 non-null datetime64[ns]\n",
      "confirmed        162 non-null int64\n",
      "deaths           162 non-null int64\n",
      "new_confirmed    162 non-null int64\n",
      "new_deaths       162 non-null int64\n",
      "tagged_day       162 non-null int64\n",
      "dtypes: datetime64[ns](1), int64(5), object(1)\n",
      "memory usage: 10.1+ KB\n"
     ]
    },
    {
     "data": {
      "text/plain": [
       "None"
      ]
     },
     "metadata": {},
     "output_type": "display_data"
    },
    {
     "data": {
      "text/html": [
       "<div>\n",
       "<style scoped>\n",
       "    .dataframe tbody tr th:only-of-type {\n",
       "        vertical-align: middle;\n",
       "    }\n",
       "\n",
       "    .dataframe tbody tr th {\n",
       "        vertical-align: top;\n",
       "    }\n",
       "\n",
       "    .dataframe thead th {\n",
       "        text-align: right;\n",
       "    }\n",
       "</style>\n",
       "<table border=\"1\" class=\"dataframe\">\n",
       "  <thead>\n",
       "    <tr style=\"text-align: right;\">\n",
       "      <th></th>\n",
       "      <th>country</th>\n",
       "      <th>date</th>\n",
       "      <th>confirmed</th>\n",
       "      <th>deaths</th>\n",
       "      <th>new_confirmed</th>\n",
       "      <th>new_deaths</th>\n",
       "      <th>tagged_day</th>\n",
       "    </tr>\n",
       "  </thead>\n",
       "  <tbody>\n",
       "    <tr>\n",
       "      <td>0</td>\n",
       "      <td>US</td>\n",
       "      <td>2020-02-24</td>\n",
       "      <td>51</td>\n",
       "      <td>0</td>\n",
       "      <td>36</td>\n",
       "      <td>0</td>\n",
       "      <td>1</td>\n",
       "    </tr>\n",
       "    <tr>\n",
       "      <td>1</td>\n",
       "      <td>US</td>\n",
       "      <td>2020-02-25</td>\n",
       "      <td>51</td>\n",
       "      <td>0</td>\n",
       "      <td>0</td>\n",
       "      <td>0</td>\n",
       "      <td>2</td>\n",
       "    </tr>\n",
       "    <tr>\n",
       "      <td>2</td>\n",
       "      <td>US</td>\n",
       "      <td>2020-02-26</td>\n",
       "      <td>57</td>\n",
       "      <td>0</td>\n",
       "      <td>6</td>\n",
       "      <td>0</td>\n",
       "      <td>3</td>\n",
       "    </tr>\n",
       "    <tr>\n",
       "      <td>3</td>\n",
       "      <td>US</td>\n",
       "      <td>2020-02-27</td>\n",
       "      <td>58</td>\n",
       "      <td>0</td>\n",
       "      <td>1</td>\n",
       "      <td>0</td>\n",
       "      <td>4</td>\n",
       "    </tr>\n",
       "    <tr>\n",
       "      <td>4</td>\n",
       "      <td>US</td>\n",
       "      <td>2020-02-28</td>\n",
       "      <td>60</td>\n",
       "      <td>0</td>\n",
       "      <td>2</td>\n",
       "      <td>0</td>\n",
       "      <td>5</td>\n",
       "    </tr>\n",
       "    <tr>\n",
       "      <td>...</td>\n",
       "      <td>...</td>\n",
       "      <td>...</td>\n",
       "      <td>...</td>\n",
       "      <td>...</td>\n",
       "      <td>...</td>\n",
       "      <td>...</td>\n",
       "      <td>...</td>\n",
       "    </tr>\n",
       "    <tr>\n",
       "      <td>85</td>\n",
       "      <td>Korea, South</td>\n",
       "      <td>2020-05-01</td>\n",
       "      <td>10780</td>\n",
       "      <td>250</td>\n",
       "      <td>6</td>\n",
       "      <td>2</td>\n",
       "      <td>86</td>\n",
       "    </tr>\n",
       "    <tr>\n",
       "      <td>86</td>\n",
       "      <td>Korea, South</td>\n",
       "      <td>2020-05-02</td>\n",
       "      <td>10793</td>\n",
       "      <td>250</td>\n",
       "      <td>13</td>\n",
       "      <td>0</td>\n",
       "      <td>87</td>\n",
       "    </tr>\n",
       "    <tr>\n",
       "      <td>87</td>\n",
       "      <td>Korea, South</td>\n",
       "      <td>2020-05-03</td>\n",
       "      <td>10801</td>\n",
       "      <td>252</td>\n",
       "      <td>8</td>\n",
       "      <td>2</td>\n",
       "      <td>88</td>\n",
       "    </tr>\n",
       "    <tr>\n",
       "      <td>88</td>\n",
       "      <td>Korea, South</td>\n",
       "      <td>2020-05-04</td>\n",
       "      <td>10804</td>\n",
       "      <td>254</td>\n",
       "      <td>3</td>\n",
       "      <td>2</td>\n",
       "      <td>89</td>\n",
       "    </tr>\n",
       "    <tr>\n",
       "      <td>89</td>\n",
       "      <td>Korea, South</td>\n",
       "      <td>2020-05-05</td>\n",
       "      <td>10806</td>\n",
       "      <td>255</td>\n",
       "      <td>2</td>\n",
       "      <td>1</td>\n",
       "      <td>90</td>\n",
       "    </tr>\n",
       "  </tbody>\n",
       "</table>\n",
       "<p>162 rows × 7 columns</p>\n",
       "</div>"
      ],
      "text/plain": [
       "         country       date  confirmed  deaths  new_confirmed  new_deaths  \\\n",
       "0             US 2020-02-24         51       0             36           0   \n",
       "1             US 2020-02-25         51       0              0           0   \n",
       "2             US 2020-02-26         57       0              6           0   \n",
       "3             US 2020-02-27         58       0              1           0   \n",
       "4             US 2020-02-28         60       0              2           0   \n",
       "..           ...        ...        ...     ...            ...         ...   \n",
       "85  Korea, South 2020-05-01      10780     250              6           2   \n",
       "86  Korea, South 2020-05-02      10793     250             13           0   \n",
       "87  Korea, South 2020-05-03      10801     252              8           2   \n",
       "88  Korea, South 2020-05-04      10804     254              3           2   \n",
       "89  Korea, South 2020-05-05      10806     255              2           1   \n",
       "\n",
       "    tagged_day  \n",
       "0            1  \n",
       "1            2  \n",
       "2            3  \n",
       "3            4  \n",
       "4            5  \n",
       "..         ...  \n",
       "85          86  \n",
       "86          87  \n",
       "87          88  \n",
       "88          89  \n",
       "89          90  \n",
       "\n",
       "[162 rows x 7 columns]"
      ]
     },
     "execution_count": 178,
     "metadata": {},
     "output_type": "execute_result"
    }
   ],
   "source": [
    "# change date to type datetime\n",
    "df['date'] = pd.to_datetime(df.date)\n",
    "display(df.info())\n",
    "df"
   ]
  },
  {
   "cell_type": "markdown",
   "metadata": {},
   "source": [
    "#### add country code column to df"
   ]
  },
  {
   "cell_type": "code",
   "execution_count": 179,
   "metadata": {},
   "outputs": [],
   "source": [
    "def country_code(row):\n",
    "    if row['country'] == 'US':\n",
    "        return 'USA'\n",
    "    if row['country'] == 'Korea, South':\n",
    "        return 'KOR'"
   ]
  },
  {
   "cell_type": "code",
   "execution_count": 180,
   "metadata": {},
   "outputs": [
    {
     "data": {
      "text/plain": [
       "0     USA\n",
       "1     USA\n",
       "2     USA\n",
       "3     USA\n",
       "4     USA\n",
       "     ... \n",
       "85    KOR\n",
       "86    KOR\n",
       "87    KOR\n",
       "88    KOR\n",
       "89    KOR\n",
       "Length: 162, dtype: object"
      ]
     },
     "execution_count": 180,
     "metadata": {},
     "output_type": "execute_result"
    }
   ],
   "source": [
    "df.apply(lambda row: country_code(row), axis=1)"
   ]
  },
  {
   "cell_type": "code",
   "execution_count": 181,
   "metadata": {},
   "outputs": [
    {
     "data": {
      "text/html": [
       "<div>\n",
       "<style scoped>\n",
       "    .dataframe tbody tr th:only-of-type {\n",
       "        vertical-align: middle;\n",
       "    }\n",
       "\n",
       "    .dataframe tbody tr th {\n",
       "        vertical-align: top;\n",
       "    }\n",
       "\n",
       "    .dataframe thead th {\n",
       "        text-align: right;\n",
       "    }\n",
       "</style>\n",
       "<table border=\"1\" class=\"dataframe\">\n",
       "  <thead>\n",
       "    <tr style=\"text-align: right;\">\n",
       "      <th></th>\n",
       "      <th>country</th>\n",
       "      <th>date</th>\n",
       "      <th>confirmed</th>\n",
       "      <th>deaths</th>\n",
       "      <th>new_confirmed</th>\n",
       "      <th>new_deaths</th>\n",
       "      <th>tagged_day</th>\n",
       "      <th>country code</th>\n",
       "    </tr>\n",
       "  </thead>\n",
       "  <tbody>\n",
       "    <tr>\n",
       "      <td>0</td>\n",
       "      <td>US</td>\n",
       "      <td>2020-02-24</td>\n",
       "      <td>51</td>\n",
       "      <td>0</td>\n",
       "      <td>36</td>\n",
       "      <td>0</td>\n",
       "      <td>1</td>\n",
       "      <td>USA</td>\n",
       "    </tr>\n",
       "    <tr>\n",
       "      <td>1</td>\n",
       "      <td>US</td>\n",
       "      <td>2020-02-25</td>\n",
       "      <td>51</td>\n",
       "      <td>0</td>\n",
       "      <td>0</td>\n",
       "      <td>0</td>\n",
       "      <td>2</td>\n",
       "      <td>USA</td>\n",
       "    </tr>\n",
       "    <tr>\n",
       "      <td>2</td>\n",
       "      <td>US</td>\n",
       "      <td>2020-02-26</td>\n",
       "      <td>57</td>\n",
       "      <td>0</td>\n",
       "      <td>6</td>\n",
       "      <td>0</td>\n",
       "      <td>3</td>\n",
       "      <td>USA</td>\n",
       "    </tr>\n",
       "    <tr>\n",
       "      <td>3</td>\n",
       "      <td>US</td>\n",
       "      <td>2020-02-27</td>\n",
       "      <td>58</td>\n",
       "      <td>0</td>\n",
       "      <td>1</td>\n",
       "      <td>0</td>\n",
       "      <td>4</td>\n",
       "      <td>USA</td>\n",
       "    </tr>\n",
       "    <tr>\n",
       "      <td>4</td>\n",
       "      <td>US</td>\n",
       "      <td>2020-02-28</td>\n",
       "      <td>60</td>\n",
       "      <td>0</td>\n",
       "      <td>2</td>\n",
       "      <td>0</td>\n",
       "      <td>5</td>\n",
       "      <td>USA</td>\n",
       "    </tr>\n",
       "    <tr>\n",
       "      <td>...</td>\n",
       "      <td>...</td>\n",
       "      <td>...</td>\n",
       "      <td>...</td>\n",
       "      <td>...</td>\n",
       "      <td>...</td>\n",
       "      <td>...</td>\n",
       "      <td>...</td>\n",
       "      <td>...</td>\n",
       "    </tr>\n",
       "    <tr>\n",
       "      <td>85</td>\n",
       "      <td>Korea, South</td>\n",
       "      <td>2020-05-01</td>\n",
       "      <td>10780</td>\n",
       "      <td>250</td>\n",
       "      <td>6</td>\n",
       "      <td>2</td>\n",
       "      <td>86</td>\n",
       "      <td>KOR</td>\n",
       "    </tr>\n",
       "    <tr>\n",
       "      <td>86</td>\n",
       "      <td>Korea, South</td>\n",
       "      <td>2020-05-02</td>\n",
       "      <td>10793</td>\n",
       "      <td>250</td>\n",
       "      <td>13</td>\n",
       "      <td>0</td>\n",
       "      <td>87</td>\n",
       "      <td>KOR</td>\n",
       "    </tr>\n",
       "    <tr>\n",
       "      <td>87</td>\n",
       "      <td>Korea, South</td>\n",
       "      <td>2020-05-03</td>\n",
       "      <td>10801</td>\n",
       "      <td>252</td>\n",
       "      <td>8</td>\n",
       "      <td>2</td>\n",
       "      <td>88</td>\n",
       "      <td>KOR</td>\n",
       "    </tr>\n",
       "    <tr>\n",
       "      <td>88</td>\n",
       "      <td>Korea, South</td>\n",
       "      <td>2020-05-04</td>\n",
       "      <td>10804</td>\n",
       "      <td>254</td>\n",
       "      <td>3</td>\n",
       "      <td>2</td>\n",
       "      <td>89</td>\n",
       "      <td>KOR</td>\n",
       "    </tr>\n",
       "    <tr>\n",
       "      <td>89</td>\n",
       "      <td>Korea, South</td>\n",
       "      <td>2020-05-05</td>\n",
       "      <td>10806</td>\n",
       "      <td>255</td>\n",
       "      <td>2</td>\n",
       "      <td>1</td>\n",
       "      <td>90</td>\n",
       "      <td>KOR</td>\n",
       "    </tr>\n",
       "  </tbody>\n",
       "</table>\n",
       "<p>162 rows × 8 columns</p>\n",
       "</div>"
      ],
      "text/plain": [
       "         country       date  confirmed  deaths  new_confirmed  new_deaths  \\\n",
       "0             US 2020-02-24         51       0             36           0   \n",
       "1             US 2020-02-25         51       0              0           0   \n",
       "2             US 2020-02-26         57       0              6           0   \n",
       "3             US 2020-02-27         58       0              1           0   \n",
       "4             US 2020-02-28         60       0              2           0   \n",
       "..           ...        ...        ...     ...            ...         ...   \n",
       "85  Korea, South 2020-05-01      10780     250              6           2   \n",
       "86  Korea, South 2020-05-02      10793     250             13           0   \n",
       "87  Korea, South 2020-05-03      10801     252              8           2   \n",
       "88  Korea, South 2020-05-04      10804     254              3           2   \n",
       "89  Korea, South 2020-05-05      10806     255              2           1   \n",
       "\n",
       "    tagged_day country code  \n",
       "0            1          USA  \n",
       "1            2          USA  \n",
       "2            3          USA  \n",
       "3            4          USA  \n",
       "4            5          USA  \n",
       "..         ...          ...  \n",
       "85          86          KOR  \n",
       "86          87          KOR  \n",
       "87          88          KOR  \n",
       "88          89          KOR  \n",
       "89          90          KOR  \n",
       "\n",
       "[162 rows x 8 columns]"
      ]
     },
     "execution_count": 181,
     "metadata": {},
     "output_type": "execute_result"
    }
   ],
   "source": [
    "df['country code'] = df.apply(lambda row: country_code(row), axis=1)\n",
    "df"
   ]
  },
  {
   "cell_type": "markdown",
   "metadata": {},
   "source": [
    "## Read owa testing df"
   ]
  },
  {
   "cell_type": "code",
   "execution_count": 182,
   "metadata": {},
   "outputs": [
    {
     "name": "stdout",
     "output_type": "stream",
     "text": [
      "<class 'pandas.core.frame.DataFrame'>\n",
      "RangeIndex: 9437 entries, 0 to 9436\n",
      "Data columns (total 5 columns):\n",
      "Entity                                                                            9437 non-null object\n",
      "Code                                                                              8737 non-null object\n",
      "Date                                                                              9437 non-null object\n",
      "Total tests per million people                                                    4216 non-null float64\n",
      "Total confirmed deaths due to COVID-19 per million people (deaths per million)    8223 non-null float64\n",
      "dtypes: float64(2), object(3)\n",
      "memory usage: 368.8+ KB\n"
     ]
    },
    {
     "data": {
      "text/plain": [
       "None"
      ]
     },
     "metadata": {},
     "output_type": "display_data"
    },
    {
     "data": {
      "text/html": [
       "<div>\n",
       "<style scoped>\n",
       "    .dataframe tbody tr th:only-of-type {\n",
       "        vertical-align: middle;\n",
       "    }\n",
       "\n",
       "    .dataframe tbody tr th {\n",
       "        vertical-align: top;\n",
       "    }\n",
       "\n",
       "    .dataframe thead th {\n",
       "        text-align: right;\n",
       "    }\n",
       "</style>\n",
       "<table border=\"1\" class=\"dataframe\">\n",
       "  <thead>\n",
       "    <tr style=\"text-align: right;\">\n",
       "      <th></th>\n",
       "      <th>Entity</th>\n",
       "      <th>Code</th>\n",
       "      <th>Date</th>\n",
       "      <th>Total tests per million people</th>\n",
       "      <th>Total confirmed deaths due to COVID-19 per million people (deaths per million)</th>\n",
       "    </tr>\n",
       "  </thead>\n",
       "  <tbody>\n",
       "    <tr>\n",
       "      <td>0</td>\n",
       "      <td>Afghanistan</td>\n",
       "      <td>AFG</td>\n",
       "      <td>24-Mar-20</td>\n",
       "      <td>NaN</td>\n",
       "      <td>0.026</td>\n",
       "    </tr>\n",
       "    <tr>\n",
       "      <td>1</td>\n",
       "      <td>Afghanistan</td>\n",
       "      <td>AFG</td>\n",
       "      <td>25-Mar-20</td>\n",
       "      <td>NaN</td>\n",
       "      <td>0.026</td>\n",
       "    </tr>\n",
       "    <tr>\n",
       "      <td>2</td>\n",
       "      <td>Afghanistan</td>\n",
       "      <td>AFG</td>\n",
       "      <td>26-Mar-20</td>\n",
       "      <td>NaN</td>\n",
       "      <td>0.026</td>\n",
       "    </tr>\n",
       "    <tr>\n",
       "      <td>3</td>\n",
       "      <td>Afghanistan</td>\n",
       "      <td>AFG</td>\n",
       "      <td>27-Mar-20</td>\n",
       "      <td>NaN</td>\n",
       "      <td>0.026</td>\n",
       "    </tr>\n",
       "    <tr>\n",
       "      <td>4</td>\n",
       "      <td>Afghanistan</td>\n",
       "      <td>AFG</td>\n",
       "      <td>28-Mar-20</td>\n",
       "      <td>NaN</td>\n",
       "      <td>0.051</td>\n",
       "    </tr>\n",
       "  </tbody>\n",
       "</table>\n",
       "</div>"
      ],
      "text/plain": [
       "        Entity Code       Date  Total tests per million people  \\\n",
       "0  Afghanistan  AFG  24-Mar-20                             NaN   \n",
       "1  Afghanistan  AFG  25-Mar-20                             NaN   \n",
       "2  Afghanistan  AFG  26-Mar-20                             NaN   \n",
       "3  Afghanistan  AFG  27-Mar-20                             NaN   \n",
       "4  Afghanistan  AFG  28-Mar-20                             NaN   \n",
       "\n",
       "   Total confirmed deaths due to COVID-19 per million people (deaths per million)  \n",
       "0                                              0.026                               \n",
       "1                                              0.026                               \n",
       "2                                              0.026                               \n",
       "3                                              0.026                               \n",
       "4                                              0.051                               "
      ]
     },
     "execution_count": 182,
     "metadata": {},
     "output_type": "execute_result"
    }
   ],
   "source": [
    "testing = pd.read_csv(\"data/covid-19-tests-deaths-scatter-with-comparisons_2020May07.csv\")\n",
    "display(testing.info())\n",
    "testing.head()"
   ]
  },
  {
   "cell_type": "code",
   "execution_count": 183,
   "metadata": {},
   "outputs": [
    {
     "name": "stdout",
     "output_type": "stream",
     "text": [
      "<class 'pandas.core.frame.DataFrame'>\n",
      "RangeIndex: 9437 entries, 0 to 9436\n",
      "Data columns (total 5 columns):\n",
      "Entity                                                                            9437 non-null object\n",
      "Code                                                                              8737 non-null object\n",
      "Date                                                                              9437 non-null datetime64[ns]\n",
      "Total tests per million people                                                    4216 non-null float64\n",
      "Total confirmed deaths due to COVID-19 per million people (deaths per million)    8223 non-null float64\n",
      "dtypes: datetime64[ns](1), float64(2), object(2)\n",
      "memory usage: 368.8+ KB\n"
     ]
    },
    {
     "data": {
      "text/plain": [
       "None"
      ]
     },
     "metadata": {},
     "output_type": "display_data"
    },
    {
     "data": {
      "text/html": [
       "<div>\n",
       "<style scoped>\n",
       "    .dataframe tbody tr th:only-of-type {\n",
       "        vertical-align: middle;\n",
       "    }\n",
       "\n",
       "    .dataframe tbody tr th {\n",
       "        vertical-align: top;\n",
       "    }\n",
       "\n",
       "    .dataframe thead th {\n",
       "        text-align: right;\n",
       "    }\n",
       "</style>\n",
       "<table border=\"1\" class=\"dataframe\">\n",
       "  <thead>\n",
       "    <tr style=\"text-align: right;\">\n",
       "      <th></th>\n",
       "      <th>Entity</th>\n",
       "      <th>Code</th>\n",
       "      <th>Date</th>\n",
       "      <th>Total tests per million people</th>\n",
       "      <th>Total confirmed deaths due to COVID-19 per million people (deaths per million)</th>\n",
       "    </tr>\n",
       "  </thead>\n",
       "  <tbody>\n",
       "    <tr>\n",
       "      <td>0</td>\n",
       "      <td>Afghanistan</td>\n",
       "      <td>AFG</td>\n",
       "      <td>2020-03-24</td>\n",
       "      <td>NaN</td>\n",
       "      <td>0.026</td>\n",
       "    </tr>\n",
       "    <tr>\n",
       "      <td>1</td>\n",
       "      <td>Afghanistan</td>\n",
       "      <td>AFG</td>\n",
       "      <td>2020-03-25</td>\n",
       "      <td>NaN</td>\n",
       "      <td>0.026</td>\n",
       "    </tr>\n",
       "    <tr>\n",
       "      <td>2</td>\n",
       "      <td>Afghanistan</td>\n",
       "      <td>AFG</td>\n",
       "      <td>2020-03-26</td>\n",
       "      <td>NaN</td>\n",
       "      <td>0.026</td>\n",
       "    </tr>\n",
       "    <tr>\n",
       "      <td>3</td>\n",
       "      <td>Afghanistan</td>\n",
       "      <td>AFG</td>\n",
       "      <td>2020-03-27</td>\n",
       "      <td>NaN</td>\n",
       "      <td>0.026</td>\n",
       "    </tr>\n",
       "    <tr>\n",
       "      <td>4</td>\n",
       "      <td>Afghanistan</td>\n",
       "      <td>AFG</td>\n",
       "      <td>2020-03-28</td>\n",
       "      <td>NaN</td>\n",
       "      <td>0.051</td>\n",
       "    </tr>\n",
       "  </tbody>\n",
       "</table>\n",
       "</div>"
      ],
      "text/plain": [
       "        Entity Code       Date  Total tests per million people  \\\n",
       "0  Afghanistan  AFG 2020-03-24                             NaN   \n",
       "1  Afghanistan  AFG 2020-03-25                             NaN   \n",
       "2  Afghanistan  AFG 2020-03-26                             NaN   \n",
       "3  Afghanistan  AFG 2020-03-27                             NaN   \n",
       "4  Afghanistan  AFG 2020-03-28                             NaN   \n",
       "\n",
       "   Total confirmed deaths due to COVID-19 per million people (deaths per million)  \n",
       "0                                              0.026                               \n",
       "1                                              0.026                               \n",
       "2                                              0.026                               \n",
       "3                                              0.026                               \n",
       "4                                              0.051                               "
      ]
     },
     "execution_count": 183,
     "metadata": {},
     "output_type": "execute_result"
    }
   ],
   "source": [
    "# change date to type datetime\n",
    "testing['Date'] = pd.to_datetime(testing.Date)\n",
    "display(testing.info())\n",
    "testing.head()"
   ]
  },
  {
   "cell_type": "markdown",
   "metadata": {},
   "source": [
    "## Joining 3 df's into one"
   ]
  },
  {
   "cell_type": "code",
   "execution_count": 184,
   "metadata": {},
   "outputs": [],
   "source": [
    "# left_on = df['']"
   ]
  },
  {
   "cell_type": "code",
   "execution_count": 185,
   "metadata": {},
   "outputs": [
    {
     "name": "stdout",
     "output_type": "stream",
     "text": [
      "<class 'pandas.core.frame.DataFrame'>\n",
      "Int64Index: 162 entries, 0 to 161\n",
      "Data columns (total 13 columns):\n",
      "country                                                                           162 non-null object\n",
      "date                                                                              162 non-null datetime64[ns]\n",
      "confirmed                                                                         162 non-null int64\n",
      "deaths                                                                            162 non-null int64\n",
      "new_confirmed                                                                     162 non-null int64\n",
      "new_deaths                                                                        162 non-null int64\n",
      "tagged_day                                                                        162 non-null int64\n",
      "country code                                                                      162 non-null object\n",
      "Entity                                                                            156 non-null object\n",
      "Code                                                                              156 non-null object\n",
      "Date                                                                              156 non-null datetime64[ns]\n",
      "Total tests per million people                                                    150 non-null float64\n",
      "Total confirmed deaths due to COVID-19 per million people (deaths per million)    141 non-null float64\n",
      "dtypes: datetime64[ns](2), float64(2), int64(5), object(4)\n",
      "memory usage: 17.7+ KB\n"
     ]
    },
    {
     "data": {
      "text/plain": [
       "None"
      ]
     },
     "metadata": {},
     "output_type": "display_data"
    },
    {
     "data": {
      "text/html": [
       "<div>\n",
       "<style scoped>\n",
       "    .dataframe tbody tr th:only-of-type {\n",
       "        vertical-align: middle;\n",
       "    }\n",
       "\n",
       "    .dataframe tbody tr th {\n",
       "        vertical-align: top;\n",
       "    }\n",
       "\n",
       "    .dataframe thead th {\n",
       "        text-align: right;\n",
       "    }\n",
       "</style>\n",
       "<table border=\"1\" class=\"dataframe\">\n",
       "  <thead>\n",
       "    <tr style=\"text-align: right;\">\n",
       "      <th></th>\n",
       "      <th>country</th>\n",
       "      <th>date</th>\n",
       "      <th>confirmed</th>\n",
       "      <th>deaths</th>\n",
       "      <th>new_confirmed</th>\n",
       "      <th>new_deaths</th>\n",
       "      <th>tagged_day</th>\n",
       "      <th>country code</th>\n",
       "      <th>Entity</th>\n",
       "      <th>Code</th>\n",
       "      <th>Date</th>\n",
       "      <th>Total tests per million people</th>\n",
       "      <th>Total confirmed deaths due to COVID-19 per million people (deaths per million)</th>\n",
       "    </tr>\n",
       "  </thead>\n",
       "  <tbody>\n",
       "    <tr>\n",
       "      <td>0</td>\n",
       "      <td>US</td>\n",
       "      <td>2020-02-24</td>\n",
       "      <td>51</td>\n",
       "      <td>0</td>\n",
       "      <td>36</td>\n",
       "      <td>0</td>\n",
       "      <td>1</td>\n",
       "      <td>USA</td>\n",
       "      <td>NaN</td>\n",
       "      <td>NaN</td>\n",
       "      <td>NaT</td>\n",
       "      <td>NaN</td>\n",
       "      <td>NaN</td>\n",
       "    </tr>\n",
       "    <tr>\n",
       "      <td>1</td>\n",
       "      <td>US</td>\n",
       "      <td>2020-02-25</td>\n",
       "      <td>51</td>\n",
       "      <td>0</td>\n",
       "      <td>0</td>\n",
       "      <td>0</td>\n",
       "      <td>2</td>\n",
       "      <td>USA</td>\n",
       "      <td>NaN</td>\n",
       "      <td>NaN</td>\n",
       "      <td>NaT</td>\n",
       "      <td>NaN</td>\n",
       "      <td>NaN</td>\n",
       "    </tr>\n",
       "    <tr>\n",
       "      <td>2</td>\n",
       "      <td>US</td>\n",
       "      <td>2020-02-26</td>\n",
       "      <td>57</td>\n",
       "      <td>0</td>\n",
       "      <td>6</td>\n",
       "      <td>0</td>\n",
       "      <td>3</td>\n",
       "      <td>USA</td>\n",
       "      <td>NaN</td>\n",
       "      <td>NaN</td>\n",
       "      <td>NaT</td>\n",
       "      <td>NaN</td>\n",
       "      <td>NaN</td>\n",
       "    </tr>\n",
       "    <tr>\n",
       "      <td>3</td>\n",
       "      <td>US</td>\n",
       "      <td>2020-02-27</td>\n",
       "      <td>58</td>\n",
       "      <td>0</td>\n",
       "      <td>1</td>\n",
       "      <td>0</td>\n",
       "      <td>4</td>\n",
       "      <td>USA</td>\n",
       "      <td>NaN</td>\n",
       "      <td>NaN</td>\n",
       "      <td>NaT</td>\n",
       "      <td>NaN</td>\n",
       "      <td>NaN</td>\n",
       "    </tr>\n",
       "    <tr>\n",
       "      <td>4</td>\n",
       "      <td>US</td>\n",
       "      <td>2020-02-28</td>\n",
       "      <td>60</td>\n",
       "      <td>0</td>\n",
       "      <td>2</td>\n",
       "      <td>0</td>\n",
       "      <td>5</td>\n",
       "      <td>USA</td>\n",
       "      <td>NaN</td>\n",
       "      <td>NaN</td>\n",
       "      <td>NaT</td>\n",
       "      <td>NaN</td>\n",
       "      <td>NaN</td>\n",
       "    </tr>\n",
       "    <tr>\n",
       "      <td>...</td>\n",
       "      <td>...</td>\n",
       "      <td>...</td>\n",
       "      <td>...</td>\n",
       "      <td>...</td>\n",
       "      <td>...</td>\n",
       "      <td>...</td>\n",
       "      <td>...</td>\n",
       "      <td>...</td>\n",
       "      <td>...</td>\n",
       "      <td>...</td>\n",
       "      <td>...</td>\n",
       "      <td>...</td>\n",
       "      <td>...</td>\n",
       "    </tr>\n",
       "    <tr>\n",
       "      <td>157</td>\n",
       "      <td>Korea, South</td>\n",
       "      <td>2020-05-01</td>\n",
       "      <td>10780</td>\n",
       "      <td>250</td>\n",
       "      <td>6</td>\n",
       "      <td>2</td>\n",
       "      <td>86</td>\n",
       "      <td>KOR</td>\n",
       "      <td>South Korea</td>\n",
       "      <td>KOR</td>\n",
       "      <td>2020-05-01</td>\n",
       "      <td>12153.0</td>\n",
       "      <td>4.837</td>\n",
       "    </tr>\n",
       "    <tr>\n",
       "      <td>158</td>\n",
       "      <td>Korea, South</td>\n",
       "      <td>2020-05-02</td>\n",
       "      <td>10793</td>\n",
       "      <td>250</td>\n",
       "      <td>13</td>\n",
       "      <td>0</td>\n",
       "      <td>87</td>\n",
       "      <td>KOR</td>\n",
       "      <td>South Korea</td>\n",
       "      <td>KOR</td>\n",
       "      <td>2020-05-02</td>\n",
       "      <td>12241.0</td>\n",
       "      <td>4.876</td>\n",
       "    </tr>\n",
       "    <tr>\n",
       "      <td>159</td>\n",
       "      <td>Korea, South</td>\n",
       "      <td>2020-05-03</td>\n",
       "      <td>10801</td>\n",
       "      <td>252</td>\n",
       "      <td>8</td>\n",
       "      <td>2</td>\n",
       "      <td>88</td>\n",
       "      <td>KOR</td>\n",
       "      <td>South Korea</td>\n",
       "      <td>KOR</td>\n",
       "      <td>2020-05-03</td>\n",
       "      <td>12307.0</td>\n",
       "      <td>4.876</td>\n",
       "    </tr>\n",
       "    <tr>\n",
       "      <td>160</td>\n",
       "      <td>Korea, South</td>\n",
       "      <td>2020-05-04</td>\n",
       "      <td>10804</td>\n",
       "      <td>254</td>\n",
       "      <td>3</td>\n",
       "      <td>2</td>\n",
       "      <td>89</td>\n",
       "      <td>KOR</td>\n",
       "      <td>South Korea</td>\n",
       "      <td>KOR</td>\n",
       "      <td>2020-05-04</td>\n",
       "      <td>12365.0</td>\n",
       "      <td>4.915</td>\n",
       "    </tr>\n",
       "    <tr>\n",
       "      <td>161</td>\n",
       "      <td>Korea, South</td>\n",
       "      <td>2020-05-05</td>\n",
       "      <td>10806</td>\n",
       "      <td>255</td>\n",
       "      <td>2</td>\n",
       "      <td>1</td>\n",
       "      <td>90</td>\n",
       "      <td>KOR</td>\n",
       "      <td>South Korea</td>\n",
       "      <td>KOR</td>\n",
       "      <td>2020-05-05</td>\n",
       "      <td>12488.0</td>\n",
       "      <td>4.954</td>\n",
       "    </tr>\n",
       "  </tbody>\n",
       "</table>\n",
       "<p>162 rows × 13 columns</p>\n",
       "</div>"
      ],
      "text/plain": [
       "          country       date  confirmed  deaths  new_confirmed  new_deaths  \\\n",
       "0              US 2020-02-24         51       0             36           0   \n",
       "1              US 2020-02-25         51       0              0           0   \n",
       "2              US 2020-02-26         57       0              6           0   \n",
       "3              US 2020-02-27         58       0              1           0   \n",
       "4              US 2020-02-28         60       0              2           0   \n",
       "..            ...        ...        ...     ...            ...         ...   \n",
       "157  Korea, South 2020-05-01      10780     250              6           2   \n",
       "158  Korea, South 2020-05-02      10793     250             13           0   \n",
       "159  Korea, South 2020-05-03      10801     252              8           2   \n",
       "160  Korea, South 2020-05-04      10804     254              3           2   \n",
       "161  Korea, South 2020-05-05      10806     255              2           1   \n",
       "\n",
       "     tagged_day country code       Entity Code       Date  \\\n",
       "0             1          USA          NaN  NaN        NaT   \n",
       "1             2          USA          NaN  NaN        NaT   \n",
       "2             3          USA          NaN  NaN        NaT   \n",
       "3             4          USA          NaN  NaN        NaT   \n",
       "4             5          USA          NaN  NaN        NaT   \n",
       "..          ...          ...          ...  ...        ...   \n",
       "157          86          KOR  South Korea  KOR 2020-05-01   \n",
       "158          87          KOR  South Korea  KOR 2020-05-02   \n",
       "159          88          KOR  South Korea  KOR 2020-05-03   \n",
       "160          89          KOR  South Korea  KOR 2020-05-04   \n",
       "161          90          KOR  South Korea  KOR 2020-05-05   \n",
       "\n",
       "     Total tests per million people  \\\n",
       "0                               NaN   \n",
       "1                               NaN   \n",
       "2                               NaN   \n",
       "3                               NaN   \n",
       "4                               NaN   \n",
       "..                              ...   \n",
       "157                         12153.0   \n",
       "158                         12241.0   \n",
       "159                         12307.0   \n",
       "160                         12365.0   \n",
       "161                         12488.0   \n",
       "\n",
       "     Total confirmed deaths due to COVID-19 per million people (deaths per million)  \n",
       "0                                                  NaN                               \n",
       "1                                                  NaN                               \n",
       "2                                                  NaN                               \n",
       "3                                                  NaN                               \n",
       "4                                                  NaN                               \n",
       "..                                                 ...                               \n",
       "157                                              4.837                               \n",
       "158                                              4.876                               \n",
       "159                                              4.876                               \n",
       "160                                              4.915                               \n",
       "161                                              4.954                               \n",
       "\n",
       "[162 rows x 13 columns]"
      ]
     },
     "execution_count": 185,
     "metadata": {},
     "output_type": "execute_result"
    }
   ],
   "source": [
    "df2 = pd.merge(left=df, right=testing, how='left', left_on=['date','country code'], right_on=['Date', 'Code'])\n",
    "display(df2.info())\n",
    "df2"
   ]
  },
  {
   "cell_type": "code",
   "execution_count": 186,
   "metadata": {},
   "outputs": [
    {
     "data": {
      "text/html": [
       "<div>\n",
       "<style scoped>\n",
       "    .dataframe tbody tr th:only-of-type {\n",
       "        vertical-align: middle;\n",
       "    }\n",
       "\n",
       "    .dataframe tbody tr th {\n",
       "        vertical-align: top;\n",
       "    }\n",
       "\n",
       "    .dataframe thead th {\n",
       "        text-align: right;\n",
       "    }\n",
       "</style>\n",
       "<table border=\"1\" class=\"dataframe\">\n",
       "  <thead>\n",
       "    <tr style=\"text-align: right;\">\n",
       "      <th></th>\n",
       "      <th>date</th>\n",
       "      <th>confirmed</th>\n",
       "      <th>deaths</th>\n",
       "      <th>new_confirmed</th>\n",
       "      <th>new_deaths</th>\n",
       "      <th>tagged_day</th>\n",
       "      <th>country code</th>\n",
       "      <th>Total tests per million people</th>\n",
       "      <th>Total confirmed deaths due to COVID-19 per million people (deaths per million)</th>\n",
       "    </tr>\n",
       "  </thead>\n",
       "  <tbody>\n",
       "    <tr>\n",
       "      <td>0</td>\n",
       "      <td>2020-02-24</td>\n",
       "      <td>51</td>\n",
       "      <td>0</td>\n",
       "      <td>36</td>\n",
       "      <td>0</td>\n",
       "      <td>1</td>\n",
       "      <td>USA</td>\n",
       "      <td>NaN</td>\n",
       "      <td>NaN</td>\n",
       "    </tr>\n",
       "    <tr>\n",
       "      <td>1</td>\n",
       "      <td>2020-02-25</td>\n",
       "      <td>51</td>\n",
       "      <td>0</td>\n",
       "      <td>0</td>\n",
       "      <td>0</td>\n",
       "      <td>2</td>\n",
       "      <td>USA</td>\n",
       "      <td>NaN</td>\n",
       "      <td>NaN</td>\n",
       "    </tr>\n",
       "    <tr>\n",
       "      <td>2</td>\n",
       "      <td>2020-02-26</td>\n",
       "      <td>57</td>\n",
       "      <td>0</td>\n",
       "      <td>6</td>\n",
       "      <td>0</td>\n",
       "      <td>3</td>\n",
       "      <td>USA</td>\n",
       "      <td>NaN</td>\n",
       "      <td>NaN</td>\n",
       "    </tr>\n",
       "    <tr>\n",
       "      <td>3</td>\n",
       "      <td>2020-02-27</td>\n",
       "      <td>58</td>\n",
       "      <td>0</td>\n",
       "      <td>1</td>\n",
       "      <td>0</td>\n",
       "      <td>4</td>\n",
       "      <td>USA</td>\n",
       "      <td>NaN</td>\n",
       "      <td>NaN</td>\n",
       "    </tr>\n",
       "    <tr>\n",
       "      <td>4</td>\n",
       "      <td>2020-02-28</td>\n",
       "      <td>60</td>\n",
       "      <td>0</td>\n",
       "      <td>2</td>\n",
       "      <td>0</td>\n",
       "      <td>5</td>\n",
       "      <td>USA</td>\n",
       "      <td>NaN</td>\n",
       "      <td>NaN</td>\n",
       "    </tr>\n",
       "    <tr>\n",
       "      <td>...</td>\n",
       "      <td>...</td>\n",
       "      <td>...</td>\n",
       "      <td>...</td>\n",
       "      <td>...</td>\n",
       "      <td>...</td>\n",
       "      <td>...</td>\n",
       "      <td>...</td>\n",
       "      <td>...</td>\n",
       "      <td>...</td>\n",
       "    </tr>\n",
       "    <tr>\n",
       "      <td>157</td>\n",
       "      <td>2020-05-01</td>\n",
       "      <td>10780</td>\n",
       "      <td>250</td>\n",
       "      <td>6</td>\n",
       "      <td>2</td>\n",
       "      <td>86</td>\n",
       "      <td>KOR</td>\n",
       "      <td>12153.0</td>\n",
       "      <td>4.837</td>\n",
       "    </tr>\n",
       "    <tr>\n",
       "      <td>158</td>\n",
       "      <td>2020-05-02</td>\n",
       "      <td>10793</td>\n",
       "      <td>250</td>\n",
       "      <td>13</td>\n",
       "      <td>0</td>\n",
       "      <td>87</td>\n",
       "      <td>KOR</td>\n",
       "      <td>12241.0</td>\n",
       "      <td>4.876</td>\n",
       "    </tr>\n",
       "    <tr>\n",
       "      <td>159</td>\n",
       "      <td>2020-05-03</td>\n",
       "      <td>10801</td>\n",
       "      <td>252</td>\n",
       "      <td>8</td>\n",
       "      <td>2</td>\n",
       "      <td>88</td>\n",
       "      <td>KOR</td>\n",
       "      <td>12307.0</td>\n",
       "      <td>4.876</td>\n",
       "    </tr>\n",
       "    <tr>\n",
       "      <td>160</td>\n",
       "      <td>2020-05-04</td>\n",
       "      <td>10804</td>\n",
       "      <td>254</td>\n",
       "      <td>3</td>\n",
       "      <td>2</td>\n",
       "      <td>89</td>\n",
       "      <td>KOR</td>\n",
       "      <td>12365.0</td>\n",
       "      <td>4.915</td>\n",
       "    </tr>\n",
       "    <tr>\n",
       "      <td>161</td>\n",
       "      <td>2020-05-05</td>\n",
       "      <td>10806</td>\n",
       "      <td>255</td>\n",
       "      <td>2</td>\n",
       "      <td>1</td>\n",
       "      <td>90</td>\n",
       "      <td>KOR</td>\n",
       "      <td>12488.0</td>\n",
       "      <td>4.954</td>\n",
       "    </tr>\n",
       "  </tbody>\n",
       "</table>\n",
       "<p>162 rows × 9 columns</p>\n",
       "</div>"
      ],
      "text/plain": [
       "          date  confirmed  deaths  new_confirmed  new_deaths  tagged_day  \\\n",
       "0   2020-02-24         51       0             36           0           1   \n",
       "1   2020-02-25         51       0              0           0           2   \n",
       "2   2020-02-26         57       0              6           0           3   \n",
       "3   2020-02-27         58       0              1           0           4   \n",
       "4   2020-02-28         60       0              2           0           5   \n",
       "..         ...        ...     ...            ...         ...         ...   \n",
       "157 2020-05-01      10780     250              6           2          86   \n",
       "158 2020-05-02      10793     250             13           0          87   \n",
       "159 2020-05-03      10801     252              8           2          88   \n",
       "160 2020-05-04      10804     254              3           2          89   \n",
       "161 2020-05-05      10806     255              2           1          90   \n",
       "\n",
       "    country code  Total tests per million people  \\\n",
       "0            USA                             NaN   \n",
       "1            USA                             NaN   \n",
       "2            USA                             NaN   \n",
       "3            USA                             NaN   \n",
       "4            USA                             NaN   \n",
       "..           ...                             ...   \n",
       "157          KOR                         12153.0   \n",
       "158          KOR                         12241.0   \n",
       "159          KOR                         12307.0   \n",
       "160          KOR                         12365.0   \n",
       "161          KOR                         12488.0   \n",
       "\n",
       "     Total confirmed deaths due to COVID-19 per million people (deaths per million)  \n",
       "0                                                  NaN                               \n",
       "1                                                  NaN                               \n",
       "2                                                  NaN                               \n",
       "3                                                  NaN                               \n",
       "4                                                  NaN                               \n",
       "..                                                 ...                               \n",
       "157                                              4.837                               \n",
       "158                                              4.876                               \n",
       "159                                              4.876                               \n",
       "160                                              4.915                               \n",
       "161                                              4.954                               \n",
       "\n",
       "[162 rows x 9 columns]"
      ]
     },
     "execution_count": 186,
     "metadata": {},
     "output_type": "execute_result"
    }
   ],
   "source": [
    "df3 = df2.copy(deep=True)\n",
    "\n",
    "# needed cols: 'country code','date','tagged_day','Total tests per million people','confirmed','deaths','new_confirmed','new_deaths', \n",
    "#                    'Total confirmed deaths due to COVID-19 per million people (deaths per million)'\n",
    "\n",
    "df3_dropped_cols = ['country', 'Entity', 'Code', 'Date']\n",
    "df3 = df3.drop(labels=df3_dropped_cols, axis=1)\n",
    "df3"
   ]
  },
  {
   "cell_type": "code",
   "execution_count": 187,
   "metadata": {},
   "outputs": [],
   "source": [
    "# df3.to_csv(\"df3.out.csv\", index= False)"
   ]
  },
  {
   "cell_type": "code",
   "execution_count": 189,
   "metadata": {},
   "outputs": [
    {
     "data": {
      "text/plain": [
       "(162, 9)"
      ]
     },
     "metadata": {},
     "output_type": "display_data"
    },
    {
     "name": "stdout",
     "output_type": "stream",
     "text": [
      "<class 'pandas.core.frame.DataFrame'>\n",
      "Int64Index: 162 entries, 0 to 161\n",
      "Data columns (total 9 columns):\n",
      "date                                                                              162 non-null datetime64[ns]\n",
      "confirmed                                                                         162 non-null int64\n",
      "deaths                                                                            162 non-null int64\n",
      "new_confirmed                                                                     162 non-null int64\n",
      "new_deaths                                                                        162 non-null int64\n",
      "tagged_day                                                                        162 non-null int64\n",
      "country code                                                                      162 non-null object\n",
      "Total tests per million people                                                    150 non-null float64\n",
      "Total confirmed deaths due to COVID-19 per million people (deaths per million)    141 non-null float64\n",
      "dtypes: datetime64[ns](1), float64(2), int64(5), object(1)\n",
      "memory usage: 12.7+ KB\n"
     ]
    },
    {
     "data": {
      "text/plain": [
       "None"
      ]
     },
     "metadata": {},
     "output_type": "display_data"
    }
   ],
   "source": [
    "df4 = df3.copy(deep=True)\n",
    "display(df4.shape)\n",
    "display(df4.info())"
   ]
  },
  {
   "cell_type": "code",
   "execution_count": 190,
   "metadata": {
    "scrolled": true
   },
   "outputs": [
    {
     "name": "stdout",
     "output_type": "stream",
     "text": [
      "<class 'pandas.core.frame.DataFrame'>\n",
      "Int64Index: 162 entries, 0 to 161\n",
      "Data columns (total 9 columns):\n",
      "date                                                                              162 non-null datetime64[ns]\n",
      "confirmed                                                                         162 non-null int64\n",
      "deaths                                                                            162 non-null int64\n",
      "new_confirmed                                                                     162 non-null int64\n",
      "new_deaths                                                                        162 non-null int64\n",
      "tagged_day                                                                        162 non-null int64\n",
      "country code                                                                      162 non-null object\n",
      "Total tests per million people                                                    162 non-null float64\n",
      "Total confirmed deaths due to COVID-19 per million people (deaths per million)    162 non-null float64\n",
      "dtypes: datetime64[ns](1), float64(2), int64(5), object(1)\n",
      "memory usage: 12.7+ KB\n"
     ]
    },
    {
     "data": {
      "text/plain": [
       "None"
      ]
     },
     "metadata": {},
     "output_type": "display_data"
    },
    {
     "data": {
      "text/html": [
       "<div>\n",
       "<style scoped>\n",
       "    .dataframe tbody tr th:only-of-type {\n",
       "        vertical-align: middle;\n",
       "    }\n",
       "\n",
       "    .dataframe tbody tr th {\n",
       "        vertical-align: top;\n",
       "    }\n",
       "\n",
       "    .dataframe thead th {\n",
       "        text-align: right;\n",
       "    }\n",
       "</style>\n",
       "<table border=\"1\" class=\"dataframe\">\n",
       "  <thead>\n",
       "    <tr style=\"text-align: right;\">\n",
       "      <th></th>\n",
       "      <th>date</th>\n",
       "      <th>confirmed</th>\n",
       "      <th>deaths</th>\n",
       "      <th>new_confirmed</th>\n",
       "      <th>new_deaths</th>\n",
       "      <th>tagged_day</th>\n",
       "      <th>country code</th>\n",
       "      <th>Total tests per million people</th>\n",
       "      <th>Total confirmed deaths due to COVID-19 per million people (deaths per million)</th>\n",
       "    </tr>\n",
       "  </thead>\n",
       "  <tbody>\n",
       "    <tr>\n",
       "      <td>0</td>\n",
       "      <td>2020-02-24</td>\n",
       "      <td>51</td>\n",
       "      <td>0</td>\n",
       "      <td>36</td>\n",
       "      <td>0</td>\n",
       "      <td>1</td>\n",
       "      <td>USA</td>\n",
       "      <td>0.0</td>\n",
       "      <td>0.0</td>\n",
       "    </tr>\n",
       "    <tr>\n",
       "      <td>1</td>\n",
       "      <td>2020-02-25</td>\n",
       "      <td>51</td>\n",
       "      <td>0</td>\n",
       "      <td>0</td>\n",
       "      <td>0</td>\n",
       "      <td>2</td>\n",
       "      <td>USA</td>\n",
       "      <td>0.0</td>\n",
       "      <td>0.0</td>\n",
       "    </tr>\n",
       "    <tr>\n",
       "      <td>2</td>\n",
       "      <td>2020-02-26</td>\n",
       "      <td>57</td>\n",
       "      <td>0</td>\n",
       "      <td>6</td>\n",
       "      <td>0</td>\n",
       "      <td>3</td>\n",
       "      <td>USA</td>\n",
       "      <td>0.0</td>\n",
       "      <td>0.0</td>\n",
       "    </tr>\n",
       "    <tr>\n",
       "      <td>3</td>\n",
       "      <td>2020-02-27</td>\n",
       "      <td>58</td>\n",
       "      <td>0</td>\n",
       "      <td>1</td>\n",
       "      <td>0</td>\n",
       "      <td>4</td>\n",
       "      <td>USA</td>\n",
       "      <td>0.0</td>\n",
       "      <td>0.0</td>\n",
       "    </tr>\n",
       "    <tr>\n",
       "      <td>4</td>\n",
       "      <td>2020-02-28</td>\n",
       "      <td>60</td>\n",
       "      <td>0</td>\n",
       "      <td>2</td>\n",
       "      <td>0</td>\n",
       "      <td>5</td>\n",
       "      <td>USA</td>\n",
       "      <td>0.0</td>\n",
       "      <td>0.0</td>\n",
       "    </tr>\n",
       "  </tbody>\n",
       "</table>\n",
       "</div>"
      ],
      "text/plain": [
       "        date  confirmed  deaths  new_confirmed  new_deaths  tagged_day  \\\n",
       "0 2020-02-24         51       0             36           0           1   \n",
       "1 2020-02-25         51       0              0           0           2   \n",
       "2 2020-02-26         57       0              6           0           3   \n",
       "3 2020-02-27         58       0              1           0           4   \n",
       "4 2020-02-28         60       0              2           0           5   \n",
       "\n",
       "  country code  Total tests per million people  \\\n",
       "0          USA                             0.0   \n",
       "1          USA                             0.0   \n",
       "2          USA                             0.0   \n",
       "3          USA                             0.0   \n",
       "4          USA                             0.0   \n",
       "\n",
       "   Total confirmed deaths due to COVID-19 per million people (deaths per million)  \n",
       "0                                                0.0                               \n",
       "1                                                0.0                               \n",
       "2                                                0.0                               \n",
       "3                                                0.0                               \n",
       "4                                                0.0                               "
      ]
     },
     "execution_count": 190,
     "metadata": {},
     "output_type": "execute_result"
    }
   ],
   "source": [
    "df4['Total tests per million people'] = df4['Total tests per million people'].replace(to_replace=np.NaN,value=0)\n",
    "df4['Total confirmed deaths due to COVID-19 per million people (deaths per million)'] = df4['Total confirmed deaths due to COVID-19 per million people (deaths per million)'].replace(to_replace=np.NaN,value=0)\n",
    "display(df4.info())\n",
    "df4.head()"
   ]
  },
  {
   "cell_type": "code",
   "execution_count": 191,
   "metadata": {},
   "outputs": [
    {
     "data": {
      "text/html": [
       "<div>\n",
       "<style scoped>\n",
       "    .dataframe tbody tr th:only-of-type {\n",
       "        vertical-align: middle;\n",
       "    }\n",
       "\n",
       "    .dataframe tbody tr th {\n",
       "        vertical-align: top;\n",
       "    }\n",
       "\n",
       "    .dataframe thead th {\n",
       "        text-align: right;\n",
       "    }\n",
       "</style>\n",
       "<table border=\"1\" class=\"dataframe\">\n",
       "  <thead>\n",
       "    <tr style=\"text-align: right;\">\n",
       "      <th></th>\n",
       "      <th>date</th>\n",
       "      <th>confirmed</th>\n",
       "      <th>deaths</th>\n",
       "      <th>new_confirmed</th>\n",
       "      <th>new_deaths</th>\n",
       "      <th>tagged_day</th>\n",
       "      <th>country code</th>\n",
       "      <th>Total tests per million people</th>\n",
       "      <th>Total confirmed deaths due to COVID-19 per million people (deaths per million)</th>\n",
       "    </tr>\n",
       "  </thead>\n",
       "  <tbody>\n",
       "    <tr>\n",
       "      <td>0</td>\n",
       "      <td>2020-02-24</td>\n",
       "      <td>51</td>\n",
       "      <td>0</td>\n",
       "      <td>36</td>\n",
       "      <td>0</td>\n",
       "      <td>1</td>\n",
       "      <td>USA</td>\n",
       "      <td>0.0</td>\n",
       "      <td>0.000</td>\n",
       "    </tr>\n",
       "    <tr>\n",
       "      <td>1</td>\n",
       "      <td>2020-02-25</td>\n",
       "      <td>51</td>\n",
       "      <td>0</td>\n",
       "      <td>0</td>\n",
       "      <td>0</td>\n",
       "      <td>2</td>\n",
       "      <td>USA</td>\n",
       "      <td>0.0</td>\n",
       "      <td>0.000</td>\n",
       "    </tr>\n",
       "    <tr>\n",
       "      <td>2</td>\n",
       "      <td>2020-02-26</td>\n",
       "      <td>57</td>\n",
       "      <td>0</td>\n",
       "      <td>6</td>\n",
       "      <td>0</td>\n",
       "      <td>3</td>\n",
       "      <td>USA</td>\n",
       "      <td>0.0</td>\n",
       "      <td>0.000</td>\n",
       "    </tr>\n",
       "    <tr>\n",
       "      <td>3</td>\n",
       "      <td>2020-02-27</td>\n",
       "      <td>58</td>\n",
       "      <td>0</td>\n",
       "      <td>1</td>\n",
       "      <td>0</td>\n",
       "      <td>4</td>\n",
       "      <td>USA</td>\n",
       "      <td>0.0</td>\n",
       "      <td>0.000</td>\n",
       "    </tr>\n",
       "    <tr>\n",
       "      <td>4</td>\n",
       "      <td>2020-02-28</td>\n",
       "      <td>60</td>\n",
       "      <td>0</td>\n",
       "      <td>2</td>\n",
       "      <td>0</td>\n",
       "      <td>5</td>\n",
       "      <td>USA</td>\n",
       "      <td>0.0</td>\n",
       "      <td>0.000</td>\n",
       "    </tr>\n",
       "    <tr>\n",
       "      <td>...</td>\n",
       "      <td>...</td>\n",
       "      <td>...</td>\n",
       "      <td>...</td>\n",
       "      <td>...</td>\n",
       "      <td>...</td>\n",
       "      <td>...</td>\n",
       "      <td>...</td>\n",
       "      <td>...</td>\n",
       "      <td>...</td>\n",
       "    </tr>\n",
       "    <tr>\n",
       "      <td>67</td>\n",
       "      <td>2020-05-01</td>\n",
       "      <td>1103461</td>\n",
       "      <td>64943</td>\n",
       "      <td>34037</td>\n",
       "      <td>1947</td>\n",
       "      <td>68</td>\n",
       "      <td>USA</td>\n",
       "      <td>19794.0</td>\n",
       "      <td>190.349</td>\n",
       "    </tr>\n",
       "    <tr>\n",
       "      <td>68</td>\n",
       "      <td>2020-05-02</td>\n",
       "      <td>1132539</td>\n",
       "      <td>66369</td>\n",
       "      <td>29078</td>\n",
       "      <td>1426</td>\n",
       "      <td>69</td>\n",
       "      <td>USA</td>\n",
       "      <td>20559.0</td>\n",
       "      <td>196.578</td>\n",
       "    </tr>\n",
       "    <tr>\n",
       "      <td>69</td>\n",
       "      <td>2020-05-03</td>\n",
       "      <td>1158040</td>\n",
       "      <td>67682</td>\n",
       "      <td>25501</td>\n",
       "      <td>1313</td>\n",
       "      <td>70</td>\n",
       "      <td>USA</td>\n",
       "      <td>21309.0</td>\n",
       "      <td>200.557</td>\n",
       "    </tr>\n",
       "    <tr>\n",
       "      <td>70</td>\n",
       "      <td>2020-05-04</td>\n",
       "      <td>1180375</td>\n",
       "      <td>68922</td>\n",
       "      <td>22335</td>\n",
       "      <td>1240</td>\n",
       "      <td>71</td>\n",
       "      <td>USA</td>\n",
       "      <td>22010.0</td>\n",
       "      <td>204.476</td>\n",
       "    </tr>\n",
       "    <tr>\n",
       "      <td>71</td>\n",
       "      <td>2020-05-05</td>\n",
       "      <td>1204351</td>\n",
       "      <td>71064</td>\n",
       "      <td>23976</td>\n",
       "      <td>2142</td>\n",
       "      <td>72</td>\n",
       "      <td>USA</td>\n",
       "      <td>22792.0</td>\n",
       "      <td>208.258</td>\n",
       "    </tr>\n",
       "  </tbody>\n",
       "</table>\n",
       "<p>72 rows × 9 columns</p>\n",
       "</div>"
      ],
      "text/plain": [
       "         date  confirmed  deaths  new_confirmed  new_deaths  tagged_day  \\\n",
       "0  2020-02-24         51       0             36           0           1   \n",
       "1  2020-02-25         51       0              0           0           2   \n",
       "2  2020-02-26         57       0              6           0           3   \n",
       "3  2020-02-27         58       0              1           0           4   \n",
       "4  2020-02-28         60       0              2           0           5   \n",
       "..        ...        ...     ...            ...         ...         ...   \n",
       "67 2020-05-01    1103461   64943          34037        1947          68   \n",
       "68 2020-05-02    1132539   66369          29078        1426          69   \n",
       "69 2020-05-03    1158040   67682          25501        1313          70   \n",
       "70 2020-05-04    1180375   68922          22335        1240          71   \n",
       "71 2020-05-05    1204351   71064          23976        2142          72   \n",
       "\n",
       "   country code  Total tests per million people  \\\n",
       "0           USA                             0.0   \n",
       "1           USA                             0.0   \n",
       "2           USA                             0.0   \n",
       "3           USA                             0.0   \n",
       "4           USA                             0.0   \n",
       "..          ...                             ...   \n",
       "67          USA                         19794.0   \n",
       "68          USA                         20559.0   \n",
       "69          USA                         21309.0   \n",
       "70          USA                         22010.0   \n",
       "71          USA                         22792.0   \n",
       "\n",
       "    Total confirmed deaths due to COVID-19 per million people (deaths per million)  \n",
       "0                                               0.000                               \n",
       "1                                               0.000                               \n",
       "2                                               0.000                               \n",
       "3                                               0.000                               \n",
       "4                                               0.000                               \n",
       "..                                                ...                               \n",
       "67                                            190.349                               \n",
       "68                                            196.578                               \n",
       "69                                            200.557                               \n",
       "70                                            204.476                               \n",
       "71                                            208.258                               \n",
       "\n",
       "[72 rows x 9 columns]"
      ]
     },
     "execution_count": 191,
     "metadata": {},
     "output_type": "execute_result"
    }
   ],
   "source": [
    "dfkor = df4.loc[df4['country code'] == 'USA']\n",
    "dfkor"
   ]
  },
  {
   "cell_type": "code",
   "execution_count": 192,
   "metadata": {
    "scrolled": true
   },
   "outputs": [
    {
     "data": {
      "text/html": [
       "<div>\n",
       "<style scoped>\n",
       "    .dataframe tbody tr th:only-of-type {\n",
       "        vertical-align: middle;\n",
       "    }\n",
       "\n",
       "    .dataframe tbody tr th {\n",
       "        vertical-align: top;\n",
       "    }\n",
       "\n",
       "    .dataframe thead th {\n",
       "        text-align: right;\n",
       "    }\n",
       "</style>\n",
       "<table border=\"1\" class=\"dataframe\">\n",
       "  <thead>\n",
       "    <tr style=\"text-align: right;\">\n",
       "      <th></th>\n",
       "      <th>date</th>\n",
       "      <th>confirmed</th>\n",
       "      <th>deaths</th>\n",
       "      <th>new_confirmed</th>\n",
       "      <th>new_deaths</th>\n",
       "      <th>tagged_day</th>\n",
       "      <th>country code</th>\n",
       "      <th>Total tests per million people</th>\n",
       "      <th>Total confirmed deaths due to COVID-19 per million people (deaths per million)</th>\n",
       "    </tr>\n",
       "  </thead>\n",
       "  <tbody>\n",
       "    <tr>\n",
       "      <td>72</td>\n",
       "      <td>2020-02-06</td>\n",
       "      <td>23</td>\n",
       "      <td>0</td>\n",
       "      <td>4</td>\n",
       "      <td>0</td>\n",
       "      <td>1</td>\n",
       "      <td>KOR</td>\n",
       "      <td>17.0</td>\n",
       "      <td>0.000</td>\n",
       "    </tr>\n",
       "    <tr>\n",
       "      <td>73</td>\n",
       "      <td>2020-02-07</td>\n",
       "      <td>24</td>\n",
       "      <td>0</td>\n",
       "      <td>1</td>\n",
       "      <td>0</td>\n",
       "      <td>2</td>\n",
       "      <td>KOR</td>\n",
       "      <td>22.0</td>\n",
       "      <td>0.000</td>\n",
       "    </tr>\n",
       "    <tr>\n",
       "      <td>74</td>\n",
       "      <td>2020-02-08</td>\n",
       "      <td>24</td>\n",
       "      <td>0</td>\n",
       "      <td>0</td>\n",
       "      <td>0</td>\n",
       "      <td>3</td>\n",
       "      <td>KOR</td>\n",
       "      <td>33.0</td>\n",
       "      <td>0.000</td>\n",
       "    </tr>\n",
       "    <tr>\n",
       "      <td>75</td>\n",
       "      <td>2020-02-09</td>\n",
       "      <td>25</td>\n",
       "      <td>0</td>\n",
       "      <td>1</td>\n",
       "      <td>0</td>\n",
       "      <td>4</td>\n",
       "      <td>KOR</td>\n",
       "      <td>46.0</td>\n",
       "      <td>0.000</td>\n",
       "    </tr>\n",
       "    <tr>\n",
       "      <td>76</td>\n",
       "      <td>2020-02-10</td>\n",
       "      <td>27</td>\n",
       "      <td>0</td>\n",
       "      <td>2</td>\n",
       "      <td>0</td>\n",
       "      <td>5</td>\n",
       "      <td>KOR</td>\n",
       "      <td>54.0</td>\n",
       "      <td>0.000</td>\n",
       "    </tr>\n",
       "    <tr>\n",
       "      <td>...</td>\n",
       "      <td>...</td>\n",
       "      <td>...</td>\n",
       "      <td>...</td>\n",
       "      <td>...</td>\n",
       "      <td>...</td>\n",
       "      <td>...</td>\n",
       "      <td>...</td>\n",
       "      <td>...</td>\n",
       "      <td>...</td>\n",
       "    </tr>\n",
       "    <tr>\n",
       "      <td>157</td>\n",
       "      <td>2020-05-01</td>\n",
       "      <td>10780</td>\n",
       "      <td>250</td>\n",
       "      <td>6</td>\n",
       "      <td>2</td>\n",
       "      <td>86</td>\n",
       "      <td>KOR</td>\n",
       "      <td>12153.0</td>\n",
       "      <td>4.837</td>\n",
       "    </tr>\n",
       "    <tr>\n",
       "      <td>158</td>\n",
       "      <td>2020-05-02</td>\n",
       "      <td>10793</td>\n",
       "      <td>250</td>\n",
       "      <td>13</td>\n",
       "      <td>0</td>\n",
       "      <td>87</td>\n",
       "      <td>KOR</td>\n",
       "      <td>12241.0</td>\n",
       "      <td>4.876</td>\n",
       "    </tr>\n",
       "    <tr>\n",
       "      <td>159</td>\n",
       "      <td>2020-05-03</td>\n",
       "      <td>10801</td>\n",
       "      <td>252</td>\n",
       "      <td>8</td>\n",
       "      <td>2</td>\n",
       "      <td>88</td>\n",
       "      <td>KOR</td>\n",
       "      <td>12307.0</td>\n",
       "      <td>4.876</td>\n",
       "    </tr>\n",
       "    <tr>\n",
       "      <td>160</td>\n",
       "      <td>2020-05-04</td>\n",
       "      <td>10804</td>\n",
       "      <td>254</td>\n",
       "      <td>3</td>\n",
       "      <td>2</td>\n",
       "      <td>89</td>\n",
       "      <td>KOR</td>\n",
       "      <td>12365.0</td>\n",
       "      <td>4.915</td>\n",
       "    </tr>\n",
       "    <tr>\n",
       "      <td>161</td>\n",
       "      <td>2020-05-05</td>\n",
       "      <td>10806</td>\n",
       "      <td>255</td>\n",
       "      <td>2</td>\n",
       "      <td>1</td>\n",
       "      <td>90</td>\n",
       "      <td>KOR</td>\n",
       "      <td>12488.0</td>\n",
       "      <td>4.954</td>\n",
       "    </tr>\n",
       "  </tbody>\n",
       "</table>\n",
       "<p>90 rows × 9 columns</p>\n",
       "</div>"
      ],
      "text/plain": [
       "          date  confirmed  deaths  new_confirmed  new_deaths  tagged_day  \\\n",
       "72  2020-02-06         23       0              4           0           1   \n",
       "73  2020-02-07         24       0              1           0           2   \n",
       "74  2020-02-08         24       0              0           0           3   \n",
       "75  2020-02-09         25       0              1           0           4   \n",
       "76  2020-02-10         27       0              2           0           5   \n",
       "..         ...        ...     ...            ...         ...         ...   \n",
       "157 2020-05-01      10780     250              6           2          86   \n",
       "158 2020-05-02      10793     250             13           0          87   \n",
       "159 2020-05-03      10801     252              8           2          88   \n",
       "160 2020-05-04      10804     254              3           2          89   \n",
       "161 2020-05-05      10806     255              2           1          90   \n",
       "\n",
       "    country code  Total tests per million people  \\\n",
       "72           KOR                            17.0   \n",
       "73           KOR                            22.0   \n",
       "74           KOR                            33.0   \n",
       "75           KOR                            46.0   \n",
       "76           KOR                            54.0   \n",
       "..           ...                             ...   \n",
       "157          KOR                         12153.0   \n",
       "158          KOR                         12241.0   \n",
       "159          KOR                         12307.0   \n",
       "160          KOR                         12365.0   \n",
       "161          KOR                         12488.0   \n",
       "\n",
       "     Total confirmed deaths due to COVID-19 per million people (deaths per million)  \n",
       "72                                               0.000                               \n",
       "73                                               0.000                               \n",
       "74                                               0.000                               \n",
       "75                                               0.000                               \n",
       "76                                               0.000                               \n",
       "..                                                 ...                               \n",
       "157                                              4.837                               \n",
       "158                                              4.876                               \n",
       "159                                              4.876                               \n",
       "160                                              4.915                               \n",
       "161                                              4.954                               \n",
       "\n",
       "[90 rows x 9 columns]"
      ]
     },
     "execution_count": 192,
     "metadata": {},
     "output_type": "execute_result"
    }
   ],
   "source": [
    "dfusa = df4.loc[df4['country code'] == 'KOR']\n",
    "dfusa"
   ]
  },
  {
   "cell_type": "code",
   "execution_count": 193,
   "metadata": {
    "scrolled": true
   },
   "outputs": [
    {
     "data": {
      "text/plain": [
       "<matplotlib.axes._subplots.AxesSubplot at 0x13975e110>"
      ]
     },
     "execution_count": 193,
     "metadata": {},
     "output_type": "execute_result"
    },
    {
     "data": {
      "image/png": "[encoded data removed]",
      "text/plain": [
       "<Figure size 432x288 with 1 Axes>"
      ]
     },
     "metadata": {
      "needs_background": "light"
     },
     "output_type": "display_data"
    },
    {
     "data": {
      "image/png": "[encoded data removed]",
      "text/plain": [
       "<Figure size 432x288 with 1 Axes>"
      ]
     },
     "metadata": {
      "needs_background": "light"
     },
     "output_type": "display_data"
    },
    {
     "data": {
      "image/png": "[encoded data removed]",
      "text/plain": [
       "<Figure size 432x288 with 1 Axes>"
      ]
     },
     "metadata": {
      "needs_background": "light"
     },
     "output_type": "display_data"
    },
    {
     "data": {
      "image/png": "[encoded data removed]",
      "text/plain": [
       "<Figure size 432x288 with 1 Axes>"
      ]
     },
     "metadata": {
      "needs_background": "light"
     },
     "output_type": "display_data"
    }
   ],
   "source": [
    "dfkor.plot(x='tagged_day', y='new_confirmed')\n",
    "dfkor.plot(x='tagged_day', y='confirmed', color = 'red')\n",
    "dfkor.plot(x='tagged_day', y='new_deaths')\n",
    "dfkor.plot(x='tagged_day', y='deaths', color = 'red')"
   ]
  },
  {
   "cell_type": "code",
   "execution_count": 194,
   "metadata": {
    "scrolled": true
   },
   "outputs": [
    {
     "data": {
      "text/plain": [
       "<matplotlib.axes._subplots.AxesSubplot at 0x13b28be90>"
      ]
     },
     "execution_count": 194,
     "metadata": {},
     "output_type": "execute_result"
    },
    {
     "data": {
      "image/png": "[encoded data removed]",
      "text/plain": [
       "<Figure size 432x288 with 1 Axes>"
      ]
     },
     "metadata": {
      "needs_background": "light"
     },
     "output_type": "display_data"
    },
    {
     "data": {
      "image/png": "[encoded data removed]",
      "text/plain": [
       "<Figure size 432x288 with 1 Axes>"
      ]
     },
     "metadata": {
      "needs_background": "light"
     },
     "output_type": "display_data"
    },
    {
     "data": {
      "image/png": "[encoded data removed]",
      "text/plain": [
       "<Figure size 432x288 with 1 Axes>"
      ]
     },
     "metadata": {
      "needs_background": "light"
     },
     "output_type": "display_data"
    },
    {
     "data": {
      "image/png": "[encoded data removed]",
      "text/plain": [
       "<Figure size 432x288 with 1 Axes>"
      ]
     },
     "metadata": {
      "needs_background": "light"
     },
     "output_type": "display_data"
    }
   ],
   "source": [
    "dfusa.plot(x='tagged_day', y='new_confirmed')\n",
    "dfusa.plot(x='tagged_day', y='confirmed', color = 'red')\n",
    "dfusa.plot(x='tagged_day', y='new_deaths')\n",
    "dfusa.plot(x='tagged_day', y='deaths', color = 'red')"
   ]
  },
  {
   "cell_type": "code",
   "execution_count": 195,
   "metadata": {
    "scrolled": false
   },
   "outputs": [
    {
     "data": {
      "image/png": "[encoded data removed]",
      "text/plain": [
       "<Figure size 864x288 with 1 Axes>"
      ]
     },
     "metadata": {
      "needs_background": "light"
     },
     "output_type": "display_data"
    }
   ],
   "source": [
    "plt.figure(figsize=(12,4))\n",
    "ax1 = sns.barplot(x=\"tagged_day\", y=\"deaths\", data=dfkor)\n",
    "ax1.set_xticklabels(ax1.get_xticklabels(), rotation=90, ha=\"right\")\n",
    "plt.tight_layout()\n",
    "plt.show()"
   ]
  },
  {
   "cell_type": "code",
   "execution_count": 196,
   "metadata": {
    "scrolled": true
   },
   "outputs": [
    {
     "data": {
      "image/png": "[encoded data removed]",
      "text/plain": [
       "<Figure size 864x288 with 1 Axes>"
      ]
     },
     "metadata": {
      "needs_background": "light"
     },
     "output_type": "display_data"
    }
   ],
   "source": [
    "plt.figure(figsize=(12,4))\n",
    "ax2 = sns.barplot(x=\"tagged_day\", y=\"deaths\", data=dfusa)\n",
    "ax2.set_xticklabels(ax2.get_xticklabels(), rotation=90, ha=\"right\")\n",
    "plt.tight_layout()\n",
    "plt.show()"
   ]
  },
  {
   "cell_type": "code",
   "execution_count": 197,
   "metadata": {
    "scrolled": true
   },
   "outputs": [
    {
     "data": {
      "text/plain": [
       "<seaborn.axisgrid.FacetGrid at 0x139711890>"
      ]
     },
     "execution_count": 197,
     "metadata": {},
     "output_type": "execute_result"
    },
    {
     "data": {
      "image/png": "[encoded data removed]",
      "text/plain": [
       "<Figure size 720x360 with 2 Axes>"
      ]
     },
     "metadata": {
      "needs_background": "light"
     },
     "output_type": "display_data"
    }
   ],
   "source": [
    "sns.lmplot(x=\"tagged_day\", y=\"deaths\", data = df4, col=\"country code\")"
   ]
  },
  {
   "cell_type": "code",
   "execution_count": 198,
   "metadata": {
    "scrolled": true
   },
   "outputs": [
    {
     "data": {
      "text/plain": [
       "<seaborn.axisgrid.FacetGrid at 0x13b52a250>"
      ]
     },
     "execution_count": 198,
     "metadata": {},
     "output_type": "execute_result"
    },
    {
     "data": {
      "image/png": "[encoded data removed]",
      "text/plain": [
       "<Figure size 720x360 with 2 Axes>"
      ]
     },
     "metadata": {
      "needs_background": "light"
     },
     "output_type": "display_data"
    }
   ],
   "source": [
    "sns.lmplot(x=\"Total tests per million people\", y=\"deaths\", data = df4, col=\"country code\")"
   ]
  },
  {
   "cell_type": "code",
   "execution_count": 199,
   "metadata": {},
   "outputs": [
    {
     "data": {
      "text/html": [
       "<div>\n",
       "<style scoped>\n",
       "    .dataframe tbody tr th:only-of-type {\n",
       "        vertical-align: middle;\n",
       "    }\n",
       "\n",
       "    .dataframe tbody tr th {\n",
       "        vertical-align: top;\n",
       "    }\n",
       "\n",
       "    .dataframe thead th {\n",
       "        text-align: right;\n",
       "    }\n",
       "</style>\n",
       "<table border=\"1\" class=\"dataframe\">\n",
       "  <thead>\n",
       "    <tr style=\"text-align: right;\">\n",
       "      <th></th>\n",
       "      <th>confirmed</th>\n",
       "      <th>deaths</th>\n",
       "      <th>new_confirmed</th>\n",
       "      <th>new_deaths</th>\n",
       "      <th>tagged_day</th>\n",
       "      <th>Total tests per million people</th>\n",
       "      <th>Total confirmed deaths due to COVID-19 per million people (deaths per million)</th>\n",
       "    </tr>\n",
       "  </thead>\n",
       "  <tbody>\n",
       "    <tr>\n",
       "      <td>confirmed</td>\n",
       "      <td>1.000000</td>\n",
       "      <td>0.993862</td>\n",
       "      <td>0.771420</td>\n",
       "      <td>0.824617</td>\n",
       "      <td>0.938866</td>\n",
       "      <td>0.995763</td>\n",
       "      <td>0.983410</td>\n",
       "    </tr>\n",
       "    <tr>\n",
       "      <td>deaths</td>\n",
       "      <td>0.993862</td>\n",
       "      <td>1.000000</td>\n",
       "      <td>0.701341</td>\n",
       "      <td>0.771188</td>\n",
       "      <td>0.907931</td>\n",
       "      <td>0.994873</td>\n",
       "      <td>0.997012</td>\n",
       "    </tr>\n",
       "    <tr>\n",
       "      <td>new_confirmed</td>\n",
       "      <td>0.771420</td>\n",
       "      <td>0.701341</td>\n",
       "      <td>1.000000</td>\n",
       "      <td>0.921291</td>\n",
       "      <td>0.879401</td>\n",
       "      <td>0.739477</td>\n",
       "      <td>0.655452</td>\n",
       "    </tr>\n",
       "    <tr>\n",
       "      <td>new_deaths</td>\n",
       "      <td>0.824617</td>\n",
       "      <td>0.771188</td>\n",
       "      <td>0.921291</td>\n",
       "      <td>1.000000</td>\n",
       "      <td>0.864160</td>\n",
       "      <td>0.786446</td>\n",
       "      <td>0.724620</td>\n",
       "    </tr>\n",
       "    <tr>\n",
       "      <td>tagged_day</td>\n",
       "      <td>0.938866</td>\n",
       "      <td>0.907931</td>\n",
       "      <td>0.879401</td>\n",
       "      <td>0.864160</td>\n",
       "      <td>1.000000</td>\n",
       "      <td>0.929302</td>\n",
       "      <td>0.885939</td>\n",
       "    </tr>\n",
       "    <tr>\n",
       "      <td>Total tests per million people</td>\n",
       "      <td>0.995763</td>\n",
       "      <td>0.994873</td>\n",
       "      <td>0.739477</td>\n",
       "      <td>0.786446</td>\n",
       "      <td>0.929302</td>\n",
       "      <td>1.000000</td>\n",
       "      <td>0.988756</td>\n",
       "    </tr>\n",
       "    <tr>\n",
       "      <td>Total confirmed deaths due to COVID-19 per million people (deaths per million)</td>\n",
       "      <td>0.983410</td>\n",
       "      <td>0.997012</td>\n",
       "      <td>0.655452</td>\n",
       "      <td>0.724620</td>\n",
       "      <td>0.885939</td>\n",
       "      <td>0.988756</td>\n",
       "      <td>1.000000</td>\n",
       "    </tr>\n",
       "  </tbody>\n",
       "</table>\n",
       "</div>"
      ],
      "text/plain": [
       "                                                    confirmed    deaths  \\\n",
       "confirmed                                            1.000000  0.993862   \n",
       "deaths                                               0.993862  1.000000   \n",
       "new_confirmed                                        0.771420  0.701341   \n",
       "new_deaths                                           0.824617  0.771188   \n",
       "tagged_day                                           0.938866  0.907931   \n",
       "Total tests per million people                       0.995763  0.994873   \n",
       "Total confirmed deaths due to COVID-19 per mill...   0.983410  0.997012   \n",
       "\n",
       "                                                    new_confirmed  new_deaths  \\\n",
       "confirmed                                                0.771420    0.824617   \n",
       "deaths                                                   0.701341    0.771188   \n",
       "new_confirmed                                            1.000000    0.921291   \n",
       "new_deaths                                               0.921291    1.000000   \n",
       "tagged_day                                               0.879401    0.864160   \n",
       "Total tests per million people                           0.739477    0.786446   \n",
       "Total confirmed deaths due to COVID-19 per mill...       0.655452    0.724620   \n",
       "\n",
       "                                                    tagged_day  \\\n",
       "confirmed                                             0.938866   \n",
       "deaths                                                0.907931   \n",
       "new_confirmed                                         0.879401   \n",
       "new_deaths                                            0.864160   \n",
       "tagged_day                                            1.000000   \n",
       "Total tests per million people                        0.929302   \n",
       "Total confirmed deaths due to COVID-19 per mill...    0.885939   \n",
       "\n",
       "                                                    Total tests per million people  \\\n",
       "confirmed                                                                 0.995763   \n",
       "deaths                                                                    0.994873   \n",
       "new_confirmed                                                             0.739477   \n",
       "new_deaths                                                                0.786446   \n",
       "tagged_day                                                                0.929302   \n",
       "Total tests per million people                                            1.000000   \n",
       "Total confirmed deaths due to COVID-19 per mill...                        0.988756   \n",
       "\n",
       "                                                    Total confirmed deaths due to COVID-19 per million people (deaths per million)  \n",
       "confirmed                                                                                    0.983410                               \n",
       "deaths                                                                                       0.997012                               \n",
       "new_confirmed                                                                                0.655452                               \n",
       "new_deaths                                                                                   0.724620                               \n",
       "tagged_day                                                                                   0.885939                               \n",
       "Total tests per million people                                                               0.988756                               \n",
       "Total confirmed deaths due to COVID-19 per mill...                                           1.000000                               "
      ]
     },
     "metadata": {},
     "output_type": "display_data"
    },
    {
     "data": {
      "text/html": [
       "<div>\n",
       "<style scoped>\n",
       "    .dataframe tbody tr th:only-of-type {\n",
       "        vertical-align: middle;\n",
       "    }\n",
       "\n",
       "    .dataframe tbody tr th {\n",
       "        vertical-align: top;\n",
       "    }\n",
       "\n",
       "    .dataframe thead th {\n",
       "        text-align: right;\n",
       "    }\n",
       "</style>\n",
       "<table border=\"1\" class=\"dataframe\">\n",
       "  <thead>\n",
       "    <tr style=\"text-align: right;\">\n",
       "      <th></th>\n",
       "      <th>confirmed</th>\n",
       "      <th>deaths</th>\n",
       "      <th>new_confirmed</th>\n",
       "      <th>new_deaths</th>\n",
       "      <th>tagged_day</th>\n",
       "      <th>Total tests per million people</th>\n",
       "      <th>Total confirmed deaths due to COVID-19 per million people (deaths per million)</th>\n",
       "    </tr>\n",
       "  </thead>\n",
       "  <tbody>\n",
       "    <tr>\n",
       "      <td>confirmed</td>\n",
       "      <td>1.000000</td>\n",
       "      <td>0.896063</td>\n",
       "      <td>-0.214460</td>\n",
       "      <td>0.392806</td>\n",
       "      <td>0.920528</td>\n",
       "      <td>0.940372</td>\n",
       "      <td>0.896894</td>\n",
       "    </tr>\n",
       "    <tr>\n",
       "      <td>deaths</td>\n",
       "      <td>0.896063</td>\n",
       "      <td>1.000000</td>\n",
       "      <td>-0.411539</td>\n",
       "      <td>0.151518</td>\n",
       "      <td>0.982953</td>\n",
       "      <td>0.991286</td>\n",
       "      <td>0.999889</td>\n",
       "    </tr>\n",
       "    <tr>\n",
       "      <td>new_confirmed</td>\n",
       "      <td>-0.214460</td>\n",
       "      <td>-0.411539</td>\n",
       "      <td>1.000000</td>\n",
       "      <td>0.181526</td>\n",
       "      <td>-0.316819</td>\n",
       "      <td>-0.369502</td>\n",
       "      <td>-0.414068</td>\n",
       "    </tr>\n",
       "    <tr>\n",
       "      <td>new_deaths</td>\n",
       "      <td>0.392806</td>\n",
       "      <td>0.151518</td>\n",
       "      <td>0.181526</td>\n",
       "      <td>1.000000</td>\n",
       "      <td>0.177280</td>\n",
       "      <td>0.202687</td>\n",
       "      <td>0.148119</td>\n",
       "    </tr>\n",
       "    <tr>\n",
       "      <td>tagged_day</td>\n",
       "      <td>0.920528</td>\n",
       "      <td>0.982953</td>\n",
       "      <td>-0.316819</td>\n",
       "      <td>0.177280</td>\n",
       "      <td>1.000000</td>\n",
       "      <td>0.991680</td>\n",
       "      <td>0.982512</td>\n",
       "    </tr>\n",
       "    <tr>\n",
       "      <td>Total tests per million people</td>\n",
       "      <td>0.940372</td>\n",
       "      <td>0.991286</td>\n",
       "      <td>-0.369502</td>\n",
       "      <td>0.202687</td>\n",
       "      <td>0.991680</td>\n",
       "      <td>1.000000</td>\n",
       "      <td>0.991446</td>\n",
       "    </tr>\n",
       "    <tr>\n",
       "      <td>Total confirmed deaths due to COVID-19 per million people (deaths per million)</td>\n",
       "      <td>0.896894</td>\n",
       "      <td>0.999889</td>\n",
       "      <td>-0.414068</td>\n",
       "      <td>0.148119</td>\n",
       "      <td>0.982512</td>\n",
       "      <td>0.991446</td>\n",
       "      <td>1.000000</td>\n",
       "    </tr>\n",
       "  </tbody>\n",
       "</table>\n",
       "</div>"
      ],
      "text/plain": [
       "                                                    confirmed    deaths  \\\n",
       "confirmed                                            1.000000  0.896063   \n",
       "deaths                                               0.896063  1.000000   \n",
       "new_confirmed                                       -0.214460 -0.411539   \n",
       "new_deaths                                           0.392806  0.151518   \n",
       "tagged_day                                           0.920528  0.982953   \n",
       "Total tests per million people                       0.940372  0.991286   \n",
       "Total confirmed deaths due to COVID-19 per mill...   0.896894  0.999889   \n",
       "\n",
       "                                                    new_confirmed  new_deaths  \\\n",
       "confirmed                                               -0.214460    0.392806   \n",
       "deaths                                                  -0.411539    0.151518   \n",
       "new_confirmed                                            1.000000    0.181526   \n",
       "new_deaths                                               0.181526    1.000000   \n",
       "tagged_day                                              -0.316819    0.177280   \n",
       "Total tests per million people                          -0.369502    0.202687   \n",
       "Total confirmed deaths due to COVID-19 per mill...      -0.414068    0.148119   \n",
       "\n",
       "                                                    tagged_day  \\\n",
       "confirmed                                             0.920528   \n",
       "deaths                                                0.982953   \n",
       "new_confirmed                                        -0.316819   \n",
       "new_deaths                                            0.177280   \n",
       "tagged_day                                            1.000000   \n",
       "Total tests per million people                        0.991680   \n",
       "Total confirmed deaths due to COVID-19 per mill...    0.982512   \n",
       "\n",
       "                                                    Total tests per million people  \\\n",
       "confirmed                                                                 0.940372   \n",
       "deaths                                                                    0.991286   \n",
       "new_confirmed                                                            -0.369502   \n",
       "new_deaths                                                                0.202687   \n",
       "tagged_day                                                                0.991680   \n",
       "Total tests per million people                                            1.000000   \n",
       "Total confirmed deaths due to COVID-19 per mill...                        0.991446   \n",
       "\n",
       "                                                    Total confirmed deaths due to COVID-19 per million people (deaths per million)  \n",
       "confirmed                                                                                    0.896894                               \n",
       "deaths                                                                                       0.999889                               \n",
       "new_confirmed                                                                               -0.414068                               \n",
       "new_deaths                                                                                   0.148119                               \n",
       "tagged_day                                                                                   0.982512                               \n",
       "Total tests per million people                                                               0.991446                               \n",
       "Total confirmed deaths due to COVID-19 per mill...                                           1.000000                               "
      ]
     },
     "metadata": {},
     "output_type": "display_data"
    }
   ],
   "source": [
    "display(dfkor.corr())\n",
    "display(dfusa.corr())"
   ]
  },
  {
   "cell_type": "markdown",
   "metadata": {},
   "source": [
    "# Split train & test for south korea"
   ]
  },
  {
   "cell_type": "code",
   "execution_count": 200,
   "metadata": {},
   "outputs": [
    {
     "data": {
      "text/plain": [
       "array(['confirmed', 'tagged_day', 'Total tests per million people'],\n",
       "      dtype=object)"
      ]
     },
     "execution_count": 200,
     "metadata": {},
     "output_type": "execute_result"
    }
   ],
   "source": [
    "# dropping new_deaths and using deaths(cumulative) as repsonse variable\n",
    "# dropping new_confirmed, since using cumulative values for confirmed cases & deaths\n",
    "# dropping total confirmed deaths pe rmillion, directly correlated with deaths\n",
    "# country code, since df contains all values of same country\n",
    "# removing date, since tagged_day is added \n",
    "# using deaths as response variable Y\n",
    "X_col_dropped = ['date','deaths','new_confirmed', 'new_deaths', 'country code',\n",
    "                'Total confirmed deaths due to COVID-19 per million people (deaths per million)']\n",
    "X_kor = dfkor.drop(labels=X_col_dropped, axis=1)\n",
    "\n",
    "X_col_names = X_kor.columns.values\n",
    "X_col_names"
   ]
  },
  {
   "cell_type": "code",
   "execution_count": 201,
   "metadata": {
    "scrolled": true
   },
   "outputs": [
    {
     "data": {
      "text/plain": [
       "0    0\n",
       "1    0\n",
       "2    0\n",
       "3    0\n",
       "4    0\n",
       "Name: deaths, dtype: int64"
      ]
     },
     "execution_count": 201,
     "metadata": {},
     "output_type": "execute_result"
    }
   ],
   "source": [
    "y_kor = dfkor.loc[:,'deaths']\n",
    "y_kor.head()"
   ]
  },
  {
   "cell_type": "code",
   "execution_count": 202,
   "metadata": {},
   "outputs": [
    {
     "name": "stdout",
     "output_type": "stream",
     "text": [
      "50 50\n",
      "22 22\n"
     ]
    }
   ],
   "source": [
    "X_train_kor, X_test_kor, y_train_kor, y_test_kor = train_test_split(X_kor, y_kor, test_size=0.3, random_state=1)\n",
    "print(len(X_train_kor),len(y_train_kor))\n",
    "print(len(X_test_kor),len(y_test_kor))"
   ]
  },
  {
   "cell_type": "markdown",
   "metadata": {},
   "source": [
    "# XGB regression"
   ]
  },
  {
   "cell_type": "code",
   "execution_count": 203,
   "metadata": {
    "scrolled": true
   },
   "outputs": [
    {
     "name": "stdout",
     "output_type": "stream",
     "text": [
      "[11:57:33] WARNING: src/objective/regression_obj.cu:152: reg:linear is now deprecated in favor of reg:squarederror.\n"
     ]
    },
    {
     "name": "stderr",
     "output_type": "stream",
     "text": [
      "/opt/anaconda3/lib/python3.7/site-packages/xgboost/core.py:587: FutureWarning: Series.base is deprecated and will be removed in a future version\n",
      "  if getattr(data, 'base', None) is not None and \\\n"
     ]
    },
    {
     "data": {
      "text/plain": [
       "XGBRegressor(base_score=0.5, booster='gbtree', colsample_bylevel=1,\n",
       "             colsample_bynode=1, colsample_bytree=1, gamma=0,\n",
       "             importance_type='gain', learning_rate=0.1, max_delta_step=0,\n",
       "             max_depth=3, min_child_weight=1, missing=None, n_estimators=100,\n",
       "             n_jobs=-1, nthread=None, objective='reg:linear', random_state=0,\n",
       "             reg_alpha=0, reg_lambda=1, scale_pos_weight=1, seed=None,\n",
       "             silent=None, subsample=1, verbosity=1)"
      ]
     },
     "execution_count": 203,
     "metadata": {},
     "output_type": "execute_result"
    }
   ],
   "source": [
    "model_kor = XGBRegressor(n_jobs=-1)\n",
    "model_kor.fit(X_train_kor, y_train_kor)"
   ]
  },
  {
   "cell_type": "code",
   "execution_count": 204,
   "metadata": {},
   "outputs": [
    {
     "data": {
      "text/plain": [
       "array([4.8659046e+01, 4.5080020e+04, 1.5108795e+01, 6.7618555e+04,\n",
       "       3.4823473e+04, 3.5104080e+02, 1.2373523e+04, 3.4823473e+04,\n",
       "       2.2669375e+03, 5.1487152e+04, 1.2373523e+04, 2.2669375e+03,\n",
       "       7.8755999e+00, 2.6083348e+04, 5.3653169e+03, 6.4982090e+03,\n",
       "       3.6387291e+01, 4.5080020e+04, 2.2669375e+03, 6.0954379e+04,\n",
       "       4.5080020e+04, 6.7618555e+04], dtype=float32)"
      ]
     },
     "execution_count": 204,
     "metadata": {},
     "output_type": "execute_result"
    }
   ],
   "source": [
    "y_pred_kor = model_kor.predict(X_test_kor)\n",
    "y_pred_kor"
   ]
  },
  {
   "cell_type": "code",
   "execution_count": 205,
   "metadata": {},
   "outputs": [
    {
     "name": "stdout",
     "output_type": "stream",
     "text": [
      "MSE for South Korea: 4111688.42\n",
      "MAE for South Korea: 1548.61\n",
      "RMSE for South Korea: 2027.73\n"
     ]
    }
   ],
   "source": [
    "mse = mean_squared_error(y_test_kor,y_pred_kor)\n",
    "mae = mean_absolute_error(y_test_kor,y_pred_kor)\n",
    "# r2_score = r2_score(y_test_kor,y_pred_kor)\n",
    "print(\"MSE for South Korea: %.2f\" % mse)\n",
    "print(\"MAE for South Korea: %.2f\" % mae)\n",
    "print(\"RMSE for South Korea: %.2f\" % np.sqrt(mse))\n",
    "# print(\"Coefficient of determination for South Korea: %.2f\" % r2_score)"
   ]
  },
  {
   "cell_type": "markdown",
   "metadata": {},
   "source": [
    "### Min Max Scaling"
   ]
  },
  {
   "cell_type": "code",
   "execution_count": 206,
   "metadata": {},
   "outputs": [
    {
     "data": {
      "text/plain": [
       "array([[2.22203770e-03, 2.67605634e-01, 4.16812917e-03],\n",
       "       [6.30040688e-01, 7.74647887e-01, 5.15838891e-01],\n",
       "       [1.37839409e-04, 1.40845070e-01, 0.00000000e+00],\n",
       "       [9.40370340e-01, 9.57746479e-01, 9.02027027e-01],\n",
       "       [5.80964046e-01, 7.46478873e-01, 4.74903475e-01],\n",
       "       [2.12148136e-02, 3.66197183e-01, 2.72025272e-02],\n",
       "       [2.28610811e-01, 5.49295775e-01, 1.91163566e-01],\n",
       "       [6.07943204e-01, 7.60563380e-01, 4.93769744e-01],\n",
       "       [1.00817072e-01, 4.64788732e-01, 1.01658477e-01],\n",
       "       [7.21679814e-01, 8.30985915e-01, 6.22235872e-01],\n",
       "       [2.56247613e-01, 5.63380282e-01, 2.21481221e-01],\n",
       "       [6.95715353e-02, 4.36619718e-01, 7.41488241e-02],\n",
       "       [4.98214731e-06, 2.81690141e-02, 0.00000000e+00],\n",
       "       [4.82079216e-01, 6.90140845e-01, 3.94392769e-01],\n",
       "       [1.34335299e-01, 4.92957746e-01, 1.28992629e-01],\n",
       "       [2.02251100e-01, 5.35211268e-01, 1.73613549e-01],\n",
       "       [7.53964959e-04, 2.11267606e-01, 1.18462618e-03],\n",
       "       [6.51228930e-01, 7.88732394e-01, 5.35407160e-01],\n",
       "       [1.16962551e-01, 4.78873239e-01, 1.13416988e-01],\n",
       "       [8.87962302e-01, 9.29577465e-01, 8.29194454e-01],\n",
       "       [6.97749730e-01, 8.16901408e-01, 5.96788347e-01],\n",
       "       [9.80091339e-01, 9.85915493e-01, 9.65689716e-01]])"
      ]
     },
     "execution_count": 206,
     "metadata": {},
     "output_type": "execute_result"
    }
   ],
   "source": [
    "min_max_scaler = MinMaxScaler()\n",
    "X_train_kor_minmax = min_max_scaler.fit_transform(X_train_kor)# fit training set\n",
    "X_test_kor_minmax = min_max_scaler.transform(X_test_kor)# test set transform only, no fit\n",
    "X_test_kor_minmax"
   ]
  },
  {
   "cell_type": "code",
   "execution_count": 207,
   "metadata": {},
   "outputs": [
    {
     "name": "stdout",
     "output_type": "stream",
     "text": [
      "[11:57:33] WARNING: src/objective/regression_obj.cu:152: reg:linear is now deprecated in favor of reg:squarederror.\n"
     ]
    },
    {
     "name": "stderr",
     "output_type": "stream",
     "text": [
      "/opt/anaconda3/lib/python3.7/site-packages/xgboost/core.py:587: FutureWarning: Series.base is deprecated and will be removed in a future version\n",
      "  if getattr(data, 'base', None) is not None and \\\n"
     ]
    },
    {
     "data": {
      "text/plain": [
       "XGBRegressor(base_score=0.5, booster='gbtree', colsample_bylevel=1,\n",
       "             colsample_bynode=1, colsample_bytree=1, gamma=0,\n",
       "             importance_type='gain', learning_rate=0.1, max_delta_step=0,\n",
       "             max_depth=3, min_child_weight=1, missing=None, n_estimators=100,\n",
       "             n_jobs=-1, nthread=None, objective='reg:linear', random_state=0,\n",
       "             reg_alpha=0, reg_lambda=1, scale_pos_weight=1, seed=None,\n",
       "             silent=None, subsample=1, verbosity=1)"
      ]
     },
     "execution_count": 207,
     "metadata": {},
     "output_type": "execute_result"
    }
   ],
   "source": [
    "model_kor = XGBRegressor(n_jobs=-1)\n",
    "model_kor.fit(X_train_kor_minmax, y_train_kor)"
   ]
  },
  {
   "cell_type": "code",
   "execution_count": 208,
   "metadata": {},
   "outputs": [
    {
     "data": {
      "text/plain": [
       "array([4.8659046e+01, 4.5080020e+04, 1.5108795e+01, 6.7618555e+04,\n",
       "       3.4823473e+04, 3.5104080e+02, 1.2373523e+04, 3.4823473e+04,\n",
       "       2.2669375e+03, 5.1487152e+04, 1.2373523e+04, 2.2669375e+03,\n",
       "       7.8755999e+00, 2.6083348e+04, 5.3653169e+03, 6.4982090e+03,\n",
       "       3.6387291e+01, 4.5080020e+04, 2.2669375e+03, 6.0954379e+04,\n",
       "       4.5080020e+04, 6.7618555e+04], dtype=float32)"
      ]
     },
     "execution_count": 208,
     "metadata": {},
     "output_type": "execute_result"
    }
   ],
   "source": [
    "y_pred_kor_minmax = model_kor.predict(X_test_kor_minmax)\n",
    "y_pred_kor_minmax"
   ]
  },
  {
   "cell_type": "code",
   "execution_count": 209,
   "metadata": {},
   "outputs": [
    {
     "name": "stdout",
     "output_type": "stream",
     "text": [
      "MSE for South Korea: 4111688.42\n",
      "MAE for South Korea: 1548.61\n",
      "RMSE for South Korea: 2027.73\n"
     ]
    }
   ],
   "source": [
    "mse = mean_squared_error(y_test_kor,y_pred_kor_minmax)\n",
    "mae = mean_absolute_error(y_test_kor,y_pred_kor_minmax)\n",
    "# r2_score = r2_score(y_test_kor,y_pred_kor_minmax)\n",
    "print(\"MSE for South Korea: %.2f\" % mse)\n",
    "print(\"MAE for South Korea: %.2f\" % mae)\n",
    "print(\"RMSE for South Korea: %.2f\" % np.sqrt(mse))\n",
    "# print(\"Coefficient of determination for South Korea: %.2f\" % r2_score)"
   ]
  },
  {
   "cell_type": "markdown",
   "metadata": {},
   "source": [
    "### GridSearch: param tuning for south korea"
   ]
  },
  {
   "cell_type": "code",
   "execution_count": 210,
   "metadata": {},
   "outputs": [
    {
     "data": {
      "text/plain": [
       "{'learning_rate': [0.01, 0.025, 0.05, 0.1, 0.15, 0.2],\n",
       " 'max_depth': [1, 2, 3, 4, 5],\n",
       " 'subsample': [0.25, 0.5, 1, 1.5],\n",
       " 'n_estimators': [400, 600, 800, 1000, 1200]}"
      ]
     },
     "execution_count": 210,
     "metadata": {},
     "output_type": "execute_result"
    }
   ],
   "source": [
    "learning_rate_range = [0.01, 0.025,0.05, 0.1, 0.15, 0.2]\n",
    "max_depth_range = [1,2,3,4,5]\n",
    "subsample_range = [0.25, 0.5,1, 1.5]\n",
    "n_estimators_range = [400, 600,800,1000, 1200]\n",
    "\n",
    "param_grid = dict(learning_rate=learning_rate_range, max_depth=max_depth_range,\n",
    "                  subsample=subsample_range, n_estimators=n_estimators_range)\n",
    "param_grid"
   ]
  },
  {
   "cell_type": "code",
   "execution_count": 211,
   "metadata": {},
   "outputs": [
    {
     "name": "stdout",
     "output_type": "stream",
     "text": [
      "[11:57:47] WARNING: src/objective/regression_obj.cu:152: reg:linear is now deprecated in favor of reg:squarederror.\n",
      "XGBRegressor(base_score=0.5, booster='gbtree', colsample_bylevel=1,\n",
      "             colsample_bynode=1, colsample_bytree=1, gamma=0,\n",
      "             importance_type='gain', learning_rate=0.025, max_delta_step=0,\n",
      "             max_depth=5, min_child_weight=1, missing=None, n_estimators=1000,\n",
      "             n_jobs=-1, nthread=None, objective='reg:linear', random_state=0,\n",
      "             reg_alpha=0, reg_lambda=1, scale_pos_weight=1, seed=None,\n",
      "             silent=None, subsample=0.25, verbosity=1)\n",
      "time taken for grid search =  14.351891279220581\n"
     ]
    },
    {
     "name": "stderr",
     "output_type": "stream",
     "text": [
      "/opt/anaconda3/lib/python3.7/site-packages/xgboost/core.py:587: FutureWarning: Series.base is deprecated and will be removed in a future version\n",
      "  if getattr(data, 'base', None) is not None and \\\n"
     ]
    }
   ],
   "source": [
    "start_time = time.time()\n",
    "grid = GridSearchCV(XGBRegressor(n_jobs=-1), \n",
    "                    param_grid=param_grid, \n",
    "                    n_jobs=-1)\n",
    "grid.fit(X_train_kor_minmax, y_train_kor)\n",
    "print(grid.best_estimator_)\n",
    "print(\"time taken for grid search = \", time.time() - start_time)"
   ]
  },
  {
   "cell_type": "code",
   "execution_count": 212,
   "metadata": {},
   "outputs": [
    {
     "data": {
      "text/plain": [
       "array([6.2870884e+01, 4.0652551e+04, 1.3021828e+01, 6.6968742e+04,\n",
       "       3.5588836e+04, 4.2735355e+02, 9.4699932e+03, 3.8676043e+04,\n",
       "       3.6199087e+03, 4.7862699e+04, 1.1215081e+04, 1.9992395e+03,\n",
       "       5.4464900e-01, 2.8996744e+04, 5.1954429e+03, 7.3902100e+03,\n",
       "       3.0398708e+01, 4.3525176e+04, 4.9662192e+03, 6.2619441e+04,\n",
       "       4.6302715e+04, 6.8544758e+04], dtype=float32)"
      ]
     },
     "execution_count": 212,
     "metadata": {},
     "output_type": "execute_result"
    }
   ],
   "source": [
    "y_pred_kor_minmax = grid.best_estimator_.predict(X_test_kor_minmax)\n",
    "y_pred_kor_minmax"
   ]
  },
  {
   "cell_type": "code",
   "execution_count": 213,
   "metadata": {},
   "outputs": [
    {
     "name": "stdout",
     "output_type": "stream",
     "text": [
      "MSE for South Korea: 756751.61\n",
      "MAE for South Korea: 652.67\n",
      "RMSE for South Korea: 869.91\n"
     ]
    }
   ],
   "source": [
    "mse = mean_squared_error(y_test_kor,y_pred_kor_minmax)\n",
    "mae = mean_absolute_error(y_test_kor,y_pred_kor_minmax)\n",
    "# r2_score = r2_score(y_test_kor,y_pred_kor_minmax)\n",
    "print(\"MSE for South Korea: %.2f\" % mse)\n",
    "print(\"MAE for South Korea: %.2f\" % mae)\n",
    "print(\"RMSE for South Korea: %.2f\" % np.sqrt(mse))\n",
    "# print(\"Coefficient of determination for South Korea: %.2f\" % r2_score)"
   ]
  },
  {
   "cell_type": "code",
   "execution_count": 214,
   "metadata": {},
   "outputs": [
    {
     "data": {
      "image/png": "[encoded data removed]",
      "text/plain": [
       "<Figure size 432x288 with 1 Axes>"
      ]
     },
     "metadata": {
      "needs_background": "light"
     },
     "output_type": "display_data"
    }
   ],
   "source": [
    "# actual vs predicted for South Korea\n",
    "x_ax = range(len(y_test_kor))\n",
    "plt.scatter(x_ax, y_test_kor, color=\"red\", label=\"actual\")\n",
    "plt.plot(x_ax, y_pred_kor_minmax, lw=0.8, color=\"blue\", label=\"predicted\")\n",
    "plt.legend()\n",
    "plt.show()"
   ]
  },
  {
   "cell_type": "code",
   "execution_count": 215,
   "metadata": {},
   "outputs": [
    {
     "data": {
      "image/png": "[encoded data removed]",
      "text/plain": [
       "<Figure size 432x288 with 1 Axes>"
      ]
     },
     "metadata": {
      "needs_background": "light"
     },
     "output_type": "display_data"
    }
   ],
   "source": [
    "plt.figure()\n",
    "plt.scatter(x=X_test_kor.loc[:,'tagged_day'], y=y_test_kor, color = \"red\", label=\"actual\")\n",
    "plt.scatter(x=X_test_kor.loc[:,'tagged_day'], y=y_pred_kor_minmax, color = \"blue\", label=\"predicted\")\n",
    "plt.legend()\n",
    "plt.show()"
   ]
  },
  {
   "cell_type": "markdown",
   "metadata": {},
   "source": [
    "# Split train & test for USA"
   ]
  },
  {
   "cell_type": "code",
   "execution_count": 216,
   "metadata": {},
   "outputs": [
    {
     "data": {
      "text/plain": [
       "array(['confirmed', 'tagged_day', 'Total tests per million people'],\n",
       "      dtype=object)"
      ]
     },
     "execution_count": 216,
     "metadata": {},
     "output_type": "execute_result"
    }
   ],
   "source": [
    "# dropping new_deaths and using deaths(cumulative) as repsonse variable\n",
    "# dropping new_confirmed, since using cumulative values for confirmed cases & deaths\n",
    "# dropping total confirmed deaths pe rmillion, directly correlated with deaths\n",
    "# country code, since df contains all values of same country\n",
    "# using deaths as response variable Y\n",
    "X_usa = dfusa.drop(labels=X_col_dropped, axis=1)\n",
    "\n",
    "X_col_names2 = X_usa.columns.values\n",
    "X_col_names2"
   ]
  },
  {
   "cell_type": "code",
   "execution_count": 217,
   "metadata": {},
   "outputs": [
    {
     "data": {
      "text/plain": [
       "0    0\n",
       "1    0\n",
       "2    0\n",
       "3    0\n",
       "4    0\n",
       "Name: deaths, dtype: int64"
      ]
     },
     "execution_count": 217,
     "metadata": {},
     "output_type": "execute_result"
    }
   ],
   "source": [
    "y_usa = dfusa.loc[:,'deaths']\n",
    "y_kor.head()"
   ]
  },
  {
   "cell_type": "code",
   "execution_count": 218,
   "metadata": {},
   "outputs": [
    {
     "name": "stdout",
     "output_type": "stream",
     "text": [
      "63 63\n",
      "27 27\n"
     ]
    }
   ],
   "source": [
    "X_train_usa, X_test_usa, y_train_usa, y_test_usa = train_test_split(X_usa, y_usa, test_size=0.3, random_state=1)\n",
    "print(len(X_train_usa),len(y_train_usa))\n",
    "print(len(X_test_usa),len(y_test_usa))"
   ]
  },
  {
   "cell_type": "markdown",
   "metadata": {},
   "source": [
    "## XGB regression"
   ]
  },
  {
   "cell_type": "code",
   "execution_count": 219,
   "metadata": {
    "scrolled": true
   },
   "outputs": [
    {
     "name": "stdout",
     "output_type": "stream",
     "text": [
      "[11:57:48] WARNING: src/objective/regression_obj.cu:152: reg:linear is now deprecated in favor of reg:squarederror.\n"
     ]
    },
    {
     "name": "stderr",
     "output_type": "stream",
     "text": [
      "/opt/anaconda3/lib/python3.7/site-packages/xgboost/core.py:587: FutureWarning: Series.base is deprecated and will be removed in a future version\n",
      "  if getattr(data, 'base', None) is not None and \\\n"
     ]
    },
    {
     "data": {
      "text/plain": [
       "XGBRegressor(base_score=0.5, booster='gbtree', colsample_bylevel=1,\n",
       "             colsample_bynode=1, colsample_bytree=1, gamma=0,\n",
       "             importance_type='gain', learning_rate=0.1, max_delta_step=0,\n",
       "             max_depth=3, min_child_weight=1, missing=None, n_estimators=100,\n",
       "             n_jobs=-1, nthread=None, objective='reg:linear', random_state=0,\n",
       "             reg_alpha=0, reg_lambda=1, scale_pos_weight=1, seed=None,\n",
       "             silent=None, subsample=1, verbosity=1)"
      ]
     },
     "execution_count": 219,
     "metadata": {},
     "output_type": "execute_result"
    }
   ],
   "source": [
    "model_usa = XGBRegressor(n_jobs=-1)\n",
    "model_usa.fit(X_train_usa, y_train_usa)"
   ]
  },
  {
   "cell_type": "code",
   "execution_count": 220,
   "metadata": {},
   "outputs": [
    {
     "data": {
      "text/plain": [
       "array([1.8294275e+02, 2.4200294e+02, 9.0935036e+01, 1.6994531e+02,\n",
       "       2.5341251e+02, 2.3696019e+02, 1.9204283e+02, 1.4414436e+02,\n",
       "       1.1941342e+02, 7.2003632e+01, 8.3845055e+01, 4.4001102e+01,\n",
       "       2.2979362e+02, 2.8003805e+01, 7.2003632e+01, 2.1744371e+02,\n",
       "       4.1568726e-02, 4.1568726e-02, 2.5341251e+02, 2.2979362e+02,\n",
       "       1.6103380e+02, 8.0109768e+00, 2.4987506e+02, 7.2003632e+01,\n",
       "       5.9977287e+01, 5.9977287e+01, 1.1941342e+02], dtype=float32)"
      ]
     },
     "execution_count": 220,
     "metadata": {},
     "output_type": "execute_result"
    }
   ],
   "source": [
    "y_pred_usa = model_usa.predict(X_test_usa)\n",
    "y_pred_usa"
   ]
  },
  {
   "cell_type": "code",
   "execution_count": 221,
   "metadata": {},
   "outputs": [
    {
     "name": "stdout",
     "output_type": "stream",
     "text": [
      "MSE for USA: 22.63\n",
      "MAE for USA: 4.02\n",
      "RMSE for USA: 4.76\n",
      "Coefficient of determination for USA: 1.00\n"
     ]
    }
   ],
   "source": [
    "mse = mean_squared_error(y_test_usa,y_pred_usa)\n",
    "mae = mean_absolute_error(y_test_usa,y_pred_usa)\n",
    "r2_score = r2_score(y_test_usa,y_pred_usa)\n",
    "print(\"MSE for USA: %.2f\" % mse)\n",
    "print(\"MAE for USA: %.2f\" % mae)\n",
    "print(\"RMSE for USA: %.2f\" % np.sqrt(mse))\n",
    "print(\"Coefficient of determination for USA: %.2f\" % r2_score)"
   ]
  },
  {
   "cell_type": "markdown",
   "metadata": {},
   "source": [
    "### MinMax scaling"
   ]
  },
  {
   "cell_type": "code",
   "execution_count": 222,
   "metadata": {},
   "outputs": [
    {
     "data": {
      "text/plain": [
       "array([[9.39894258e-01, 6.59090909e-01, 7.17363136e-01],\n",
       "       [9.92023003e-01, 8.86363636e-01, 9.29867185e-01],\n",
       "       [8.00389574e-01, 4.88636364e-01, 4.98785228e-01],\n",
       "       [9.14942955e-01, 6.25000000e-01, 6.64480078e-01],\n",
       "       [9.99721733e-01, 9.88636364e-01, 9.95302883e-01],\n",
       "       [9.87941749e-01, 8.40909091e-01, 8.87998056e-01],\n",
       "       [9.51766997e-01, 6.81818182e-01, 7.35989634e-01],\n",
       "       [8.86745200e-01, 5.90909091e-01, 6.21234208e-01],\n",
       "       [8.29051108e-01, 5.22727273e-01, 5.32555879e-01],\n",
       "       [7.61803172e-01, 4.43181818e-01, 4.32215743e-01],\n",
       "       [7.69594657e-01, 4.54545455e-01, 4.51490120e-01],\n",
       "       [6.76282349e-01, 3.52272727e-01, 2.96404276e-01],\n",
       "       [9.80243020e-01, 7.84090909e-01, 8.42970522e-01],\n",
       "       [5.19246823e-01, 3.06818182e-01, 2.14528669e-01],\n",
       "       [7.54939245e-01, 4.31818182e-01, 4.22254616e-01],\n",
       "       [9.77738614e-01, 7.72727273e-01, 8.31794623e-01],\n",
       "       [5.56534644e-04, 1.13636364e-01, 1.10949142e-02],\n",
       "       [9.27557740e-05, 2.27272727e-02, 1.29575640e-03],\n",
       "       [1.00018551e+00, 1.01136364e+00, 1.00996113e+00],\n",
       "       [9.82283647e-01, 7.95454545e-01, 8.49692258e-01],\n",
       "       [8.93980150e-01, 6.02272727e-01, 6.22853903e-01],\n",
       "       [8.84890084e-02, 2.15909091e-01, 5.66083576e-02],\n",
       "       [9.97217327e-01, 9.54545455e-01, 9.77810172e-01],\n",
       "       [7.37964938e-01, 4.09090909e-01, 3.91399417e-01],\n",
       "       [6.94740748e-01, 3.75000000e-01, 3.30579851e-01],\n",
       "       [6.91494296e-01, 3.63636364e-01, 3.09199870e-01],\n",
       "       [8.29051108e-01, 5.11363636e-01, 5.22675737e-01]])"
      ]
     },
     "execution_count": 222,
     "metadata": {},
     "output_type": "execute_result"
    }
   ],
   "source": [
    "min_max_scaler = MinMaxScaler()\n",
    "X_train_usa_minmax = min_max_scaler.fit_transform(X_train_usa)# fit training set\n",
    "X_test_usa_minmax = min_max_scaler.transform(X_test_usa)# test set transform only, no fit\n",
    "X_test_usa_minmax"
   ]
  },
  {
   "cell_type": "code",
   "execution_count": 223,
   "metadata": {},
   "outputs": [
    {
     "name": "stdout",
     "output_type": "stream",
     "text": [
      "[11:57:48] WARNING: src/objective/regression_obj.cu:152: reg:linear is now deprecated in favor of reg:squarederror.\n"
     ]
    },
    {
     "name": "stderr",
     "output_type": "stream",
     "text": [
      "/opt/anaconda3/lib/python3.7/site-packages/xgboost/core.py:587: FutureWarning: Series.base is deprecated and will be removed in a future version\n",
      "  if getattr(data, 'base', None) is not None and \\\n"
     ]
    },
    {
     "data": {
      "text/plain": [
       "XGBRegressor(base_score=0.5, booster='gbtree', colsample_bylevel=1,\n",
       "             colsample_bynode=1, colsample_bytree=1, gamma=0,\n",
       "             importance_type='gain', learning_rate=0.1, max_delta_step=0,\n",
       "             max_depth=3, min_child_weight=1, missing=None, n_estimators=100,\n",
       "             n_jobs=-1, nthread=None, objective='reg:linear', random_state=0,\n",
       "             reg_alpha=0, reg_lambda=1, scale_pos_weight=1, seed=None,\n",
       "             silent=None, subsample=1, verbosity=1)"
      ]
     },
     "execution_count": 223,
     "metadata": {},
     "output_type": "execute_result"
    }
   ],
   "source": [
    "model_usa = XGBRegressor(n_jobs=-1)\n",
    "model_usa.fit(X_train_usa_minmax, y_train_usa)"
   ]
  },
  {
   "cell_type": "code",
   "execution_count": 224,
   "metadata": {},
   "outputs": [
    {
     "data": {
      "text/plain": [
       "array([1.8294275e+02, 2.4200294e+02, 9.0935036e+01, 1.6994531e+02,\n",
       "       2.5341251e+02, 2.3696019e+02, 1.9204283e+02, 1.4414436e+02,\n",
       "       1.1941342e+02, 7.2003632e+01, 8.3845055e+01, 4.4001102e+01,\n",
       "       2.2979362e+02, 2.8003805e+01, 7.2003632e+01, 2.1744371e+02,\n",
       "       4.1568726e-02, 4.1568726e-02, 2.5341251e+02, 2.2979362e+02,\n",
       "       1.6103380e+02, 8.0109768e+00, 2.4987506e+02, 7.2003632e+01,\n",
       "       5.9977287e+01, 5.9977287e+01, 1.1941342e+02], dtype=float32)"
      ]
     },
     "execution_count": 224,
     "metadata": {},
     "output_type": "execute_result"
    }
   ],
   "source": [
    "y_pred_usa_minmax = model_usa.predict(X_test_usa_minmax)\n",
    "y_pred_usa_minmax"
   ]
  },
  {
   "cell_type": "code",
   "execution_count": 225,
   "metadata": {},
   "outputs": [
    {
     "name": "stdout",
     "output_type": "stream",
     "text": [
      "MSE for USA: 22.63\n",
      "MAE for USA: 4.02\n",
      "RMSE for USA: 4.76\n"
     ]
    }
   ],
   "source": [
    "mse = mean_squared_error(y_test_usa,y_pred_usa_minmax)\n",
    "mae = mean_absolute_error(y_test_usa,y_pred_usa_minmax)\n",
    "# r2_score = r2_score(y_test_kor,y_pred_kor_minmax)\n",
    "print(\"MSE for USA: %.2f\" % mse)\n",
    "print(\"MAE for USA: %.2f\" % mae)\n",
    "print(\"RMSE for USA: %.2f\" % np.sqrt(mse))\n",
    "# print(\"Coefficient of determination for South Korea: %.2f\" % r2_score)"
   ]
  },
  {
   "cell_type": "markdown",
   "metadata": {},
   "source": [
    "### GridSearch: param tuning for USA"
   ]
  },
  {
   "cell_type": "code",
   "execution_count": 226,
   "metadata": {},
   "outputs": [
    {
     "data": {
      "text/plain": [
       "{'learning_rate': [0.01, 0.025, 0.05, 0.1, 0.15, 0.2],\n",
       " 'max_depth': [1, 2, 3, 4, 5],\n",
       " 'subsample': [0.25, 0.5, 1, 1.5],\n",
       " 'n_estimators': [400, 600, 800, 1000, 1200]}"
      ]
     },
     "execution_count": 226,
     "metadata": {},
     "output_type": "execute_result"
    }
   ],
   "source": [
    "learning_rate_range = [0.01, 0.025,0.05, 0.1, 0.15, 0.2]\n",
    "max_depth_range = [1,2,3,4,5]\n",
    "subsample_range = [0.25, 0.5,1, 1.5]\n",
    "n_estimators_range = [400, 600,800,1000, 1200]\n",
    "\n",
    "param_grid = dict(learning_rate=learning_rate_range, max_depth=max_depth_range,\n",
    "                  subsample=subsample_range, n_estimators=n_estimators_range)\n",
    "param_grid"
   ]
  },
  {
   "cell_type": "code",
   "execution_count": 227,
   "metadata": {},
   "outputs": [
    {
     "name": "stdout",
     "output_type": "stream",
     "text": [
      "[11:58:01] WARNING: src/objective/regression_obj.cu:152: reg:linear is now deprecated in favor of reg:squarederror.\n",
      "XGBRegressor(base_score=0.5, booster='gbtree', colsample_bylevel=1,\n",
      "             colsample_bynode=1, colsample_bytree=1, gamma=0,\n",
      "             importance_type='gain', learning_rate=0.01, max_delta_step=0,\n",
      "             max_depth=3, min_child_weight=1, missing=None, n_estimators=1200,\n",
      "             n_jobs=-1, nthread=None, objective='reg:linear', random_state=0,\n",
      "             reg_alpha=0, reg_lambda=1, scale_pos_weight=1, seed=None,\n",
      "             silent=None, subsample=0.5, verbosity=1)\n",
      "time taken for grid search =  13.481016159057617\n"
     ]
    },
    {
     "name": "stderr",
     "output_type": "stream",
     "text": [
      "/opt/anaconda3/lib/python3.7/site-packages/xgboost/core.py:587: FutureWarning: Series.base is deprecated and will be removed in a future version\n",
      "  if getattr(data, 'base', None) is not None and \\\n"
     ]
    }
   ],
   "source": [
    "start_time = time.time()\n",
    "grid = GridSearchCV(XGBRegressor(n_jobs=-1), \n",
    "                    param_grid=param_grid, \n",
    "                    n_jobs=-1)\n",
    "grid.fit(X_train_usa_minmax, y_train_usa)\n",
    "print(grid.best_estimator_)\n",
    "print(\"time taken for grid search = \", time.time() - start_time)"
   ]
  },
  {
   "cell_type": "code",
   "execution_count": 228,
   "metadata": {},
   "outputs": [],
   "source": [
    "# grid search results into selecting upper boundary values of max_ddepth & n_estimators. \n",
    "# may lead to overfitting, hence estimator values above 1200 are not added into grid search range"
   ]
  },
  {
   "cell_type": "code",
   "execution_count": 229,
   "metadata": {},
   "outputs": [
    {
     "data": {
      "text/plain": [
       "array([1.77990860e+02, 2.41276550e+02, 9.42500763e+01, 1.68207687e+02,\n",
       "       2.52499420e+02, 2.36029327e+02, 1.84754761e+02, 1.49504700e+02,\n",
       "       1.14569695e+02, 7.74661865e+01, 8.06721573e+01, 4.80339317e+01,\n",
       "       2.27548096e+02, 2.95650978e+01, 7.54876556e+01, 2.20401947e+02,\n",
       "       2.52581239e-02, 2.52581239e-02, 2.52499420e+02, 2.30411606e+02,\n",
       "       1.54563538e+02, 9.96641541e+00, 2.48976532e+02, 6.93664322e+01,\n",
       "       5.74327164e+01, 5.64133530e+01, 1.14569695e+02], dtype=float32)"
      ]
     },
     "execution_count": 229,
     "metadata": {},
     "output_type": "execute_result"
    }
   ],
   "source": [
    "y_pred_usa_minmax = grid.best_estimator_.predict(X_test_usa_minmax)\n",
    "y_pred_usa_minmax"
   ]
  },
  {
   "cell_type": "code",
   "execution_count": 230,
   "metadata": {},
   "outputs": [
    {
     "name": "stdout",
     "output_type": "stream",
     "text": [
      "MSE for USA: 5.60\n",
      "MAE for USA: 1.87\n",
      "RMSE for USA: 2.37\n"
     ]
    }
   ],
   "source": [
    "mse = mean_squared_error(y_test_usa,y_pred_usa_minmax)\n",
    "mae = mean_absolute_error(y_test_usa,y_pred_usa_minmax)\n",
    "print(\"MSE for USA: %.2f\" % mse)\n",
    "print(\"MAE for USA: %.2f\" % mae)\n",
    "print(\"RMSE for USA: %.2f\" % np.sqrt(mse))\n",
    "# r2_score = r2_score(y_test_kor,y_pred_kor_minmax)\n",
    "# print(\"Coefficient of determination for South Korea: %.2f\" % r2_score)"
   ]
  },
  {
   "cell_type": "code",
   "execution_count": 231,
   "metadata": {},
   "outputs": [
    {
     "data": {
      "image/png": "[encoded data removed]",
      "text/plain": [
       "<Figure size 432x288 with 1 Axes>"
      ]
     },
     "metadata": {
      "needs_background": "light"
     },
     "output_type": "display_data"
    }
   ],
   "source": [
    "# actual vs predicted for USA\n",
    "x_ax = range(len(y_test_usa))\n",
    "plt.scatter(x_ax, y_test_usa, color=\"red\", label=\"actual\")\n",
    "plt.plot(x_ax, y_pred_usa_minmax, lw=0.8, color=\"blue\", label=\"predicted\")\n",
    "plt.legend()\n",
    "plt.show()"
   ]
  },
  {
   "cell_type": "code",
   "execution_count": 232,
   "metadata": {},
   "outputs": [
    {
     "data": {
      "image/png": "[encoded data removed]",
      "text/plain": [
       "<Figure size 432x288 with 1 Axes>"
      ]
     },
     "metadata": {
      "needs_background": "light"
     },
     "output_type": "display_data"
    }
   ],
   "source": [
    "plt.figure()\n",
    "plt.scatter(x=X_test_usa.loc[:,'tagged_day'], y=y_test_usa, color = \"red\", label=\"actual\")\n",
    "plt.scatter(x=X_test_usa.loc[:,'tagged_day'], y=y_pred_usa_minmax, color = \"blue\", label=\"predicted\")\n",
    "plt.legend()\n",
    "plt.show()"
   ]
  },
  {
   "cell_type": "code",
   "execution_count": null,
   "metadata": {},
   "outputs": [],
   "source": []
  }
 ],
 "metadata": {
  "kernelspec": {
   "display_name": "Python 3",
   "language": "python",
   "name": "python3"
  },
  "language_info": {
   "codemirror_mode": {
    "name": "ipython",
    "version": 3
   },
   "file_extension": ".py",
   "mimetype": "text/x-python",
   "name": "python",
   "nbconvert_exporter": "python",
   "pygments_lexer": "ipython3",
   "version": "3.7.4"
  }
 },
 "nbformat": 4,
 "nbformat_minor": 2
}
